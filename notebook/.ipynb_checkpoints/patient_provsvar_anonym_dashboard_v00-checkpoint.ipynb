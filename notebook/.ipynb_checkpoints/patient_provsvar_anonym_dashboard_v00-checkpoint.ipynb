{
 "cells": [
  {
   "cell_type": "markdown",
   "metadata": {
    "id": "G-BKnj5l0ihN"
   },
   "source": [
    "source:\n",
    "- [voila]()\n",
    "- [gallery](https://voila-gallery.org/)\n",
    "- [web]()"
   ]
  },
  {
   "cell_type": "markdown",
   "metadata": {
    "id": "cSVp84NivWeJ"
   },
   "source": [
    "# Patient provsvar anonym resultat"
   ]
  },
  {
   "cell_type": "markdown",
   "metadata": {
    "id": "t1sZzdJdvWeN"
   },
   "source": [
    "## Intro\n",
    "<!--### Why\n",
    "\n",
    "> ...\n",
    "```-->\n",
    "\n",
    "![SU Image](https://static.nichehuset.dk/annoncer/jobannoncer/images/annoncoerer/logoer/2123/1322.png)"
   ]
  },
  {
   "cell_type": "code",
   "execution_count": 32,
   "metadata": {},
   "outputs": [
    {
     "name": "stdout",
     "output_type": "stream",
     "text": [
      "Today's date: 2021-12-19\n"
     ]
    }
   ],
   "source": [
    "from datetime import date\n",
    "\n",
    "today = date.today()\n",
    "print(\"Today's date:\", today)"
   ]
  },
  {
   "cell_type": "code",
   "execution_count": 33,
   "metadata": {},
   "outputs": [
    {
     "name": "stdout",
     "output_type": "stream",
     "text": [
      "alabaster @ file:///home/ktietz/src/ci/alabaster_1611921544520/work\n",
      "anaconda-client==1.7.2\n",
      "anaconda-navigator==2.0.3\n",
      "anaconda-project @ file:///tmp/build/80754af9/anaconda-project_1610472525955/work\n",
      "anyio @ file:///C:/ci/anyio_1620153418380/work/dist\n",
      "appdirs==1.4.4\n",
      "argh==0.26.2\n",
      "argon2-cffi @ file:///C:/ci/argon2-cffi_1613037959010/work\n",
      "asn1crypto @ file:///tmp/build/80754af9/asn1crypto_1596577642040/work\n",
      "astroid @ file:///C:/ci/astroid_1613501047216/work\n",
      "astropy @ file:///C:/ci/astropy_1617745647203/work\n",
      "async-generator @ file:///home/ktietz/src/ci/async_generator_1611927993394/work\n",
      "atomicwrites==1.4.0\n",
      "attrs @ file:///tmp/build/80754af9/attrs_1604765588209/work\n",
      "autopep8 @ file:///tmp/build/80754af9/autopep8_1615918855173/work\n",
      "Babel @ file:///tmp/build/80754af9/babel_1607110387436/work\n",
      "backcall @ file:///home/ktietz/src/ci/backcall_1611930011877/work\n",
      "backports.functools-lru-cache @ file:///tmp/build/80754af9/backports.functools_lru_cache_1618170165463/work\n",
      "backports.shutil-get-terminal-size @ file:///tmp/build/80754af9/backports.shutil_get_terminal_size_1608222128777/work\n",
      "backports.tempfile @ file:///home/linux1/recipes/ci/backports.tempfile_1610991236607/work\n",
      "backports.weakref==1.0.post1\n",
      "bcrypt @ file:///C:/ci/bcrypt_1597936263757/work\n",
      "beautifulsoup4 @ file:///home/linux1/recipes/ci/beautifulsoup4_1610988766420/work\n",
      "bitarray @ file:///C:/ci/bitarray_1618435038389/work\n",
      "bkcharts==0.2\n",
      "black==19.10b0\n",
      "bleach @ file:///tmp/build/80754af9/bleach_1612211392645/work\n",
      "bokeh @ file:///C:/ci/bokeh_1620784067744/work\n",
      "boto==2.49.0\n",
      "Bottleneck==1.3.2\n",
      "branca==0.4.2\n",
      "brotlipy==0.7.0\n",
      "certifi==2020.12.5\n",
      "cffi @ file:///C:/ci/cffi_1613247279197/work\n",
      "chardet @ file:///C:/ci/chardet_1607690654534/work\n",
      "click @ file:///home/linux1/recipes/ci/click_1610990599742/work\n",
      "cloudpickle @ file:///tmp/build/80754af9/cloudpickle_1598884132938/work\n",
      "clyent==1.2.2\n",
      "colorama @ file:///tmp/build/80754af9/colorama_1607707115595/work\n",
      "comtypes==1.1.9\n",
      "conda==4.10.1\n",
      "conda-build==3.21.4\n",
      "conda-content-trust @ file:///tmp/build/80754af9/conda-content-trust_1617045594566/work\n",
      "conda-package-handling @ file:///C:/ci/conda-package-handling_1618262320430/work\n",
      "conda-repo-cli @ file:///tmp/build/80754af9/conda-repo-cli_1620168426516/work\n",
      "conda-token @ file:///tmp/build/80754af9/conda-token_1620076980546/work\n",
      "conda-verify==3.4.2\n",
      "contextlib2==0.6.0.post1\n",
      "cryptography @ file:///C:/ci/cryptography_1616769344312/work\n",
      "cycler==0.10.0\n",
      "Cython @ file:///C:/ci/cython_1618435363327/work\n",
      "cytoolz==0.11.0\n",
      "dask @ file:///tmp/build/80754af9/dask-core_1617390489108/work\n",
      "decorator @ file:///tmp/build/80754af9/decorator_1617916966915/work\n",
      "defusedxml @ file:///tmp/build/80754af9/defusedxml_1615228127516/work\n",
      "diff-match-patch @ file:///tmp/build/80754af9/diff-match-patch_1594828741838/work\n",
      "distributed @ file:///C:/ci/distributed_1617384289923/work\n",
      "docutils @ file:///C:/ci/docutils_1617481617511/work\n",
      "entrypoints==0.3\n",
      "et-xmlfile==1.0.1\n",
      "fastcache==1.1.0\n",
      "filelock @ file:///home/linux1/recipes/ci/filelock_1610993975404/work\n",
      "flake8 @ file:///tmp/build/80754af9/flake8_1615834841867/work\n",
      "Flask @ file:///home/ktietz/src/ci/flask_1611932660458/work\n",
      "folium==0.12.1.post1\n",
      "fsspec @ file:///tmp/build/80754af9/fsspec_1617959894824/work\n",
      "future==0.18.2\n",
      "gevent @ file:///C:/ci/gevent_1616773090559/work\n",
      "glob2 @ file:///home/linux1/recipes/ci/glob2_1610991677669/work\n",
      "greenlet @ file:///C:/ci/greenlet_1611958565931/work\n",
      "h11==0.12.0\n",
      "h5py==2.10.0\n",
      "HeapDict==1.0.1\n",
      "html5lib @ file:///tmp/build/80754af9/html5lib_1593446221756/work\n",
      "idna @ file:///home/linux1/recipes/ci/idna_1610986105248/work\n",
      "imagecodecs @ file:///C:/ci/imagecodecs_1617996768495/work\n",
      "imageio @ file:///tmp/build/80754af9/imageio_1617700267927/work\n",
      "imagesize @ file:///home/ktietz/src/ci/imagesize_1611921604382/work\n",
      "importlib-metadata @ file:///C:/ci/importlib-metadata_1617877484576/work\n",
      "iniconfig @ file:///home/linux1/recipes/ci/iniconfig_1610983019677/work\n",
      "intervaltree @ file:///tmp/build/80754af9/intervaltree_1598376443606/work\n",
      "ipykernel @ file:///C:/ci/ipykernel_1596190155316/work/dist/ipykernel-5.3.4-py3-none-any.whl\n",
      "ipython @ file:///C:/ci/ipython_1617121002983/work\n",
      "ipython-genutils @ file:///tmp/build/80754af9/ipython_genutils_1606773439826/work\n",
      "ipywidgets @ file:///tmp/build/80754af9/ipywidgets_1610481889018/work\n",
      "isort @ file:///tmp/build/80754af9/isort_1616355431277/work\n",
      "itsdangerous @ file:///home/ktietz/src/ci/itsdangerous_1611932585308/work\n",
      "jdcal==1.4.1\n",
      "jedi @ file:///C:/ci/jedi_1606914528444/work\n",
      "Jinja2 @ file:///tmp/build/80754af9/jinja2_1612213139570/work\n",
      "joblib @ file:///tmp/build/80754af9/joblib_1613502643832/work\n",
      "json5==0.9.5\n",
      "jsonschema @ file:///tmp/build/80754af9/jsonschema_1602607155483/work\n",
      "jupyter==1.0.0\n",
      "jupyter-client @ file:///tmp/build/80754af9/jupyter_client_1616770841739/work\n",
      "jupyter-console @ file:///tmp/build/80754af9/jupyter_console_1616615302928/work\n",
      "jupyter-core @ file:///C:/ci/jupyter_core_1612213356021/work\n",
      "jupyter-packaging @ file:///tmp/build/80754af9/jupyter-packaging_1613502826984/work\n",
      "jupyter-server @ file:///C:/ci/jupyter_server_1616084298403/work\n",
      "jupyterlab @ file:///tmp/build/80754af9/jupyterlab_1619133235951/work\n",
      "jupyterlab-pygments @ file:///tmp/build/80754af9/jupyterlab_pygments_1601490720602/work\n",
      "jupyterlab-server @ file:///tmp/build/80754af9/jupyterlab_server_1617134334258/work\n",
      "jupyterlab-widgets @ file:///tmp/build/80754af9/jupyterlab_widgets_1609884341231/work\n",
      "keyring @ file:///C:/ci/keyring_1614616910860/work\n",
      "kiwisolver @ file:///C:/ci/kiwisolver_1612282606037/work\n",
      "lazy-object-proxy @ file:///C:/ci/lazy-object-proxy_1616529307648/work\n",
      "libarchive-c @ file:///tmp/build/80754af9/python-libarchive-c_1617780486945/work\n",
      "llvmlite==0.36.0\n",
      "locket==0.2.1\n",
      "lxml @ file:///C:/ci/lxml_1616443455957/work\n",
      "MarkupSafe==1.1.1\n",
      "matplotlib @ file:///C:/ci/matplotlib-suite_1613408055530/work\n",
      "mccabe==0.6.1\n",
      "menuinst==1.4.16\n",
      "mistune==0.8.4\n",
      "mkl-fft==1.3.0\n",
      "mkl-random @ file:///C:/ci/mkl_random_1618854156666/work\n",
      "mkl-service==2.3.0\n",
      "mock @ file:///tmp/build/80754af9/mock_1607622725907/work\n",
      "more-itertools @ file:///tmp/build/80754af9/more-itertools_1613676688952/work\n",
      "mpmath==1.2.1\n",
      "msgpack @ file:///C:/ci/msgpack-python_1612287368835/work\n",
      "multipledispatch==0.6.0\n",
      "mypy-extensions==0.4.3\n",
      "navigator-updater==0.2.1\n",
      "nbclassic @ file:///tmp/build/80754af9/nbclassic_1616085367084/work\n",
      "nbclient @ file:///tmp/build/80754af9/nbclient_1614364831625/work\n",
      "nbconvert @ file:///C:/ci/nbconvert_1601914925608/work\n",
      "nbformat @ file:///tmp/build/80754af9/nbformat_1617383369282/work\n",
      "nest-asyncio @ file:///tmp/build/80754af9/nest-asyncio_1613680548246/work\n",
      "networkx @ file:///tmp/build/80754af9/networkx_1598376031484/work\n",
      "nltk @ file:///tmp/build/80754af9/nltk_1618327084230/work\n",
      "nose @ file:///tmp/build/80754af9/nose_1606773131901/work\n",
      "notebook @ file:///C:/ci/notebook_1616443715883/work\n",
      "numba @ file:///C:/ci/numba_1616774458845/work\n",
      "numexpr @ file:///C:/ci/numexpr_1618856738664/work\n",
      "numpy @ file:///C:/ci/numpy_and_numpy_base_1618497418457/work\n",
      "numpydoc @ file:///tmp/build/80754af9/numpydoc_1605117425582/work\n",
      "olefile==0.46\n",
      "openpyxl @ file:///tmp/build/80754af9/openpyxl_1615411699337/work\n",
      "outcome==1.1.0\n",
      "packaging @ file:///tmp/build/80754af9/packaging_1611952188834/work\n",
      "pandas @ file:///C:/ci/pandas_1618365634936/work\n",
      "pandocfilters @ file:///C:/ci/pandocfilters_1605102497129/work\n",
      "paramiko @ file:///tmp/build/80754af9/paramiko_1598886428689/work\n",
      "parso==0.7.0\n",
      "partd @ file:///tmp/build/80754af9/partd_1618000087440/work\n",
      "path @ file:///C:/ci/path_1614022440181/work\n",
      "pathlib2 @ file:///C:/ci/pathlib2_1607025069150/work\n",
      "pathspec==0.7.0\n",
      "patsy==0.5.1\n",
      "pep8==1.7.1\n",
      "pexpect @ file:///tmp/build/80754af9/pexpect_1605563209008/work\n",
      "pickleshare @ file:///tmp/build/80754af9/pickleshare_1606932040724/work\n",
      "Pillow @ file:///C:/ci/pillow_1617386341487/work\n",
      "pkginfo==1.7.0\n",
      "plotly==5.4.0\n",
      "pluggy @ file:///C:/ci/pluggy_1615976358795/work\n",
      "ply==3.11\n",
      "prometheus-client @ file:///tmp/build/80754af9/prometheus_client_1618088486455/work\n",
      "prompt-toolkit @ file:///tmp/build/80754af9/prompt-toolkit_1616415428029/work\n",
      "psutil @ file:///C:/ci/psutil_1612298324802/work\n",
      "ptyprocess @ file:///tmp/build/80754af9/ptyprocess_1609355006118/work/dist/ptyprocess-0.7.0-py2.py3-none-any.whl\n",
      "py @ file:///tmp/build/80754af9/py_1607971587848/work\n",
      "pycodestyle @ file:///home/ktietz/src/ci_mi/pycodestyle_1612807597675/work\n",
      "pycosat==0.6.3\n",
      "pycparser @ file:///tmp/build/80754af9/pycparser_1594388511720/work\n",
      "pycurl==7.43.0.6\n",
      "pydocstyle @ file:///tmp/build/80754af9/pydocstyle_1616182067796/work\n",
      "pyerfa @ file:///C:/ci/pyerfa_1619391071834/work\n",
      "pyflakes @ file:///home/ktietz/src/ci_ipy2/pyflakes_1612551159640/work\n",
      "Pygments @ file:///tmp/build/80754af9/pygments_1615143339740/work\n",
      "pylint @ file:///C:/ci/pylint_1617136058775/work\n",
      "pyls-black @ file:///tmp/build/80754af9/pyls-black_1607553132291/work\n",
      "pyls-spyder @ file:///tmp/build/80754af9/pyls-spyder_1613849700860/work\n",
      "PyNaCl @ file:///C:/ci/pynacl_1595000047588/work\n",
      "pyodbc===4.0.0-unsupported\n",
      "pyOpenSSL @ file:///tmp/build/80754af9/pyopenssl_1608057966937/work\n",
      "pyparsing @ file:///home/linux1/recipes/ci/pyparsing_1610983426697/work\n",
      "pyreadline==2.1\n",
      "pyrsistent @ file:///C:/ci/pyrsistent_1600141795814/work\n",
      "PySocks @ file:///C:/ci/pysocks_1605287845585/work\n",
      "pytest==6.2.3\n",
      "python-dateutil @ file:///home/ktietz/src/ci/python-dateutil_1611928101742/work\n",
      "python-jsonrpc-server @ file:///tmp/build/80754af9/python-jsonrpc-server_1600278539111/work\n",
      "python-language-server @ file:///tmp/build/80754af9/python-language-server_1607972495879/work\n",
      "pytz @ file:///tmp/build/80754af9/pytz_1612215392582/work\n",
      "PyWavelets @ file:///C:/ci/pywavelets_1601658407916/work\n",
      "pywin32==227\n",
      "pywin32-ctypes==0.2.0\n",
      "pywinpty==0.5.7\n",
      "PyYAML==5.4.1\n",
      "pyzmq==20.0.0\n",
      "QDarkStyle==2.8.1\n",
      "QtAwesome @ file:///tmp/build/80754af9/qtawesome_1615991616277/work\n",
      "qtconsole @ file:///tmp/build/80754af9/qtconsole_1616775094278/work\n",
      "QtPy==1.9.0\n",
      "regex @ file:///C:/ci/regex_1617569893741/work\n",
      "requests @ file:///tmp/build/80754af9/requests_1608241421344/work\n",
      "rope @ file:///tmp/build/80754af9/rope_1602264064449/work\n",
      "Rtree @ file:///C:/ci/rtree_1618421009405/work\n",
      "ruamel-yaml-conda @ file:///C:/ci/ruamel_yaml_1616016967756/work\n",
      "scikit-image==0.18.1\n",
      "scikit-learn @ file:///C:/ci/scikit-learn_1614446896245/work\n",
      "scipy @ file:///C:/ci/scipy_1618856128765/work\n",
      "seaborn @ file:///tmp/build/80754af9/seaborn_1608578541026/work\n",
      "selenium==4.1.0\n",
      "Send2Trash @ file:///tmp/build/80754af9/send2trash_1607525499227/work\n",
      "simplegeneric==0.8.1\n",
      "singledispatch @ file:///tmp/build/80754af9/singledispatch_1614366001199/work\n",
      "sip==4.19.13\n",
      "six @ file:///C:/ci/six_1605187374963/work\n",
      "sniffio @ file:///C:/ci/sniffio_1614030707456/work\n",
      "snowballstemmer @ file:///tmp/build/80754af9/snowballstemmer_1611258885636/work\n",
      "sortedcollections @ file:///tmp/build/80754af9/sortedcollections_1611172717284/work\n",
      "sortedcontainers @ file:///tmp/build/80754af9/sortedcontainers_1606865132123/work\n",
      "soupsieve @ file:///tmp/build/80754af9/soupsieve_1616183228191/work\n",
      "Sphinx @ file:///tmp/build/80754af9/sphinx_1620777493457/work\n",
      "sphinxcontrib-applehelp @ file:///home/ktietz/src/ci/sphinxcontrib-applehelp_1611920841464/work\n",
      "sphinxcontrib-devhelp @ file:///home/ktietz/src/ci/sphinxcontrib-devhelp_1611920923094/work\n",
      "sphinxcontrib-htmlhelp @ file:///home/ktietz/src/ci/sphinxcontrib-htmlhelp_1611920974801/work\n",
      "sphinxcontrib-jsmath @ file:///home/ktietz/src/ci/sphinxcontrib-jsmath_1611920942228/work\n",
      "sphinxcontrib-qthelp @ file:///home/ktietz/src/ci/sphinxcontrib-qthelp_1611921055322/work\n",
      "sphinxcontrib-serializinghtml @ file:///home/ktietz/src/ci/sphinxcontrib-serializinghtml_1611920755253/work\n",
      "sphinxcontrib-websupport @ file:///tmp/build/80754af9/sphinxcontrib-websupport_1597081412696/work\n",
      "spyder @ file:///C:/ci/spyder_1616776239898/work\n",
      "spyder-kernels @ file:///C:/ci/spyder-kernels_1614030842607/work\n",
      "SQLAlchemy @ file:///C:/ci/sqlalchemy_1618090063261/work\n",
      "statsmodels==0.12.2\n",
      "sympy @ file:///C:/ci/sympy_1618255511605/work\n",
      "tables==3.6.1\n",
      "tblib @ file:///tmp/build/80754af9/tblib_1597928476713/work\n",
      "tenacity==8.0.1\n",
      "terminado==0.9.4\n",
      "testpath @ file:///home/ktietz/src/ci/testpath_1611930608132/work\n",
      "textdistance @ file:///tmp/build/80754af9/textdistance_1612461398012/work\n",
      "threadpoolctl @ file:///tmp/tmp9twdgx9k/threadpoolctl-2.1.0-py3-none-any.whl\n",
      "three-merge @ file:///tmp/build/80754af9/three-merge_1607553261110/work\n",
      "tifffile @ file:///tmp/build/80754af9/tifffile_1619636090847/work\n",
      "toml @ file:///tmp/build/80754af9/toml_1616166611790/work\n",
      "toolz @ file:///home/linux1/recipes/ci/toolz_1610987900194/work\n",
      "tornado @ file:///C:/ci/tornado_1606942392901/work\n",
      "tqdm @ file:///tmp/build/80754af9/tqdm_1615925068909/work\n",
      "traitlets @ file:///home/ktietz/src/ci/traitlets_1611929699868/work\n",
      "trio==0.19.0\n",
      "trio-websocket==0.9.2\n",
      "typed-ast @ file:///C:/ci/typed-ast_1610466535590/work\n",
      "typing-extensions @ file:///home/ktietz/src/ci_mi/typing_extensions_1612808209620/work\n",
      "ujson @ file:///C:/ci/ujson_1611241570789/work\n",
      "unicodecsv==0.14.1\n",
      "urllib3 @ file:///tmp/build/80754af9/urllib3_1615837158687/work\n",
      "voila==0.3.0\n",
      "voila-material==0.4.0\n",
      "watchdog @ file:///C:/ci/watchdog_1612471251191/work\n",
      "wcwidth @ file:///tmp/build/80754af9/wcwidth_1593447189090/work\n",
      "webencodings==0.5.1\n",
      "websockets==10.1\n",
      "Werkzeug @ file:///home/ktietz/src/ci/werkzeug_1611932622770/work\n",
      "widgetsnbextension==3.5.1\n",
      "win-inet-pton @ file:///C:/ci/win_inet_pton_1605306167264/work\n",
      "win-unicode-console==0.5\n",
      "wincertstore==0.2\n",
      "wrapt==1.12.1\n",
      "wsproto==1.0.0\n",
      "xlrd @ file:///tmp/build/80754af9/xlrd_1608072521494/work\n",
      "XlsxWriter @ file:///tmp/build/80754af9/xlsxwriter_1617224712951/work\n",
      "xlwings==0.23.0\n",
      "xlwt==1.3.0\n",
      "xmltodict==0.12.0\n",
      "yapf @ file:///tmp/build/80754af9/yapf_1615749224965/work\n",
      "zict==2.0.0\n",
      "zipp @ file:///tmp/build/80754af9/zipp_1615904174917/work\n",
      "zope.event==4.5.0\n",
      "zope.interface @ file:///C:/ci/zope.interface_1616357322857/work\n"
     ]
    }
   ],
   "source": [
    "# Create a requirements text file with all the libraries installed in your environment.\n",
    "!pip freeze"
   ]
  },
  {
   "cell_type": "code",
   "execution_count": 34,
   "metadata": {
    "scrolled": false
   },
   "outputs": [
    {
     "name": "stdout",
     "output_type": "stream",
     "text": [
      "Requirement already satisfied: seaborn in c:\\users\\dsinz1\\anaconda3\\lib\\site-packages (0.11.1)\n",
      "Requirement already satisfied: matplotlib>=2.2 in c:\\users\\dsinz1\\anaconda3\\lib\\site-packages (from seaborn) (3.3.4)\n",
      "Requirement already satisfied: scipy>=1.0 in c:\\users\\dsinz1\\anaconda3\\lib\\site-packages (from seaborn) (1.6.2)\n",
      "Requirement already satisfied: numpy>=1.15 in c:\\users\\dsinz1\\anaconda3\\lib\\site-packages (from seaborn) (1.20.1)\n",
      "Requirement already satisfied: pandas>=0.23 in c:\\users\\dsinz1\\anaconda3\\lib\\site-packages (from seaborn) (1.2.4)\n",
      "Requirement already satisfied: cycler>=0.10 in c:\\users\\dsinz1\\anaconda3\\lib\\site-packages (from matplotlib>=2.2->seaborn) (0.10.0)\n",
      "Requirement already satisfied: pyparsing!=2.0.4,!=2.1.2,!=2.1.6,>=2.0.3 in c:\\users\\dsinz1\\anaconda3\\lib\\site-packages (from matplotlib>=2.2->seaborn) (2.4.7)\n",
      "Requirement already satisfied: pillow>=6.2.0 in c:\\users\\dsinz1\\anaconda3\\lib\\site-packages (from matplotlib>=2.2->seaborn) (8.2.0)\n",
      "Requirement already satisfied: python-dateutil>=2.1 in c:\\users\\dsinz1\\anaconda3\\lib\\site-packages (from matplotlib>=2.2->seaborn) (2.8.1)\n",
      "Requirement already satisfied: kiwisolver>=1.0.1 in c:\\users\\dsinz1\\anaconda3\\lib\\site-packages (from matplotlib>=2.2->seaborn) (1.3.1)\n",
      "Requirement already satisfied: pytz>=2017.3 in c:\\users\\dsinz1\\anaconda3\\lib\\site-packages (from pandas>=0.23->seaborn) (2021.1)\n",
      "Requirement already satisfied: six in c:\\users\\dsinz1\\anaconda3\\lib\\site-packages (from cycler>=0.10->matplotlib>=2.2->seaborn) (1.15.0)\n"
     ]
    }
   ],
   "source": [
    "!pip install seaborn"
   ]
  },
  {
   "cell_type": "code",
   "execution_count": 35,
   "metadata": {
    "id": "YQ4EoVgzvWeR"
   },
   "outputs": [],
   "source": [
    "# importing libraries\n",
    "\n",
    "from __future__ import print_function\n",
    "from ipywidgets import interact, interactive, fixed, interact_manual\n",
    "from IPython.core.display import display, HTML\n",
    "\n",
    "import numpy as np\n",
    "import pandas as pd\n",
    "import matplotlib.pyplot as plt\n",
    "import plotly.express as px\n",
    "import folium\n",
    "import plotly.graph_objects as go\n",
    "import seaborn as sns\n",
    "import ipywidgets as widgets"
   ]
  },
  {
   "cell_type": "code",
   "execution_count": 36,
   "metadata": {
    "scrolled": true
   },
   "outputs": [
    {
     "data": {
      "text/html": [
       "<div>\n",
       "<style scoped>\n",
       "    .dataframe tbody tr th:only-of-type {\n",
       "        vertical-align: middle;\n",
       "    }\n",
       "\n",
       "    .dataframe tbody tr th {\n",
       "        vertical-align: top;\n",
       "    }\n",
       "\n",
       "    .dataframe thead th {\n",
       "        text-align: right;\n",
       "    }\n",
       "</style>\n",
       "<table border=\"1\" class=\"dataframe\">\n",
       "  <thead>\n",
       "    <tr style=\"text-align: right;\">\n",
       "      <th></th>\n",
       "      <th>Personnummer</th>\n",
       "      <th>ProvsvarsDate</th>\n",
       "      <th>provsvar 1</th>\n",
       "      <th>värde 1</th>\n",
       "      <th>bedömning 1</th>\n",
       "      <th>provsvar 2</th>\n",
       "      <th>värde 2</th>\n",
       "      <th>bedömning 2</th>\n",
       "      <th>provsvar 3</th>\n",
       "      <th>värde 3</th>\n",
       "      <th>bedömning 3</th>\n",
       "      <th>provsvar 4</th>\n",
       "      <th>värde 4</th>\n",
       "      <th>bedömning 4</th>\n",
       "      <th>provsvar 5</th>\n",
       "      <th>värde 5</th>\n",
       "      <th>bedömning 5</th>\n",
       "      <th>Total bedomning</th>\n",
       "    </tr>\n",
       "  </thead>\n",
       "  <tbody>\n",
       "    <tr>\n",
       "      <th>0</th>\n",
       "      <td>8201113128</td>\n",
       "      <td>22/12/2021</td>\n",
       "      <td>T4, fritt, P-</td>\n",
       "      <td>13</td>\n",
       "      <td>GRON</td>\n",
       "      <td>T3, fritt, P-</td>\n",
       "      <td>4.50</td>\n",
       "      <td>GRON</td>\n",
       "      <td>TSH, P-</td>\n",
       "      <td>1.0</td>\n",
       "      <td>GRON</td>\n",
       "      <td>ASAT, P-</td>\n",
       "      <td>0.49</td>\n",
       "      <td>GRON</td>\n",
       "      <td>ALAT, P-</td>\n",
       "      <td>0.64</td>\n",
       "      <td>GRON</td>\n",
       "      <td>GRON</td>\n",
       "    </tr>\n",
       "    <tr>\n",
       "      <th>1</th>\n",
       "      <td>8201113131</td>\n",
       "      <td>15/12/2021</td>\n",
       "      <td>T4, fritt, P-</td>\n",
       "      <td>17</td>\n",
       "      <td>GRON</td>\n",
       "      <td>T3, P-</td>\n",
       "      <td>0.76</td>\n",
       "      <td>GUL</td>\n",
       "      <td>TSH, P-</td>\n",
       "      <td>2.8</td>\n",
       "      <td>GRON</td>\n",
       "      <td>ASAT, P-</td>\n",
       "      <td>0.59</td>\n",
       "      <td>GRON</td>\n",
       "      <td>ALAT, P-</td>\n",
       "      <td>0.60</td>\n",
       "      <td>GRON</td>\n",
       "      <td>GUL</td>\n",
       "    </tr>\n",
       "    <tr>\n",
       "      <th>2</th>\n",
       "      <td>8201113134</td>\n",
       "      <td>14/12/2021</td>\n",
       "      <td>T4, fritt, P-</td>\n",
       "      <td>16</td>\n",
       "      <td>GRON</td>\n",
       "      <td>T3, P-</td>\n",
       "      <td>1.10</td>\n",
       "      <td>GRON</td>\n",
       "      <td>TSH, P-</td>\n",
       "      <td>5.1</td>\n",
       "      <td>GUL</td>\n",
       "      <td>ASAT, P-</td>\n",
       "      <td>0.40</td>\n",
       "      <td>GRON</td>\n",
       "      <td>ALAT, P-</td>\n",
       "      <td>0.28</td>\n",
       "      <td>GRON</td>\n",
       "      <td>GRON</td>\n",
       "    </tr>\n",
       "    <tr>\n",
       "      <th>3</th>\n",
       "      <td>8201113137</td>\n",
       "      <td>13/12/2021</td>\n",
       "      <td>T4, fritt, P-</td>\n",
       "      <td>16</td>\n",
       "      <td>GRON</td>\n",
       "      <td>T3, P-</td>\n",
       "      <td>1.00</td>\n",
       "      <td>GRON</td>\n",
       "      <td>TSH, P-</td>\n",
       "      <td>1.8</td>\n",
       "      <td>GRON</td>\n",
       "      <td>ASAT, P-</td>\n",
       "      <td>0.30</td>\n",
       "      <td>GRON</td>\n",
       "      <td>ALAT, P-</td>\n",
       "      <td>0.27</td>\n",
       "      <td>GRON</td>\n",
       "      <td>GRON</td>\n",
       "    </tr>\n",
       "    <tr>\n",
       "      <th>4</th>\n",
       "      <td>8201113140</td>\n",
       "      <td>18/12/2021</td>\n",
       "      <td>T4, fritt, P-</td>\n",
       "      <td>15</td>\n",
       "      <td>GRON</td>\n",
       "      <td>T3, P-</td>\n",
       "      <td>1.30</td>\n",
       "      <td>GRON</td>\n",
       "      <td>TSH, P-</td>\n",
       "      <td>1.1</td>\n",
       "      <td>GRON</td>\n",
       "      <td>ASAT, P-</td>\n",
       "      <td>0.33</td>\n",
       "      <td>GRON</td>\n",
       "      <td>ALAT, P-</td>\n",
       "      <td>0.18</td>\n",
       "      <td>GRON</td>\n",
       "      <td>GRON</td>\n",
       "    </tr>\n",
       "  </tbody>\n",
       "</table>\n",
       "</div>"
      ],
      "text/plain": [
       "   Personnummer ProvsvarsDate     provsvar 1  värde 1 bedömning 1  \\\n",
       "0    8201113128    22/12/2021  T4, fritt, P-       13        GRON   \n",
       "1    8201113131    15/12/2021  T4, fritt, P-       17        GRON   \n",
       "2    8201113134    14/12/2021  T4, fritt, P-       16        GRON   \n",
       "3    8201113137    13/12/2021  T4, fritt, P-       16        GRON   \n",
       "4    8201113140    18/12/2021  T4, fritt, P-       15        GRON   \n",
       "\n",
       "      provsvar 2  värde 2 bedömning 2 provsvar 3  värde 3 bedömning 3  \\\n",
       "0  T3, fritt, P-     4.50        GRON    TSH, P-      1.0        GRON   \n",
       "1         T3, P-     0.76         GUL    TSH, P-      2.8        GRON   \n",
       "2         T3, P-     1.10        GRON    TSH, P-      5.1         GUL   \n",
       "3         T3, P-     1.00        GRON    TSH, P-      1.8        GRON   \n",
       "4         T3, P-     1.30        GRON    TSH, P-      1.1        GRON   \n",
       "\n",
       "  provsvar 4  värde 4 bedömning 4 provsvar 5  värde 5 bedömning 5  \\\n",
       "0   ASAT, P-     0.49        GRON   ALAT, P-     0.64        GRON   \n",
       "1   ASAT, P-     0.59        GRON   ALAT, P-     0.60        GRON   \n",
       "2   ASAT, P-     0.40        GRON   ALAT, P-     0.28        GRON   \n",
       "3   ASAT, P-     0.30        GRON   ALAT, P-     0.27        GRON   \n",
       "4   ASAT, P-     0.33        GRON   ALAT, P-     0.18        GRON   \n",
       "\n",
       "  Total bedomning  \n",
       "0            GRON  \n",
       "1             GUL  \n",
       "2            GRON  \n",
       "3            GRON  \n",
       "4            GRON  "
      ]
     },
     "execution_count": 36,
     "metadata": {},
     "output_type": "execute_result"
    }
   ],
   "source": [
    "#data1 = pd.read_csv(\"https://raw.githubusercontent.com/dnzengou/provsvar_visu/main/assets/data/provsvar_sept_anonym_122021-Blad11_mal_full.csv\")\n",
    "data1 = pd.read_csv(\"../assets/data/provsvar_sept_anonym_122021-Blad11_mal_full.csv\")\n",
    "\n",
    "data1.head()"
   ]
  },
  {
   "cell_type": "code",
   "execution_count": 37,
   "metadata": {},
   "outputs": [
    {
     "data": {
      "text/html": [
       "<div>\n",
       "<style scoped>\n",
       "    .dataframe tbody tr th:only-of-type {\n",
       "        vertical-align: middle;\n",
       "    }\n",
       "\n",
       "    .dataframe tbody tr th {\n",
       "        vertical-align: top;\n",
       "    }\n",
       "\n",
       "    .dataframe thead th {\n",
       "        text-align: right;\n",
       "    }\n",
       "</style>\n",
       "<table border=\"1\" class=\"dataframe\">\n",
       "  <thead>\n",
       "    <tr style=\"text-align: right;\">\n",
       "      <th></th>\n",
       "      <th>personnummer</th>\n",
       "      <th>provsvarsdate</th>\n",
       "      <th>provsvar 1</th>\n",
       "      <th>värde 1</th>\n",
       "      <th>bedömning 1</th>\n",
       "      <th>provsvar 2</th>\n",
       "      <th>värde 2</th>\n",
       "      <th>bedömning 2</th>\n",
       "      <th>provsvar 3</th>\n",
       "      <th>värde 3</th>\n",
       "      <th>bedömning 3</th>\n",
       "      <th>provsvar 4</th>\n",
       "      <th>värde 4</th>\n",
       "      <th>bedömning 4</th>\n",
       "      <th>provsvar 5</th>\n",
       "      <th>värde 5</th>\n",
       "      <th>bedömning 5</th>\n",
       "      <th>total bedomning</th>\n",
       "    </tr>\n",
       "  </thead>\n",
       "  <tbody>\n",
       "    <tr>\n",
       "      <th>0</th>\n",
       "      <td>8201113128</td>\n",
       "      <td>22/12/2021</td>\n",
       "      <td>T4, fritt, P-</td>\n",
       "      <td>13</td>\n",
       "      <td>GRON</td>\n",
       "      <td>T3, fritt, P-</td>\n",
       "      <td>4.50</td>\n",
       "      <td>GRON</td>\n",
       "      <td>TSH, P-</td>\n",
       "      <td>1.0</td>\n",
       "      <td>GRON</td>\n",
       "      <td>ASAT, P-</td>\n",
       "      <td>0.49</td>\n",
       "      <td>GRON</td>\n",
       "      <td>ALAT, P-</td>\n",
       "      <td>0.64</td>\n",
       "      <td>GRON</td>\n",
       "      <td>GRON</td>\n",
       "    </tr>\n",
       "    <tr>\n",
       "      <th>1</th>\n",
       "      <td>8201113131</td>\n",
       "      <td>15/12/2021</td>\n",
       "      <td>T4, fritt, P-</td>\n",
       "      <td>17</td>\n",
       "      <td>GRON</td>\n",
       "      <td>T3, P-</td>\n",
       "      <td>0.76</td>\n",
       "      <td>GUL</td>\n",
       "      <td>TSH, P-</td>\n",
       "      <td>2.8</td>\n",
       "      <td>GRON</td>\n",
       "      <td>ASAT, P-</td>\n",
       "      <td>0.59</td>\n",
       "      <td>GRON</td>\n",
       "      <td>ALAT, P-</td>\n",
       "      <td>0.60</td>\n",
       "      <td>GRON</td>\n",
       "      <td>GUL</td>\n",
       "    </tr>\n",
       "    <tr>\n",
       "      <th>2</th>\n",
       "      <td>8201113134</td>\n",
       "      <td>14/12/2021</td>\n",
       "      <td>T4, fritt, P-</td>\n",
       "      <td>16</td>\n",
       "      <td>GRON</td>\n",
       "      <td>T3, P-</td>\n",
       "      <td>1.10</td>\n",
       "      <td>GRON</td>\n",
       "      <td>TSH, P-</td>\n",
       "      <td>5.1</td>\n",
       "      <td>GUL</td>\n",
       "      <td>ASAT, P-</td>\n",
       "      <td>0.40</td>\n",
       "      <td>GRON</td>\n",
       "      <td>ALAT, P-</td>\n",
       "      <td>0.28</td>\n",
       "      <td>GRON</td>\n",
       "      <td>GRON</td>\n",
       "    </tr>\n",
       "    <tr>\n",
       "      <th>3</th>\n",
       "      <td>8201113137</td>\n",
       "      <td>13/12/2021</td>\n",
       "      <td>T4, fritt, P-</td>\n",
       "      <td>16</td>\n",
       "      <td>GRON</td>\n",
       "      <td>T3, P-</td>\n",
       "      <td>1.00</td>\n",
       "      <td>GRON</td>\n",
       "      <td>TSH, P-</td>\n",
       "      <td>1.8</td>\n",
       "      <td>GRON</td>\n",
       "      <td>ASAT, P-</td>\n",
       "      <td>0.30</td>\n",
       "      <td>GRON</td>\n",
       "      <td>ALAT, P-</td>\n",
       "      <td>0.27</td>\n",
       "      <td>GRON</td>\n",
       "      <td>GRON</td>\n",
       "    </tr>\n",
       "    <tr>\n",
       "      <th>4</th>\n",
       "      <td>8201113140</td>\n",
       "      <td>18/12/2021</td>\n",
       "      <td>T4, fritt, P-</td>\n",
       "      <td>15</td>\n",
       "      <td>GRON</td>\n",
       "      <td>T3, P-</td>\n",
       "      <td>1.30</td>\n",
       "      <td>GRON</td>\n",
       "      <td>TSH, P-</td>\n",
       "      <td>1.1</td>\n",
       "      <td>GRON</td>\n",
       "      <td>ASAT, P-</td>\n",
       "      <td>0.33</td>\n",
       "      <td>GRON</td>\n",
       "      <td>ALAT, P-</td>\n",
       "      <td>0.18</td>\n",
       "      <td>GRON</td>\n",
       "      <td>GRON</td>\n",
       "    </tr>\n",
       "  </tbody>\n",
       "</table>\n",
       "</div>"
      ],
      "text/plain": [
       "   personnummer provsvarsdate     provsvar 1  värde 1 bedömning 1  \\\n",
       "0    8201113128    22/12/2021  T4, fritt, P-       13        GRON   \n",
       "1    8201113131    15/12/2021  T4, fritt, P-       17        GRON   \n",
       "2    8201113134    14/12/2021  T4, fritt, P-       16        GRON   \n",
       "3    8201113137    13/12/2021  T4, fritt, P-       16        GRON   \n",
       "4    8201113140    18/12/2021  T4, fritt, P-       15        GRON   \n",
       "\n",
       "      provsvar 2  värde 2 bedömning 2 provsvar 3  värde 3 bedömning 3  \\\n",
       "0  T3, fritt, P-     4.50        GRON    TSH, P-      1.0        GRON   \n",
       "1         T3, P-     0.76         GUL    TSH, P-      2.8        GRON   \n",
       "2         T3, P-     1.10        GRON    TSH, P-      5.1         GUL   \n",
       "3         T3, P-     1.00        GRON    TSH, P-      1.8        GRON   \n",
       "4         T3, P-     1.30        GRON    TSH, P-      1.1        GRON   \n",
       "\n",
       "  provsvar 4  värde 4 bedömning 4 provsvar 5  värde 5 bedömning 5  \\\n",
       "0   ASAT, P-     0.49        GRON   ALAT, P-     0.64        GRON   \n",
       "1   ASAT, P-     0.59        GRON   ALAT, P-     0.60        GRON   \n",
       "2   ASAT, P-     0.40        GRON   ALAT, P-     0.28        GRON   \n",
       "3   ASAT, P-     0.30        GRON   ALAT, P-     0.27        GRON   \n",
       "4   ASAT, P-     0.33        GRON   ALAT, P-     0.18        GRON   \n",
       "\n",
       "  total bedomning  \n",
       "0            GRON  \n",
       "1             GUL  \n",
       "2            GRON  \n",
       "3            GRON  \n",
       "4            GRON  "
      ]
     },
     "execution_count": 37,
     "metadata": {},
     "output_type": "execute_result"
    }
   ],
   "source": [
    "# data cleaning\n",
    "\n",
    "# renaming the df column names to lowercase\n",
    "data1.columns = map(str.lower, data1.columns)\n",
    "\n",
    "data1.head()"
   ]
  },
  {
   "cell_type": "code",
   "execution_count": 38,
   "metadata": {
    "scrolled": false
   },
   "outputs": [
    {
     "name": "stdout",
     "output_type": "stream",
     "text": [
      "Index(['personnummer', 'provsvarsdate', 'provsvar 1', 'värde 1', 'bedömning 1',\n",
      "       'provsvar 2', 'värde 2', 'bedömning 2', 'provsvar 3', 'värde 3',\n",
      "       'bedömning 3', 'provsvar 4', 'värde 4', 'bedömning 4', 'provsvar 5',\n",
      "       'värde 5', 'bedömning 5', 'total bedomning'],\n",
      "      dtype='object')\n"
     ]
    }
   ],
   "source": [
    "print(data1.columns)"
   ]
  },
  {
   "cell_type": "code",
   "execution_count": 39,
   "metadata": {},
   "outputs": [],
   "source": [
    "data1.rename(columns = {'provsvar 1':'provsvar1', 'provsvar 2':'provsvar2', 'provsvar 3':'provsvar3', 'provsvar 4':'provsvar4', 'provsvar 5':'provsvar5', 'provsvar 6':'provsvar6', 'värde 1':'varde1', 'värde 2':'varde2', 'värde 3':'varde3', 'värde 4':'varde4', 'värde 5':'varde5',\n",
    "                              'värde 6':'varde6', 'bedömning 1':'bedomning1', 'bedömning 2':'bedomning2', 'bedömning 3':'bedomning3', 'bedömning 4':'bedomning4', 'bedömning 5':'bedomning5', 'total bedomning':'total_bedomning'}, inplace = True)\n",
    "#df1 = data1.rename(columns = {'total bedomning':'total_bedomning'}, inplace = True)\n"
   ]
  },
  {
   "cell_type": "code",
   "execution_count": 40,
   "metadata": {},
   "outputs": [
    {
     "data": {
      "text/plain": [
       "40"
      ]
     },
     "execution_count": 40,
     "metadata": {},
     "output_type": "execute_result"
    }
   ],
   "source": [
    "# total number of confirmed, death and recovered cases\n",
    "data1_total = int(data1['total_bedomning'].count())\n",
    "\n",
    "data1_total"
   ]
  },
  {
   "cell_type": "code",
   "execution_count": 41,
   "metadata": {},
   "outputs": [
    {
     "name": "stdout",
     "output_type": "stream",
     "text": [
      "No.of.unique values : 3\n"
     ]
    }
   ],
   "source": [
    "# counting unique values\n",
    "n = len(pd.unique(data1['total_bedomning']))\n",
    "  \n",
    "print(\"No.of.unique values :\", \n",
    "      n)"
   ]
  },
  {
   "cell_type": "code",
   "execution_count": 42,
   "metadata": {},
   "outputs": [
    {
     "data": {
      "text/plain": [
       "14"
      ]
     },
     "execution_count": 42,
     "metadata": {},
     "output_type": "execute_result"
    }
   ],
   "source": [
    "data1_mean_varde1 = int(data1['varde1'].mean())\n",
    "\n",
    "data1_mean_varde1"
   ]
  },
  {
   "cell_type": "code",
   "execution_count": 43,
   "metadata": {},
   "outputs": [
    {
     "data": {
      "text/plain": [
       "1"
      ]
     },
     "execution_count": 43,
     "metadata": {},
     "output_type": "execute_result"
    }
   ],
   "source": [
    "data1_mean_varde2 = int(data1['varde2'].mean())\n",
    "\n",
    "data1_mean_varde2"
   ]
  },
  {
   "cell_type": "code",
   "execution_count": 44,
   "metadata": {},
   "outputs": [
    {
     "data": {
      "text/plain": [
       "2"
      ]
     },
     "execution_count": 44,
     "metadata": {},
     "output_type": "execute_result"
    }
   ],
   "source": [
    "data1_mean_varde3 = int(data1['varde3'].mean())\n",
    "\n",
    "data1_mean_varde3"
   ]
  },
  {
   "cell_type": "code",
   "execution_count": 45,
   "metadata": {},
   "outputs": [
    {
     "data": {
      "text/plain": [
       "0"
      ]
     },
     "execution_count": 45,
     "metadata": {},
     "output_type": "execute_result"
    }
   ],
   "source": [
    "data1_mean_varde4 = int(data1['varde4'].mean())\n",
    "\n",
    "data1_mean_varde4"
   ]
  },
  {
   "cell_type": "code",
   "execution_count": 46,
   "metadata": {},
   "outputs": [
    {
     "data": {
      "text/plain": [
       "0"
      ]
     },
     "execution_count": 46,
     "metadata": {},
     "output_type": "execute_result"
    }
   ],
   "source": [
    "data1_mean_varde5 = int(data1['varde5'].mean())\n",
    "\n",
    "data1_mean_varde5"
   ]
  },
  {
   "cell_type": "code",
   "execution_count": 47,
   "metadata": {
    "colab": {
     "base_uri": "https://localhost:8080/",
     "height": 151
    },
    "id": "kQZZdXPUvWfs",
    "outputId": "cc03c56b-e454-41bf-bfff-61d948808c19"
   },
   "outputs": [
    {
     "data": {
      "text/html": [
       "<div style = 'background-color: #504e4e; padding: 30px '><span style='color: #fff; font-size:30px;'> Total bedömning: 40</span><span style='color: red; font-size:30px;margin-left:20px;'> medelvärde 1: 14</span><span style='color: lightgreen; font-size:30px; margin-left:20px;'> medelvärde 2: 1</span><span style='color: lightblue; font-size:30px; margin-left:20px;'> medelvärde 3: 2</span><span style='color: lightyellow; font-size:30px; margin-left:20px;'> medelvärde 4: 0</span><span style='color: lightpink; font-size:30px; margin-left:20px;'> medelvärde 5: 0</span></div>"
      ],
      "text/plain": [
       "<IPython.core.display.HTML object>"
      ]
     },
     "metadata": {},
     "output_type": "display_data"
    }
   ],
   "source": [
    "# displaying the total stats\n",
    "\n",
    "display(HTML(\"<div style = 'background-color: #504e4e; padding: 30px '>\" +\n",
    "             \"<span style='color: #fff; font-size:30px;'> Total bedömning: \"  + str(data1_total) +\"</span>\" +\n",
    "             \"<span style='color: red; font-size:30px;margin-left:20px;'> medelvärde 1: \" + str(data1_mean_varde1) + \"</span>\"+\n",
    "             \"<span style='color: lightgreen; font-size:30px; margin-left:20px;'> medelvärde 2: \" + str(data1_mean_varde2) + \"</span>\"+\n",
    "             \"<span style='color: lightblue; font-size:30px; margin-left:20px;'> medelvärde 3: \" + str(data1_mean_varde3) + \"</span>\"+\n",
    "             \"<span style='color: lightyellow; font-size:30px; margin-left:20px;'> medelvärde 4: \" + str(data1_mean_varde4) + \"</span>\"+\n",
    "             \"<span style='color: lightpink; font-size:30px; margin-left:20px;'> medelvärde 5: \" + str(data1_mean_varde5) + \"</span>\"+\n",
    "             \"</div>\")\n",
    "       )"
   ]
  },
  {
   "cell_type": "markdown",
   "metadata": {
    "id": "xFCdhxHlvWf2"
   },
   "source": [
    "# Patient provsvar av bedömningar\n",
    "\n",
    "## Data cleaninng"
   ]
  },
  {
   "cell_type": "code",
   "execution_count": 48,
   "metadata": {
    "scrolled": true
   },
   "outputs": [
    {
     "data": {
      "text/html": [
       "<div>\n",
       "<style scoped>\n",
       "    .dataframe tbody tr th:only-of-type {\n",
       "        vertical-align: middle;\n",
       "    }\n",
       "\n",
       "    .dataframe tbody tr th {\n",
       "        vertical-align: top;\n",
       "    }\n",
       "\n",
       "    .dataframe thead th {\n",
       "        text-align: right;\n",
       "    }\n",
       "</style>\n",
       "<table border=\"1\" class=\"dataframe\">\n",
       "  <thead>\n",
       "    <tr style=\"text-align: right;\">\n",
       "      <th></th>\n",
       "      <th>personnummer</th>\n",
       "      <th>provsvarsdate</th>\n",
       "      <th>provsvar1</th>\n",
       "      <th>varde1</th>\n",
       "      <th>bedomning1</th>\n",
       "      <th>provsvar2</th>\n",
       "      <th>varde2</th>\n",
       "      <th>bedomning2</th>\n",
       "      <th>provsvar3</th>\n",
       "      <th>varde3</th>\n",
       "      <th>bedomning3</th>\n",
       "      <th>provsvar4</th>\n",
       "      <th>varde4</th>\n",
       "      <th>bedomning4</th>\n",
       "      <th>provsvar5</th>\n",
       "      <th>varde5</th>\n",
       "      <th>bedomning5</th>\n",
       "      <th>total_bedomning</th>\n",
       "    </tr>\n",
       "  </thead>\n",
       "  <tbody>\n",
       "    <tr>\n",
       "      <th>0</th>\n",
       "      <td>8201113128</td>\n",
       "      <td>22/12/2021</td>\n",
       "      <td>T4, fritt, P-</td>\n",
       "      <td>13</td>\n",
       "      <td>GRON</td>\n",
       "      <td>T3, fritt, P-</td>\n",
       "      <td>4.50</td>\n",
       "      <td>GRON</td>\n",
       "      <td>TSH, P-</td>\n",
       "      <td>1.0</td>\n",
       "      <td>GRON</td>\n",
       "      <td>ASAT, P-</td>\n",
       "      <td>0.49</td>\n",
       "      <td>GRON</td>\n",
       "      <td>ALAT, P-</td>\n",
       "      <td>0.64</td>\n",
       "      <td>GRON</td>\n",
       "      <td>GRON</td>\n",
       "    </tr>\n",
       "    <tr>\n",
       "      <th>1</th>\n",
       "      <td>8201113131</td>\n",
       "      <td>15/12/2021</td>\n",
       "      <td>T4, fritt, P-</td>\n",
       "      <td>17</td>\n",
       "      <td>GRON</td>\n",
       "      <td>T3, P-</td>\n",
       "      <td>0.76</td>\n",
       "      <td>GUL</td>\n",
       "      <td>TSH, P-</td>\n",
       "      <td>2.8</td>\n",
       "      <td>GRON</td>\n",
       "      <td>ASAT, P-</td>\n",
       "      <td>0.59</td>\n",
       "      <td>GRON</td>\n",
       "      <td>ALAT, P-</td>\n",
       "      <td>0.60</td>\n",
       "      <td>GRON</td>\n",
       "      <td>GUL</td>\n",
       "    </tr>\n",
       "    <tr>\n",
       "      <th>2</th>\n",
       "      <td>8201113134</td>\n",
       "      <td>14/12/2021</td>\n",
       "      <td>T4, fritt, P-</td>\n",
       "      <td>16</td>\n",
       "      <td>GRON</td>\n",
       "      <td>T3, P-</td>\n",
       "      <td>1.10</td>\n",
       "      <td>GRON</td>\n",
       "      <td>TSH, P-</td>\n",
       "      <td>5.1</td>\n",
       "      <td>GUL</td>\n",
       "      <td>ASAT, P-</td>\n",
       "      <td>0.40</td>\n",
       "      <td>GRON</td>\n",
       "      <td>ALAT, P-</td>\n",
       "      <td>0.28</td>\n",
       "      <td>GRON</td>\n",
       "      <td>GRON</td>\n",
       "    </tr>\n",
       "    <tr>\n",
       "      <th>3</th>\n",
       "      <td>8201113137</td>\n",
       "      <td>13/12/2021</td>\n",
       "      <td>T4, fritt, P-</td>\n",
       "      <td>16</td>\n",
       "      <td>GRON</td>\n",
       "      <td>T3, P-</td>\n",
       "      <td>1.00</td>\n",
       "      <td>GRON</td>\n",
       "      <td>TSH, P-</td>\n",
       "      <td>1.8</td>\n",
       "      <td>GRON</td>\n",
       "      <td>ASAT, P-</td>\n",
       "      <td>0.30</td>\n",
       "      <td>GRON</td>\n",
       "      <td>ALAT, P-</td>\n",
       "      <td>0.27</td>\n",
       "      <td>GRON</td>\n",
       "      <td>GRON</td>\n",
       "    </tr>\n",
       "    <tr>\n",
       "      <th>4</th>\n",
       "      <td>8201113140</td>\n",
       "      <td>18/12/2021</td>\n",
       "      <td>T4, fritt, P-</td>\n",
       "      <td>15</td>\n",
       "      <td>GRON</td>\n",
       "      <td>T3, P-</td>\n",
       "      <td>1.30</td>\n",
       "      <td>GRON</td>\n",
       "      <td>TSH, P-</td>\n",
       "      <td>1.1</td>\n",
       "      <td>GRON</td>\n",
       "      <td>ASAT, P-</td>\n",
       "      <td>0.33</td>\n",
       "      <td>GRON</td>\n",
       "      <td>ALAT, P-</td>\n",
       "      <td>0.18</td>\n",
       "      <td>GRON</td>\n",
       "      <td>GRON</td>\n",
       "    </tr>\n",
       "  </tbody>\n",
       "</table>\n",
       "</div>"
      ],
      "text/plain": [
       "   personnummer provsvarsdate      provsvar1  varde1 bedomning1  \\\n",
       "0    8201113128    22/12/2021  T4, fritt, P-      13       GRON   \n",
       "1    8201113131    15/12/2021  T4, fritt, P-      17       GRON   \n",
       "2    8201113134    14/12/2021  T4, fritt, P-      16       GRON   \n",
       "3    8201113137    13/12/2021  T4, fritt, P-      16       GRON   \n",
       "4    8201113140    18/12/2021  T4, fritt, P-      15       GRON   \n",
       "\n",
       "       provsvar2  varde2 bedomning2 provsvar3  varde3 bedomning3 provsvar4  \\\n",
       "0  T3, fritt, P-    4.50       GRON   TSH, P-     1.0       GRON  ASAT, P-   \n",
       "1         T3, P-    0.76        GUL   TSH, P-     2.8       GRON  ASAT, P-   \n",
       "2         T3, P-    1.10       GRON   TSH, P-     5.1        GUL  ASAT, P-   \n",
       "3         T3, P-    1.00       GRON   TSH, P-     1.8       GRON  ASAT, P-   \n",
       "4         T3, P-    1.30       GRON   TSH, P-     1.1       GRON  ASAT, P-   \n",
       "\n",
       "   varde4 bedomning4 provsvar5  varde5 bedomning5 total_bedomning  \n",
       "0    0.49       GRON  ALAT, P-    0.64       GRON            GRON  \n",
       "1    0.59       GRON  ALAT, P-    0.60       GRON             GUL  \n",
       "2    0.40       GRON  ALAT, P-    0.28       GRON            GRON  \n",
       "3    0.30       GRON  ALAT, P-    0.27       GRON            GRON  \n",
       "4    0.33       GRON  ALAT, P-    0.18       GRON            GRON  "
      ]
     },
     "execution_count": 48,
     "metadata": {},
     "output_type": "execute_result"
    }
   ],
   "source": [
    "data1_clean = data1.dropna()\n",
    "\n",
    "#country_df_clean.drop(['people_tested', 'people_hospitalized'], axis=1)\n",
    "#country_df_clean = country_df.drop(columns=['people_tested', 'people_hospitalized'])\n",
    "data1_clean.head()\n",
    " "
   ]
  },
  {
   "cell_type": "code",
   "execution_count": 49,
   "metadata": {},
   "outputs": [
    {
     "data": {
      "text/plain": [
       "pandas.core.frame.DataFrame"
      ]
     },
     "execution_count": 49,
     "metadata": {},
     "output_type": "execute_result"
    }
   ],
   "source": [
    "type(data1_clean)"
   ]
  },
  {
   "cell_type": "code",
   "execution_count": 50,
   "metadata": {},
   "outputs": [
    {
     "name": "stdout",
     "output_type": "stream",
     "text": [
      "Index(['personnummer', 'provsvarsdate', 'provsvar1', 'varde1', 'bedomning1',\n",
      "       'provsvar2', 'varde2', 'bedomning2', 'provsvar3', 'varde3',\n",
      "       'bedomning3', 'provsvar4', 'varde4', 'bedomning4', 'provsvar5',\n",
      "       'varde5', 'bedomning5', 'total_bedomning'],\n",
      "      dtype='object')\n"
     ]
    }
   ],
   "source": [
    "print(data1_clean.columns)"
   ]
  },
  {
   "cell_type": "code",
   "execution_count": 51,
   "metadata": {
    "scrolled": true
   },
   "outputs": [
    {
     "data": {
      "text/html": [
       "<div>\n",
       "<style scoped>\n",
       "    .dataframe tbody tr th:only-of-type {\n",
       "        vertical-align: middle;\n",
       "    }\n",
       "\n",
       "    .dataframe tbody tr th {\n",
       "        vertical-align: top;\n",
       "    }\n",
       "\n",
       "    .dataframe thead th {\n",
       "        text-align: right;\n",
       "    }\n",
       "</style>\n",
       "<table border=\"1\" class=\"dataframe\">\n",
       "  <thead>\n",
       "    <tr style=\"text-align: right;\">\n",
       "      <th></th>\n",
       "      <th>personnummer</th>\n",
       "      <th>provsvarsdate</th>\n",
       "      <th>provsvar1</th>\n",
       "      <th>varde1</th>\n",
       "      <th>bedomning1</th>\n",
       "      <th>provsvar2</th>\n",
       "      <th>varde2</th>\n",
       "      <th>bedomning2</th>\n",
       "      <th>provsvar3</th>\n",
       "      <th>varde3</th>\n",
       "      <th>bedomning3</th>\n",
       "      <th>provsvar4</th>\n",
       "      <th>varde4</th>\n",
       "      <th>bedomning4</th>\n",
       "      <th>provsvar5</th>\n",
       "      <th>varde5</th>\n",
       "      <th>bedomning5</th>\n",
       "      <th>total_bedomning</th>\n",
       "    </tr>\n",
       "  </thead>\n",
       "  <tbody>\n",
       "    <tr>\n",
       "      <th>0</th>\n",
       "      <td>8201113128</td>\n",
       "      <td>22/12/2021</td>\n",
       "      <td>T4, fritt, P-</td>\n",
       "      <td>13</td>\n",
       "      <td>GRON</td>\n",
       "      <td>T3, fritt, P-</td>\n",
       "      <td>4.50</td>\n",
       "      <td>GRON</td>\n",
       "      <td>TSH, P-</td>\n",
       "      <td>1.0</td>\n",
       "      <td>GRON</td>\n",
       "      <td>ASAT, P-</td>\n",
       "      <td>0.49</td>\n",
       "      <td>GRON</td>\n",
       "      <td>ALAT, P-</td>\n",
       "      <td>0.64</td>\n",
       "      <td>GRON</td>\n",
       "      <td>GRON</td>\n",
       "    </tr>\n",
       "    <tr>\n",
       "      <th>1</th>\n",
       "      <td>8201113131</td>\n",
       "      <td>15/12/2021</td>\n",
       "      <td>T4, fritt, P-</td>\n",
       "      <td>17</td>\n",
       "      <td>GRON</td>\n",
       "      <td>T3, P-</td>\n",
       "      <td>0.76</td>\n",
       "      <td>GUL</td>\n",
       "      <td>TSH, P-</td>\n",
       "      <td>2.8</td>\n",
       "      <td>GRON</td>\n",
       "      <td>ASAT, P-</td>\n",
       "      <td>0.59</td>\n",
       "      <td>GRON</td>\n",
       "      <td>ALAT, P-</td>\n",
       "      <td>0.60</td>\n",
       "      <td>GRON</td>\n",
       "      <td>GUL</td>\n",
       "    </tr>\n",
       "    <tr>\n",
       "      <th>2</th>\n",
       "      <td>8201113134</td>\n",
       "      <td>14/12/2021</td>\n",
       "      <td>T4, fritt, P-</td>\n",
       "      <td>16</td>\n",
       "      <td>GRON</td>\n",
       "      <td>T3, P-</td>\n",
       "      <td>1.10</td>\n",
       "      <td>GRON</td>\n",
       "      <td>TSH, P-</td>\n",
       "      <td>5.1</td>\n",
       "      <td>GUL</td>\n",
       "      <td>ASAT, P-</td>\n",
       "      <td>0.40</td>\n",
       "      <td>GRON</td>\n",
       "      <td>ALAT, P-</td>\n",
       "      <td>0.28</td>\n",
       "      <td>GRON</td>\n",
       "      <td>GRON</td>\n",
       "    </tr>\n",
       "    <tr>\n",
       "      <th>3</th>\n",
       "      <td>8201113137</td>\n",
       "      <td>13/12/2021</td>\n",
       "      <td>T4, fritt, P-</td>\n",
       "      <td>16</td>\n",
       "      <td>GRON</td>\n",
       "      <td>T3, P-</td>\n",
       "      <td>1.00</td>\n",
       "      <td>GRON</td>\n",
       "      <td>TSH, P-</td>\n",
       "      <td>1.8</td>\n",
       "      <td>GRON</td>\n",
       "      <td>ASAT, P-</td>\n",
       "      <td>0.30</td>\n",
       "      <td>GRON</td>\n",
       "      <td>ALAT, P-</td>\n",
       "      <td>0.27</td>\n",
       "      <td>GRON</td>\n",
       "      <td>GRON</td>\n",
       "    </tr>\n",
       "    <tr>\n",
       "      <th>4</th>\n",
       "      <td>8201113140</td>\n",
       "      <td>18/12/2021</td>\n",
       "      <td>T4, fritt, P-</td>\n",
       "      <td>15</td>\n",
       "      <td>GRON</td>\n",
       "      <td>T3, P-</td>\n",
       "      <td>1.30</td>\n",
       "      <td>GRON</td>\n",
       "      <td>TSH, P-</td>\n",
       "      <td>1.1</td>\n",
       "      <td>GRON</td>\n",
       "      <td>ASAT, P-</td>\n",
       "      <td>0.33</td>\n",
       "      <td>GRON</td>\n",
       "      <td>ALAT, P-</td>\n",
       "      <td>0.18</td>\n",
       "      <td>GRON</td>\n",
       "      <td>GRON</td>\n",
       "    </tr>\n",
       "  </tbody>\n",
       "</table>\n",
       "</div>"
      ],
      "text/plain": [
       "   personnummer provsvarsdate      provsvar1  varde1 bedomning1  \\\n",
       "0    8201113128    22/12/2021  T4, fritt, P-      13       GRON   \n",
       "1    8201113131    15/12/2021  T4, fritt, P-      17       GRON   \n",
       "2    8201113134    14/12/2021  T4, fritt, P-      16       GRON   \n",
       "3    8201113137    13/12/2021  T4, fritt, P-      16       GRON   \n",
       "4    8201113140    18/12/2021  T4, fritt, P-      15       GRON   \n",
       "\n",
       "       provsvar2  varde2 bedomning2 provsvar3  varde3 bedomning3 provsvar4  \\\n",
       "0  T3, fritt, P-    4.50       GRON   TSH, P-     1.0       GRON  ASAT, P-   \n",
       "1         T3, P-    0.76        GUL   TSH, P-     2.8       GRON  ASAT, P-   \n",
       "2         T3, P-    1.10       GRON   TSH, P-     5.1        GUL  ASAT, P-   \n",
       "3         T3, P-    1.00       GRON   TSH, P-     1.8       GRON  ASAT, P-   \n",
       "4         T3, P-    1.30       GRON   TSH, P-     1.1       GRON  ASAT, P-   \n",
       "\n",
       "   varde4 bedomning4 provsvar5  varde5 bedomning5 total_bedomning  \n",
       "0    0.49       GRON  ALAT, P-    0.64       GRON            GRON  \n",
       "1    0.59       GRON  ALAT, P-    0.60       GRON             GUL  \n",
       "2    0.40       GRON  ALAT, P-    0.28       GRON            GRON  \n",
       "3    0.30       GRON  ALAT, P-    0.27       GRON            GRON  \n",
       "4    0.33       GRON  ALAT, P-    0.18       GRON            GRON  "
      ]
     },
     "execution_count": 51,
     "metadata": {},
     "output_type": "execute_result"
    }
   ],
   "source": [
    "data1_clean.head()"
   ]
  },
  {
   "cell_type": "markdown",
   "metadata": {},
   "source": [
    "#### Let's subset the whole dataset by color values (GRON, GUL, RÖD)\n",
    "#### and do conditional formatting"
   ]
  },
  {
   "cell_type": "code",
   "execution_count": 52,
   "metadata": {},
   "outputs": [],
   "source": [
    "## Highlight cells by string value (GRÖN, GUL, RÖD)\n",
    "## source: https://queirozf.com/entries/pandas-dataframe-examples-styling-cells-and-conditional-formatting\n",
    "\n",
    "fig = go.FigureWidget( layout=go.Layout() )\n",
    "\n",
    "def colored_background(cell_value):\n",
    "\n",
    "    highlight_green = 'background-color: green;'\n",
    "    highlight_yellow = 'background-color: yellow;'\n",
    "    highlight_red = 'background-color: red;'\n",
    "    default = ''\n",
    "\n",
    "    if type(cell_value) in [str]:\n",
    "        if cell_value == 'GRON':\n",
    "            return highlight_green\n",
    "        if cell_value == 'GUL':\n",
    "            return highlight_yellow\n",
    "        if cell_value == 'RÖD':\n",
    "            return highlight_red\n",
    "    return default\n",
    "\n",
    "#data1_clean.style.applymap(colored_background)\n"
   ]
  },
  {
   "cell_type": "code",
   "execution_count": 53,
   "metadata": {},
   "outputs": [
    {
     "data": {
      "application/vnd.jupyter.widget-view+json": {
       "model_id": "24737b9721844283a61228c08ca06456",
       "version_major": 2,
       "version_minor": 0
      },
      "text/plain": [
       "interactive(children=(Text(value='10', description='n'), Output()), _dom_classes=('widget-interact',))"
      ]
     },
     "metadata": {},
     "output_type": "display_data"
    }
   ],
   "source": [
    "def show_latest_cases(n):\n",
    "    n = int(n)\n",
    "    return data1_clean.sort_values('provsvarsdate', ascending= False).head(n).style.applymap(colored_background)\n",
    "\n",
    "interact(show_latest_cases, n='10')\n",
    "\n",
    "ipywLayout = widgets.Layout(border='solid 2px green')\n",
    "ipywLayout.display='none' # uncomment this, run cell again - then the graph/figure disappears\n",
    "#widgets.VBox([fig], layout=ipywLayout)"
   ]
  },
  {
   "cell_type": "code",
   "execution_count": 54,
   "metadata": {},
   "outputs": [],
   "source": [
    "# Save as an excel file for later visualization\n",
    "## source: https://stackoverflow.com/questions/47398937/saving-pandas-styler-object-in-anyway\n",
    "\n",
    "data1_clean.sort_values('provsvarsdate', ascending= False).head(n).style.applymap(colored_background) \\\n",
    "   .to_excel('provsvar_tabel.xlsx', engine='openpyxl')\n"
   ]
  },
  {
   "cell_type": "markdown",
   "metadata": {},
   "source": [
    "#### Let's subset the dataset over its total_bedomning different values (GRÖN, GUL, RÖD)"
   ]
  },
  {
   "cell_type": "code",
   "execution_count": 55,
   "metadata": {},
   "outputs": [
    {
     "data": {
      "text/html": [
       "<div>\n",
       "<style scoped>\n",
       "    .dataframe tbody tr th:only-of-type {\n",
       "        vertical-align: middle;\n",
       "    }\n",
       "\n",
       "    .dataframe tbody tr th {\n",
       "        vertical-align: top;\n",
       "    }\n",
       "\n",
       "    .dataframe thead th {\n",
       "        text-align: right;\n",
       "    }\n",
       "</style>\n",
       "<table border=\"1\" class=\"dataframe\">\n",
       "  <thead>\n",
       "    <tr style=\"text-align: right;\">\n",
       "      <th></th>\n",
       "      <th>personnummer</th>\n",
       "      <th>provsvarsdate</th>\n",
       "      <th>provsvar1</th>\n",
       "      <th>varde1</th>\n",
       "      <th>bedomning1</th>\n",
       "      <th>provsvar2</th>\n",
       "      <th>varde2</th>\n",
       "      <th>bedomning2</th>\n",
       "      <th>provsvar3</th>\n",
       "      <th>varde3</th>\n",
       "      <th>bedomning3</th>\n",
       "      <th>provsvar4</th>\n",
       "      <th>varde4</th>\n",
       "      <th>bedomning4</th>\n",
       "      <th>provsvar5</th>\n",
       "      <th>varde5</th>\n",
       "      <th>bedomning5</th>\n",
       "      <th>total_bedomning</th>\n",
       "    </tr>\n",
       "  </thead>\n",
       "  <tbody>\n",
       "    <tr>\n",
       "      <th>37</th>\n",
       "      <td>8201113239</td>\n",
       "      <td>13/11/2021</td>\n",
       "      <td>T4, fritt, P-</td>\n",
       "      <td>16</td>\n",
       "      <td>GRON</td>\n",
       "      <td>T3, P-</td>\n",
       "      <td>1.2</td>\n",
       "      <td>GRON</td>\n",
       "      <td>TSH, P-</td>\n",
       "      <td>1.8</td>\n",
       "      <td>GRON</td>\n",
       "      <td>ASAT, P-</td>\n",
       "      <td>0.44</td>\n",
       "      <td>GRON</td>\n",
       "      <td>ALAT, P-</td>\n",
       "      <td>0.24</td>\n",
       "      <td>GRON</td>\n",
       "      <td>GRON</td>\n",
       "    </tr>\n",
       "    <tr>\n",
       "      <th>38</th>\n",
       "      <td>8201113242</td>\n",
       "      <td>13/11/2021</td>\n",
       "      <td>T4, fritt, P-</td>\n",
       "      <td>13</td>\n",
       "      <td>GRON</td>\n",
       "      <td>T3, P-</td>\n",
       "      <td>1.3</td>\n",
       "      <td>GRON</td>\n",
       "      <td>TSH, P-</td>\n",
       "      <td>2.3</td>\n",
       "      <td>GRON</td>\n",
       "      <td>ASAT, P-</td>\n",
       "      <td>0.79</td>\n",
       "      <td>GUL</td>\n",
       "      <td>ALAT, P-</td>\n",
       "      <td>0.92</td>\n",
       "      <td>GRON</td>\n",
       "      <td>GRON</td>\n",
       "    </tr>\n",
       "    <tr>\n",
       "      <th>39</th>\n",
       "      <td>8201113245</td>\n",
       "      <td>13/11/2021</td>\n",
       "      <td>T4, fritt, P-</td>\n",
       "      <td>13</td>\n",
       "      <td>GRON</td>\n",
       "      <td>T3, P-</td>\n",
       "      <td>1.0</td>\n",
       "      <td>GRON</td>\n",
       "      <td>TSH, P-</td>\n",
       "      <td>2.3</td>\n",
       "      <td>GRON</td>\n",
       "      <td>ASAT, P-</td>\n",
       "      <td>0.80</td>\n",
       "      <td>GUL</td>\n",
       "      <td>ALAT, P-</td>\n",
       "      <td>0.92</td>\n",
       "      <td>GRON</td>\n",
       "      <td>GRON</td>\n",
       "    </tr>\n",
       "  </tbody>\n",
       "</table>\n",
       "</div>"
      ],
      "text/plain": [
       "    personnummer provsvarsdate      provsvar1  varde1 bedomning1 provsvar2  \\\n",
       "37    8201113239    13/11/2021  T4, fritt, P-      16       GRON    T3, P-   \n",
       "38    8201113242    13/11/2021  T4, fritt, P-      13       GRON    T3, P-   \n",
       "39    8201113245    13/11/2021  T4, fritt, P-      13       GRON    T3, P-   \n",
       "\n",
       "    varde2 bedomning2 provsvar3  varde3 bedomning3 provsvar4  varde4  \\\n",
       "37     1.2       GRON   TSH, P-     1.8       GRON  ASAT, P-    0.44   \n",
       "38     1.3       GRON   TSH, P-     2.3       GRON  ASAT, P-    0.79   \n",
       "39     1.0       GRON   TSH, P-     2.3       GRON  ASAT, P-    0.80   \n",
       "\n",
       "   bedomning4 provsvar5  varde5 bedomning5 total_bedomning  \n",
       "37       GRON  ALAT, P-    0.24       GRON            GRON  \n",
       "38        GUL  ALAT, P-    0.92       GRON            GRON  \n",
       "39        GUL  ALAT, P-    0.92       GRON            GRON  "
      ]
     },
     "execution_count": 55,
     "metadata": {},
     "output_type": "execute_result"
    }
   ],
   "source": [
    "#gron = data1_clean[[4,7,10,16,17]=='GRON']\n",
    "\n",
    "# Select rows with last_name equal to some values, all columns\n",
    "data_green = data1_clean.loc[data1_clean['total_bedomning'].isin(['GRON'])]  \n",
    "\n",
    "#gron = data1_clean[data1_clean['bedomning1', 'bedomning2', 'bedomning3', 'bedomning4', 'bedomning5', 'total_bedomning']=='GRON']\n",
    "\n",
    "data_green.tail(3)"
   ]
  },
  {
   "cell_type": "code",
   "execution_count": 56,
   "metadata": {},
   "outputs": [
    {
     "data": {
      "text/html": [
       "<div>\n",
       "<style scoped>\n",
       "    .dataframe tbody tr th:only-of-type {\n",
       "        vertical-align: middle;\n",
       "    }\n",
       "\n",
       "    .dataframe tbody tr th {\n",
       "        vertical-align: top;\n",
       "    }\n",
       "\n",
       "    .dataframe thead th {\n",
       "        text-align: right;\n",
       "    }\n",
       "</style>\n",
       "<table border=\"1\" class=\"dataframe\">\n",
       "  <thead>\n",
       "    <tr style=\"text-align: right;\">\n",
       "      <th></th>\n",
       "      <th>personnummer</th>\n",
       "      <th>provsvarsdate</th>\n",
       "      <th>provsvar1</th>\n",
       "      <th>varde1</th>\n",
       "      <th>bedomning1</th>\n",
       "      <th>provsvar2</th>\n",
       "      <th>varde2</th>\n",
       "      <th>bedomning2</th>\n",
       "      <th>provsvar3</th>\n",
       "      <th>varde3</th>\n",
       "      <th>bedomning3</th>\n",
       "      <th>provsvar4</th>\n",
       "      <th>varde4</th>\n",
       "      <th>bedomning4</th>\n",
       "      <th>provsvar5</th>\n",
       "      <th>varde5</th>\n",
       "      <th>bedomning5</th>\n",
       "      <th>total_bedomning</th>\n",
       "    </tr>\n",
       "  </thead>\n",
       "  <tbody>\n",
       "    <tr>\n",
       "      <th>1</th>\n",
       "      <td>8201113131</td>\n",
       "      <td>15/12/2021</td>\n",
       "      <td>T4, fritt, P-</td>\n",
       "      <td>17</td>\n",
       "      <td>GRON</td>\n",
       "      <td>T3, P-</td>\n",
       "      <td>0.76</td>\n",
       "      <td>GUL</td>\n",
       "      <td>TSH, P-</td>\n",
       "      <td>2.8</td>\n",
       "      <td>GRON</td>\n",
       "      <td>ASAT, P-</td>\n",
       "      <td>0.59</td>\n",
       "      <td>GRON</td>\n",
       "      <td>ALAT, P-</td>\n",
       "      <td>0.60</td>\n",
       "      <td>GRON</td>\n",
       "      <td>GUL</td>\n",
       "    </tr>\n",
       "    <tr>\n",
       "      <th>30</th>\n",
       "      <td>8201113218</td>\n",
       "      <td>22/11/2021</td>\n",
       "      <td>T4, fritt, P-</td>\n",
       "      <td>14</td>\n",
       "      <td>GRON</td>\n",
       "      <td>T3, P-</td>\n",
       "      <td>1.40</td>\n",
       "      <td>GRON</td>\n",
       "      <td>TSH, P-</td>\n",
       "      <td>1.3</td>\n",
       "      <td>GRON</td>\n",
       "      <td>ASAT, P-</td>\n",
       "      <td>0.36</td>\n",
       "      <td>GRON</td>\n",
       "      <td>ALAT, P-</td>\n",
       "      <td>0.29</td>\n",
       "      <td>GRON</td>\n",
       "      <td>GUL</td>\n",
       "    </tr>\n",
       "    <tr>\n",
       "      <th>31</th>\n",
       "      <td>8201113221</td>\n",
       "      <td>21/11/2021</td>\n",
       "      <td>T4, fritt, P-</td>\n",
       "      <td>11</td>\n",
       "      <td>GRON</td>\n",
       "      <td>T3, P-</td>\n",
       "      <td>1.20</td>\n",
       "      <td>GRON</td>\n",
       "      <td>TSH, P-</td>\n",
       "      <td>1.7</td>\n",
       "      <td>GRON</td>\n",
       "      <td>ASAT, P-</td>\n",
       "      <td>0.56</td>\n",
       "      <td>GRON</td>\n",
       "      <td>ALAT, P-</td>\n",
       "      <td>0.59</td>\n",
       "      <td>GRON</td>\n",
       "      <td>GUL</td>\n",
       "    </tr>\n",
       "  </tbody>\n",
       "</table>\n",
       "</div>"
      ],
      "text/plain": [
       "    personnummer provsvarsdate      provsvar1  varde1 bedomning1 provsvar2  \\\n",
       "1     8201113131    15/12/2021  T4, fritt, P-      17       GRON    T3, P-   \n",
       "30    8201113218    22/11/2021  T4, fritt, P-      14       GRON    T3, P-   \n",
       "31    8201113221    21/11/2021  T4, fritt, P-      11       GRON    T3, P-   \n",
       "\n",
       "    varde2 bedomning2 provsvar3  varde3 bedomning3 provsvar4  varde4  \\\n",
       "1     0.76        GUL   TSH, P-     2.8       GRON  ASAT, P-    0.59   \n",
       "30    1.40       GRON   TSH, P-     1.3       GRON  ASAT, P-    0.36   \n",
       "31    1.20       GRON   TSH, P-     1.7       GRON  ASAT, P-    0.56   \n",
       "\n",
       "   bedomning4 provsvar5  varde5 bedomning5 total_bedomning  \n",
       "1        GRON  ALAT, P-    0.60       GRON             GUL  \n",
       "30       GRON  ALAT, P-    0.29       GRON             GUL  \n",
       "31       GRON  ALAT, P-    0.59       GRON             GUL  "
      ]
     },
     "execution_count": 56,
     "metadata": {},
     "output_type": "execute_result"
    }
   ],
   "source": [
    "data_yellow = data1_clean[data1_clean['total_bedomning']=='GUL']\n",
    "\n",
    "data_yellow.tail(3)"
   ]
  },
  {
   "cell_type": "code",
   "execution_count": 57,
   "metadata": {
    "scrolled": false
   },
   "outputs": [
    {
     "data": {
      "text/html": [
       "<div>\n",
       "<style scoped>\n",
       "    .dataframe tbody tr th:only-of-type {\n",
       "        vertical-align: middle;\n",
       "    }\n",
       "\n",
       "    .dataframe tbody tr th {\n",
       "        vertical-align: top;\n",
       "    }\n",
       "\n",
       "    .dataframe thead th {\n",
       "        text-align: right;\n",
       "    }\n",
       "</style>\n",
       "<table border=\"1\" class=\"dataframe\">\n",
       "  <thead>\n",
       "    <tr style=\"text-align: right;\">\n",
       "      <th></th>\n",
       "      <th>personnummer</th>\n",
       "      <th>provsvarsdate</th>\n",
       "      <th>provsvar1</th>\n",
       "      <th>varde1</th>\n",
       "      <th>bedomning1</th>\n",
       "      <th>provsvar2</th>\n",
       "      <th>varde2</th>\n",
       "      <th>bedomning2</th>\n",
       "      <th>provsvar3</th>\n",
       "      <th>varde3</th>\n",
       "      <th>bedomning3</th>\n",
       "      <th>provsvar4</th>\n",
       "      <th>varde4</th>\n",
       "      <th>bedomning4</th>\n",
       "      <th>provsvar5</th>\n",
       "      <th>varde5</th>\n",
       "      <th>bedomning5</th>\n",
       "      <th>total_bedomning</th>\n",
       "    </tr>\n",
       "  </thead>\n",
       "  <tbody>\n",
       "    <tr>\n",
       "      <th>22</th>\n",
       "      <td>8201113194</td>\n",
       "      <td>30/11/2021</td>\n",
       "      <td>T4, fritt, P-</td>\n",
       "      <td>18</td>\n",
       "      <td>GRON</td>\n",
       "      <td>T3, P-</td>\n",
       "      <td>1.0</td>\n",
       "      <td>GRON</td>\n",
       "      <td>TSH, P-</td>\n",
       "      <td>0.3</td>\n",
       "      <td>GRON</td>\n",
       "      <td>ASAT, P-</td>\n",
       "      <td>0.39</td>\n",
       "      <td>GRON</td>\n",
       "      <td>ALAT, P-</td>\n",
       "      <td>0.34</td>\n",
       "      <td>GRON</td>\n",
       "      <td>RÖD</td>\n",
       "    </tr>\n",
       "  </tbody>\n",
       "</table>\n",
       "</div>"
      ],
      "text/plain": [
       "    personnummer provsvarsdate      provsvar1  varde1 bedomning1 provsvar2  \\\n",
       "22    8201113194    30/11/2021  T4, fritt, P-      18       GRON    T3, P-   \n",
       "\n",
       "    varde2 bedomning2 provsvar3  varde3 bedomning3 provsvar4  varde4  \\\n",
       "22     1.0       GRON   TSH, P-     0.3       GRON  ASAT, P-    0.39   \n",
       "\n",
       "   bedomning4 provsvar5  varde5 bedomning5 total_bedomning  \n",
       "22       GRON  ALAT, P-    0.34       GRON             RÖD  "
      ]
     },
     "execution_count": 57,
     "metadata": {},
     "output_type": "execute_result"
    }
   ],
   "source": [
    "data_red = data1_clean[data1_clean['total_bedomning']=='RÖD']\n",
    "\n",
    "data_red.tail()"
   ]
  },
  {
   "cell_type": "markdown",
   "metadata": {},
   "source": [
    "## Slide to check for the highest provsvar and bedomning"
   ]
  },
  {
   "cell_type": "code",
   "execution_count": 58,
   "metadata": {},
   "outputs": [
    {
     "data": {
      "application/vnd.jupyter.widget-view+json": {
       "model_id": "cc928aca1766448ca40077b09fe38d38",
       "version_major": 2,
       "version_minor": 0
      },
      "text/plain": [
       "interactive(children=(IntSlider(value=10, description='n', max=30, min=-10), Output()), _dom_classes=('widget-…"
      ]
     },
     "metadata": {},
     "output_type": "display_data"
    },
    {
     "data": {
      "application/vnd.jupyter.widget-view+json": {
       "model_id": "bc672872ab784eeabcb18a853c8439f6",
       "version_major": 2,
       "version_minor": 0
      },
      "text/plain": [
       "VBox(children=(FigureWidget({\n",
       "    'data': [], 'layout': {'template': '...'}\n",
       "}),), layout=Layout(border='solid …"
      ]
     },
     "metadata": {},
     "output_type": "display_data"
    }
   ],
   "source": [
    "## plotting the 10 highest prosvar från varde 1, grupperade av bedömningar (GRÖN, GUL och RÖD färger)\n",
    "fig = go.FigureWidget( layout=go.Layout() )\n",
    "\n",
    "def bubble_chart(n):\n",
    "    fig = px.scatter(data1_clean.head(n), x=\"personnummer\", y=\"varde1\", size=\"varde1\", color=\"total_bedomning\",\n",
    "               hover_name=\"personnummer\", size_max=60)\n",
    "    fig.update_layout(\n",
    "    title=str(n) +\" Highest values 1\",\n",
    "    xaxis_title=\"Patient\",\n",
    "    yaxis_title=\"Värde 1\",\n",
    "    width = 700\n",
    "    )\n",
    "    fig.show();\n",
    "\n",
    "interact(bubble_chart, n=10)\n",
    "\n",
    "ipywLayout = widgets.Layout(border='solid 2px green')\n",
    "ipywLayout.display='none'\n",
    "widgets.VBox([fig], layout=ipywLayout)"
   ]
  },
  {
   "cell_type": "code",
   "execution_count": 59,
   "metadata": {},
   "outputs": [
    {
     "data": {
      "application/vnd.jupyter.widget-view+json": {
       "model_id": "7dd5a198f7804399a6f8962c57204970",
       "version_major": 2,
       "version_minor": 0
      },
      "text/plain": [
       "interactive(children=(IntSlider(value=10, description='n', max=30, min=-10), Output()), _dom_classes=('widget-…"
      ]
     },
     "metadata": {},
     "output_type": "display_data"
    },
    {
     "data": {
      "application/vnd.jupyter.widget-view+json": {
       "model_id": "ebf5c723d30643e8a3c87cc19863cb6f",
       "version_major": 2,
       "version_minor": 0
      },
      "text/plain": [
       "VBox(children=(FigureWidget({\n",
       "    'data': [], 'layout': {'template': '...'}\n",
       "}),), layout=Layout(border='solid …"
      ]
     },
     "metadata": {},
     "output_type": "display_data"
    }
   ],
   "source": [
    "## plotting the 10 highest prosvar från varde 1, grupperade av bedömningar (GRÖN, GUL och RÖD färger)\n",
    "fig = go.FigureWidget( layout=go.Layout() )\n",
    "\n",
    "def bubble_chart(n):\n",
    "    fig = px.scatter(data1_clean.head(n), x=\"personnummer\", y=\"varde2\", size=\"varde2\", color=\"total_bedomning\",\n",
    "               hover_name=\"personnummer\", size_max=60)\n",
    "    fig.update_layout(\n",
    "    title=str(n) +\" Highest values 2\",\n",
    "    xaxis_title=\"Patient\",\n",
    "    yaxis_title=\"Värde 2\",\n",
    "    width = 700\n",
    "    )\n",
    "    fig.show();\n",
    "\n",
    "interact(bubble_chart, n=10)\n",
    "\n",
    "ipywLayout = widgets.Layout(border='solid 2px green')\n",
    "ipywLayout.display='none'\n",
    "widgets.VBox([fig], layout=ipywLayout)"
   ]
  },
  {
   "cell_type": "code",
   "execution_count": 60,
   "metadata": {},
   "outputs": [
    {
     "data": {
      "application/vnd.plotly.v1+json": {
       "config": {
        "plotlyServerURL": "https://plot.ly"
       },
       "data": [
        {
         "dimensions": [
          {
           "axis": {
            "matches": true
           },
           "label": "varde1",
           "values": [
            13,
            16,
            16,
            15,
            12,
            14,
            13,
            13,
            12,
            14,
            12,
            19,
            16,
            14,
            14,
            16,
            19,
            14,
            17,
            19,
            16,
            16,
            16,
            16,
            16,
            14,
            15,
            13,
            14,
            16,
            13,
            16,
            15,
            16,
            13,
            13
           ]
          },
          {
           "axis": {
            "matches": true
           },
           "label": "varde2",
           "values": [
            4.5,
            1.1,
            1,
            1.3,
            0.91,
            1.3,
            1.5,
            3.8,
            1.1,
            1.2,
            1.2,
            3.8,
            0.93,
            3.3,
            4.2,
            1.3,
            0.72,
            1,
            3.6,
            3.4,
            1.1,
            0.87,
            1.4,
            0.95,
            1.2,
            0.94,
            1.3,
            1.4,
            0.91,
            1,
            0.92,
            0.75,
            1.1,
            1.2,
            1.3,
            1
           ]
          },
          {
           "axis": {
            "matches": true
           },
           "label": "varde3",
           "values": [
            1,
            5.1,
            1.8,
            1.1,
            3.2,
            0.1,
            2.9,
            0.1,
            4.1,
            5.8,
            3.8,
            0.6,
            0.9,
            2.1,
            1.4,
            1.7,
            2.3,
            1,
            2.4,
            2.7,
            0.4,
            6.4,
            2.9,
            1.3,
            1.4,
            0.9,
            1.1,
            1.7,
            1.7,
            1.7,
            3.9,
            2.2,
            1.6,
            1.8,
            2.3,
            2.3
           ]
          },
          {
           "axis": {
            "matches": true
           },
           "label": "varde4",
           "values": [
            0.49,
            0.4,
            0.3,
            0.33,
            0.66,
            0.37,
            0.68,
            0.63,
            0.47,
            0.46,
            0.55,
            0.37,
            0.33,
            0.26,
            0.71,
            0.69,
            0.27,
            0.43,
            0.59,
            0.45,
            0.32,
            0.52,
            0.44,
            0.45,
            0.4,
            0.29,
            0.37,
            0.41,
            0.4,
            0.44,
            0.65,
            0.37,
            0.28,
            0.44,
            0.79,
            0.8
           ]
          },
          {
           "axis": {
            "matches": true
           },
           "label": "varde5",
           "values": [
            0.64,
            0.28,
            0.27,
            0.18,
            0.36,
            0.38,
            0.61,
            0.47,
            0.7,
            0.45,
            0.37,
            0.21,
            0.16,
            0.14,
            0.58,
            0.65,
            0.22,
            0.31,
            0.49,
            0.29,
            0.15,
            0.48,
            0.72,
            0.48,
            0.18,
            0.34,
            0.33,
            0.41,
            0.31,
            0.24,
            0.54,
            0.32,
            0.19,
            0.24,
            0.92,
            0.92
           ]
          },
          {
           "axis": {
            "matches": true
           },
           "label": "total_bedomning",
           "values": [
            "GRON",
            "GRON",
            "GRON",
            "GRON",
            "GRON",
            "GRON",
            "GRON",
            "GRON",
            "GRON",
            "GRON",
            "GRON",
            "GRON",
            "GRON",
            "GRON",
            "GRON",
            "GRON",
            "GRON",
            "GRON",
            "GRON",
            "GRON",
            "GRON",
            "GRON",
            "GRON",
            "GRON",
            "GRON",
            "GRON",
            "GRON",
            "GRON",
            "GRON",
            "GRON",
            "GRON",
            "GRON",
            "GRON",
            "GRON",
            "GRON",
            "GRON"
           ]
          }
         ],
         "hovertemplate": "total_bedomning=GRON<br>%{xaxis.title.text}=%{x}<br>%{yaxis.title.text}=%{y}<extra></extra>",
         "legendgroup": "GRON",
         "marker": {
          "color": "#636efa",
          "symbol": "circle"
         },
         "name": "GRON",
         "showlegend": true,
         "type": "splom"
        },
        {
         "dimensions": [
          {
           "axis": {
            "matches": true
           },
           "label": "varde1",
           "values": [
            17,
            14,
            11
           ]
          },
          {
           "axis": {
            "matches": true
           },
           "label": "varde2",
           "values": [
            0.76,
            1.4,
            1.2
           ]
          },
          {
           "axis": {
            "matches": true
           },
           "label": "varde3",
           "values": [
            2.8,
            1.3,
            1.7
           ]
          },
          {
           "axis": {
            "matches": true
           },
           "label": "varde4",
           "values": [
            0.59,
            0.36,
            0.56
           ]
          },
          {
           "axis": {
            "matches": true
           },
           "label": "varde5",
           "values": [
            0.6,
            0.29,
            0.59
           ]
          },
          {
           "axis": {
            "matches": true
           },
           "label": "total_bedomning",
           "values": [
            "GUL",
            "GUL",
            "GUL"
           ]
          }
         ],
         "hovertemplate": "total_bedomning=GUL<br>%{xaxis.title.text}=%{x}<br>%{yaxis.title.text}=%{y}<extra></extra>",
         "legendgroup": "GUL",
         "marker": {
          "color": "#EF553B",
          "symbol": "circle"
         },
         "name": "GUL",
         "showlegend": true,
         "type": "splom"
        },
        {
         "dimensions": [
          {
           "axis": {
            "matches": true
           },
           "label": "varde1",
           "values": [
            18
           ]
          },
          {
           "axis": {
            "matches": true
           },
           "label": "varde2",
           "values": [
            1
           ]
          },
          {
           "axis": {
            "matches": true
           },
           "label": "varde3",
           "values": [
            0.3
           ]
          },
          {
           "axis": {
            "matches": true
           },
           "label": "varde4",
           "values": [
            0.39
           ]
          },
          {
           "axis": {
            "matches": true
           },
           "label": "varde5",
           "values": [
            0.34
           ]
          },
          {
           "axis": {
            "matches": true
           },
           "label": "total_bedomning",
           "values": [
            "RÖD"
           ]
          }
         ],
         "hovertemplate": "total_bedomning=RÖD<br>%{xaxis.title.text}=%{x}<br>%{yaxis.title.text}=%{y}<extra></extra>",
         "legendgroup": "RÖD",
         "marker": {
          "color": "#00cc96",
          "symbol": "circle"
         },
         "name": "RÖD",
         "showlegend": true,
         "type": "splom"
        }
       ],
       "layout": {
        "dragmode": "select",
        "legend": {
         "title": {
          "text": "total_bedomning"
         },
         "tracegroupgap": 0
        },
        "margin": {
         "t": 60
        },
        "template": {
         "data": {
          "bar": [
           {
            "error_x": {
             "color": "#2a3f5f"
            },
            "error_y": {
             "color": "#2a3f5f"
            },
            "marker": {
             "line": {
              "color": "#E5ECF6",
              "width": 0.5
             },
             "pattern": {
              "fillmode": "overlay",
              "size": 10,
              "solidity": 0.2
             }
            },
            "type": "bar"
           }
          ],
          "barpolar": [
           {
            "marker": {
             "line": {
              "color": "#E5ECF6",
              "width": 0.5
             },
             "pattern": {
              "fillmode": "overlay",
              "size": 10,
              "solidity": 0.2
             }
            },
            "type": "barpolar"
           }
          ],
          "carpet": [
           {
            "aaxis": {
             "endlinecolor": "#2a3f5f",
             "gridcolor": "white",
             "linecolor": "white",
             "minorgridcolor": "white",
             "startlinecolor": "#2a3f5f"
            },
            "baxis": {
             "endlinecolor": "#2a3f5f",
             "gridcolor": "white",
             "linecolor": "white",
             "minorgridcolor": "white",
             "startlinecolor": "#2a3f5f"
            },
            "type": "carpet"
           }
          ],
          "choropleth": [
           {
            "colorbar": {
             "outlinewidth": 0,
             "ticks": ""
            },
            "type": "choropleth"
           }
          ],
          "contour": [
           {
            "colorbar": {
             "outlinewidth": 0,
             "ticks": ""
            },
            "colorscale": [
             [
              0,
              "#0d0887"
             ],
             [
              0.1111111111111111,
              "#46039f"
             ],
             [
              0.2222222222222222,
              "#7201a8"
             ],
             [
              0.3333333333333333,
              "#9c179e"
             ],
             [
              0.4444444444444444,
              "#bd3786"
             ],
             [
              0.5555555555555556,
              "#d8576b"
             ],
             [
              0.6666666666666666,
              "#ed7953"
             ],
             [
              0.7777777777777778,
              "#fb9f3a"
             ],
             [
              0.8888888888888888,
              "#fdca26"
             ],
             [
              1,
              "#f0f921"
             ]
            ],
            "type": "contour"
           }
          ],
          "contourcarpet": [
           {
            "colorbar": {
             "outlinewidth": 0,
             "ticks": ""
            },
            "type": "contourcarpet"
           }
          ],
          "heatmap": [
           {
            "colorbar": {
             "outlinewidth": 0,
             "ticks": ""
            },
            "colorscale": [
             [
              0,
              "#0d0887"
             ],
             [
              0.1111111111111111,
              "#46039f"
             ],
             [
              0.2222222222222222,
              "#7201a8"
             ],
             [
              0.3333333333333333,
              "#9c179e"
             ],
             [
              0.4444444444444444,
              "#bd3786"
             ],
             [
              0.5555555555555556,
              "#d8576b"
             ],
             [
              0.6666666666666666,
              "#ed7953"
             ],
             [
              0.7777777777777778,
              "#fb9f3a"
             ],
             [
              0.8888888888888888,
              "#fdca26"
             ],
             [
              1,
              "#f0f921"
             ]
            ],
            "type": "heatmap"
           }
          ],
          "heatmapgl": [
           {
            "colorbar": {
             "outlinewidth": 0,
             "ticks": ""
            },
            "colorscale": [
             [
              0,
              "#0d0887"
             ],
             [
              0.1111111111111111,
              "#46039f"
             ],
             [
              0.2222222222222222,
              "#7201a8"
             ],
             [
              0.3333333333333333,
              "#9c179e"
             ],
             [
              0.4444444444444444,
              "#bd3786"
             ],
             [
              0.5555555555555556,
              "#d8576b"
             ],
             [
              0.6666666666666666,
              "#ed7953"
             ],
             [
              0.7777777777777778,
              "#fb9f3a"
             ],
             [
              0.8888888888888888,
              "#fdca26"
             ],
             [
              1,
              "#f0f921"
             ]
            ],
            "type": "heatmapgl"
           }
          ],
          "histogram": [
           {
            "marker": {
             "pattern": {
              "fillmode": "overlay",
              "size": 10,
              "solidity": 0.2
             }
            },
            "type": "histogram"
           }
          ],
          "histogram2d": [
           {
            "colorbar": {
             "outlinewidth": 0,
             "ticks": ""
            },
            "colorscale": [
             [
              0,
              "#0d0887"
             ],
             [
              0.1111111111111111,
              "#46039f"
             ],
             [
              0.2222222222222222,
              "#7201a8"
             ],
             [
              0.3333333333333333,
              "#9c179e"
             ],
             [
              0.4444444444444444,
              "#bd3786"
             ],
             [
              0.5555555555555556,
              "#d8576b"
             ],
             [
              0.6666666666666666,
              "#ed7953"
             ],
             [
              0.7777777777777778,
              "#fb9f3a"
             ],
             [
              0.8888888888888888,
              "#fdca26"
             ],
             [
              1,
              "#f0f921"
             ]
            ],
            "type": "histogram2d"
           }
          ],
          "histogram2dcontour": [
           {
            "colorbar": {
             "outlinewidth": 0,
             "ticks": ""
            },
            "colorscale": [
             [
              0,
              "#0d0887"
             ],
             [
              0.1111111111111111,
              "#46039f"
             ],
             [
              0.2222222222222222,
              "#7201a8"
             ],
             [
              0.3333333333333333,
              "#9c179e"
             ],
             [
              0.4444444444444444,
              "#bd3786"
             ],
             [
              0.5555555555555556,
              "#d8576b"
             ],
             [
              0.6666666666666666,
              "#ed7953"
             ],
             [
              0.7777777777777778,
              "#fb9f3a"
             ],
             [
              0.8888888888888888,
              "#fdca26"
             ],
             [
              1,
              "#f0f921"
             ]
            ],
            "type": "histogram2dcontour"
           }
          ],
          "mesh3d": [
           {
            "colorbar": {
             "outlinewidth": 0,
             "ticks": ""
            },
            "type": "mesh3d"
           }
          ],
          "parcoords": [
           {
            "line": {
             "colorbar": {
              "outlinewidth": 0,
              "ticks": ""
             }
            },
            "type": "parcoords"
           }
          ],
          "pie": [
           {
            "automargin": true,
            "type": "pie"
           }
          ],
          "scatter": [
           {
            "marker": {
             "colorbar": {
              "outlinewidth": 0,
              "ticks": ""
             }
            },
            "type": "scatter"
           }
          ],
          "scatter3d": [
           {
            "line": {
             "colorbar": {
              "outlinewidth": 0,
              "ticks": ""
             }
            },
            "marker": {
             "colorbar": {
              "outlinewidth": 0,
              "ticks": ""
             }
            },
            "type": "scatter3d"
           }
          ],
          "scattercarpet": [
           {
            "marker": {
             "colorbar": {
              "outlinewidth": 0,
              "ticks": ""
             }
            },
            "type": "scattercarpet"
           }
          ],
          "scattergeo": [
           {
            "marker": {
             "colorbar": {
              "outlinewidth": 0,
              "ticks": ""
             }
            },
            "type": "scattergeo"
           }
          ],
          "scattergl": [
           {
            "marker": {
             "colorbar": {
              "outlinewidth": 0,
              "ticks": ""
             }
            },
            "type": "scattergl"
           }
          ],
          "scattermapbox": [
           {
            "marker": {
             "colorbar": {
              "outlinewidth": 0,
              "ticks": ""
             }
            },
            "type": "scattermapbox"
           }
          ],
          "scatterpolar": [
           {
            "marker": {
             "colorbar": {
              "outlinewidth": 0,
              "ticks": ""
             }
            },
            "type": "scatterpolar"
           }
          ],
          "scatterpolargl": [
           {
            "marker": {
             "colorbar": {
              "outlinewidth": 0,
              "ticks": ""
             }
            },
            "type": "scatterpolargl"
           }
          ],
          "scatterternary": [
           {
            "marker": {
             "colorbar": {
              "outlinewidth": 0,
              "ticks": ""
             }
            },
            "type": "scatterternary"
           }
          ],
          "surface": [
           {
            "colorbar": {
             "outlinewidth": 0,
             "ticks": ""
            },
            "colorscale": [
             [
              0,
              "#0d0887"
             ],
             [
              0.1111111111111111,
              "#46039f"
             ],
             [
              0.2222222222222222,
              "#7201a8"
             ],
             [
              0.3333333333333333,
              "#9c179e"
             ],
             [
              0.4444444444444444,
              "#bd3786"
             ],
             [
              0.5555555555555556,
              "#d8576b"
             ],
             [
              0.6666666666666666,
              "#ed7953"
             ],
             [
              0.7777777777777778,
              "#fb9f3a"
             ],
             [
              0.8888888888888888,
              "#fdca26"
             ],
             [
              1,
              "#f0f921"
             ]
            ],
            "type": "surface"
           }
          ],
          "table": [
           {
            "cells": {
             "fill": {
              "color": "#EBF0F8"
             },
             "line": {
              "color": "white"
             }
            },
            "header": {
             "fill": {
              "color": "#C8D4E3"
             },
             "line": {
              "color": "white"
             }
            },
            "type": "table"
           }
          ]
         },
         "layout": {
          "annotationdefaults": {
           "arrowcolor": "#2a3f5f",
           "arrowhead": 0,
           "arrowwidth": 1
          },
          "autotypenumbers": "strict",
          "coloraxis": {
           "colorbar": {
            "outlinewidth": 0,
            "ticks": ""
           }
          },
          "colorscale": {
           "diverging": [
            [
             0,
             "#8e0152"
            ],
            [
             0.1,
             "#c51b7d"
            ],
            [
             0.2,
             "#de77ae"
            ],
            [
             0.3,
             "#f1b6da"
            ],
            [
             0.4,
             "#fde0ef"
            ],
            [
             0.5,
             "#f7f7f7"
            ],
            [
             0.6,
             "#e6f5d0"
            ],
            [
             0.7,
             "#b8e186"
            ],
            [
             0.8,
             "#7fbc41"
            ],
            [
             0.9,
             "#4d9221"
            ],
            [
             1,
             "#276419"
            ]
           ],
           "sequential": [
            [
             0,
             "#0d0887"
            ],
            [
             0.1111111111111111,
             "#46039f"
            ],
            [
             0.2222222222222222,
             "#7201a8"
            ],
            [
             0.3333333333333333,
             "#9c179e"
            ],
            [
             0.4444444444444444,
             "#bd3786"
            ],
            [
             0.5555555555555556,
             "#d8576b"
            ],
            [
             0.6666666666666666,
             "#ed7953"
            ],
            [
             0.7777777777777778,
             "#fb9f3a"
            ],
            [
             0.8888888888888888,
             "#fdca26"
            ],
            [
             1,
             "#f0f921"
            ]
           ],
           "sequentialminus": [
            [
             0,
             "#0d0887"
            ],
            [
             0.1111111111111111,
             "#46039f"
            ],
            [
             0.2222222222222222,
             "#7201a8"
            ],
            [
             0.3333333333333333,
             "#9c179e"
            ],
            [
             0.4444444444444444,
             "#bd3786"
            ],
            [
             0.5555555555555556,
             "#d8576b"
            ],
            [
             0.6666666666666666,
             "#ed7953"
            ],
            [
             0.7777777777777778,
             "#fb9f3a"
            ],
            [
             0.8888888888888888,
             "#fdca26"
            ],
            [
             1,
             "#f0f921"
            ]
           ]
          },
          "colorway": [
           "#636efa",
           "#EF553B",
           "#00cc96",
           "#ab63fa",
           "#FFA15A",
           "#19d3f3",
           "#FF6692",
           "#B6E880",
           "#FF97FF",
           "#FECB52"
          ],
          "font": {
           "color": "#2a3f5f"
          },
          "geo": {
           "bgcolor": "white",
           "lakecolor": "white",
           "landcolor": "#E5ECF6",
           "showlakes": true,
           "showland": true,
           "subunitcolor": "white"
          },
          "hoverlabel": {
           "align": "left"
          },
          "hovermode": "closest",
          "mapbox": {
           "style": "light"
          },
          "paper_bgcolor": "white",
          "plot_bgcolor": "#E5ECF6",
          "polar": {
           "angularaxis": {
            "gridcolor": "white",
            "linecolor": "white",
            "ticks": ""
           },
           "bgcolor": "#E5ECF6",
           "radialaxis": {
            "gridcolor": "white",
            "linecolor": "white",
            "ticks": ""
           }
          },
          "scene": {
           "xaxis": {
            "backgroundcolor": "#E5ECF6",
            "gridcolor": "white",
            "gridwidth": 2,
            "linecolor": "white",
            "showbackground": true,
            "ticks": "",
            "zerolinecolor": "white"
           },
           "yaxis": {
            "backgroundcolor": "#E5ECF6",
            "gridcolor": "white",
            "gridwidth": 2,
            "linecolor": "white",
            "showbackground": true,
            "ticks": "",
            "zerolinecolor": "white"
           },
           "zaxis": {
            "backgroundcolor": "#E5ECF6",
            "gridcolor": "white",
            "gridwidth": 2,
            "linecolor": "white",
            "showbackground": true,
            "ticks": "",
            "zerolinecolor": "white"
           }
          },
          "shapedefaults": {
           "line": {
            "color": "#2a3f5f"
           }
          },
          "ternary": {
           "aaxis": {
            "gridcolor": "white",
            "linecolor": "white",
            "ticks": ""
           },
           "baxis": {
            "gridcolor": "white",
            "linecolor": "white",
            "ticks": ""
           },
           "bgcolor": "#E5ECF6",
           "caxis": {
            "gridcolor": "white",
            "linecolor": "white",
            "ticks": ""
           }
          },
          "title": {
           "x": 0.05
          },
          "xaxis": {
           "automargin": true,
           "gridcolor": "white",
           "linecolor": "white",
           "ticks": "",
           "title": {
            "standoff": 15
           },
           "zerolinecolor": "white",
           "zerolinewidth": 2
          },
          "yaxis": {
           "automargin": true,
           "gridcolor": "white",
           "linecolor": "white",
           "ticks": "",
           "title": {
            "standoff": 15
           },
           "zerolinecolor": "white",
           "zerolinewidth": 2
          }
         }
        }
       }
      },
      "text/html": [
       "<div>                            <div id=\"61d7349b-d913-4171-8f2a-7509a0dd1c8c\" class=\"plotly-graph-div\" style=\"height:525px; width:100%;\"></div>            <script type=\"text/javascript\">                require([\"plotly\"], function(Plotly) {                    window.PLOTLYENV=window.PLOTLYENV || {};                                    if (document.getElementById(\"61d7349b-d913-4171-8f2a-7509a0dd1c8c\")) {                    Plotly.newPlot(                        \"61d7349b-d913-4171-8f2a-7509a0dd1c8c\",                        [{\"dimensions\":[{\"axis\":{\"matches\":true},\"label\":\"varde1\",\"values\":[13,16,16,15,12,14,13,13,12,14,12,19,16,14,14,16,19,14,17,19,16,16,16,16,16,14,15,13,14,16,13,16,15,16,13,13]},{\"axis\":{\"matches\":true},\"label\":\"varde2\",\"values\":[4.5,1.1,1.0,1.3,0.91,1.3,1.5,3.8,1.1,1.2,1.2,3.8,0.93,3.3,4.2,1.3,0.72,1.0,3.6,3.4,1.1,0.87,1.4,0.95,1.2,0.94,1.3,1.4,0.91,1.0,0.92,0.75,1.1,1.2,1.3,1.0]},{\"axis\":{\"matches\":true},\"label\":\"varde3\",\"values\":[1.0,5.1,1.8,1.1,3.2,0.1,2.9,0.1,4.1,5.8,3.8,0.6,0.9,2.1,1.4,1.7,2.3,1.0,2.4,2.7,0.4,6.4,2.9,1.3,1.4,0.9,1.1,1.7,1.7,1.7,3.9,2.2,1.6,1.8,2.3,2.3]},{\"axis\":{\"matches\":true},\"label\":\"varde4\",\"values\":[0.49,0.4,0.3,0.33,0.66,0.37,0.68,0.63,0.47,0.46,0.55,0.37,0.33,0.26,0.71,0.69,0.27,0.43,0.59,0.45,0.32,0.52,0.44,0.45,0.4,0.29,0.37,0.41,0.4,0.44,0.65,0.37,0.28,0.44,0.79,0.8]},{\"axis\":{\"matches\":true},\"label\":\"varde5\",\"values\":[0.64,0.28,0.27,0.18,0.36,0.38,0.61,0.47,0.7,0.45,0.37,0.21,0.16,0.14,0.58,0.65,0.22,0.31,0.49,0.29,0.15,0.48,0.72,0.48,0.18,0.34,0.33,0.41,0.31,0.24,0.54,0.32,0.19,0.24,0.92,0.92]},{\"axis\":{\"matches\":true},\"label\":\"total_bedomning\",\"values\":[\"GRON\",\"GRON\",\"GRON\",\"GRON\",\"GRON\",\"GRON\",\"GRON\",\"GRON\",\"GRON\",\"GRON\",\"GRON\",\"GRON\",\"GRON\",\"GRON\",\"GRON\",\"GRON\",\"GRON\",\"GRON\",\"GRON\",\"GRON\",\"GRON\",\"GRON\",\"GRON\",\"GRON\",\"GRON\",\"GRON\",\"GRON\",\"GRON\",\"GRON\",\"GRON\",\"GRON\",\"GRON\",\"GRON\",\"GRON\",\"GRON\",\"GRON\"]}],\"hovertemplate\":\"total_bedomning=GRON<br>%{xaxis.title.text}=%{x}<br>%{yaxis.title.text}=%{y}<extra></extra>\",\"legendgroup\":\"GRON\",\"marker\":{\"color\":\"#636efa\",\"symbol\":\"circle\"},\"name\":\"GRON\",\"showlegend\":true,\"type\":\"splom\"},{\"dimensions\":[{\"axis\":{\"matches\":true},\"label\":\"varde1\",\"values\":[17,14,11]},{\"axis\":{\"matches\":true},\"label\":\"varde2\",\"values\":[0.76,1.4,1.2]},{\"axis\":{\"matches\":true},\"label\":\"varde3\",\"values\":[2.8,1.3,1.7]},{\"axis\":{\"matches\":true},\"label\":\"varde4\",\"values\":[0.59,0.36,0.56]},{\"axis\":{\"matches\":true},\"label\":\"varde5\",\"values\":[0.6,0.29,0.59]},{\"axis\":{\"matches\":true},\"label\":\"total_bedomning\",\"values\":[\"GUL\",\"GUL\",\"GUL\"]}],\"hovertemplate\":\"total_bedomning=GUL<br>%{xaxis.title.text}=%{x}<br>%{yaxis.title.text}=%{y}<extra></extra>\",\"legendgroup\":\"GUL\",\"marker\":{\"color\":\"#EF553B\",\"symbol\":\"circle\"},\"name\":\"GUL\",\"showlegend\":true,\"type\":\"splom\"},{\"dimensions\":[{\"axis\":{\"matches\":true},\"label\":\"varde1\",\"values\":[18]},{\"axis\":{\"matches\":true},\"label\":\"varde2\",\"values\":[1.0]},{\"axis\":{\"matches\":true},\"label\":\"varde3\",\"values\":[0.3]},{\"axis\":{\"matches\":true},\"label\":\"varde4\",\"values\":[0.39]},{\"axis\":{\"matches\":true},\"label\":\"varde5\",\"values\":[0.34]},{\"axis\":{\"matches\":true},\"label\":\"total_bedomning\",\"values\":[\"R\\u00d6D\"]}],\"hovertemplate\":\"total_bedomning=R\\u00d6D<br>%{xaxis.title.text}=%{x}<br>%{yaxis.title.text}=%{y}<extra></extra>\",\"legendgroup\":\"R\\u00d6D\",\"marker\":{\"color\":\"#00cc96\",\"symbol\":\"circle\"},\"name\":\"R\\u00d6D\",\"showlegend\":true,\"type\":\"splom\"}],                        {\"template\":{\"data\":{\"bar\":[{\"error_x\":{\"color\":\"#2a3f5f\"},\"error_y\":{\"color\":\"#2a3f5f\"},\"marker\":{\"line\":{\"color\":\"#E5ECF6\",\"width\":0.5},\"pattern\":{\"fillmode\":\"overlay\",\"size\":10,\"solidity\":0.2}},\"type\":\"bar\"}],\"barpolar\":[{\"marker\":{\"line\":{\"color\":\"#E5ECF6\",\"width\":0.5},\"pattern\":{\"fillmode\":\"overlay\",\"size\":10,\"solidity\":0.2}},\"type\":\"barpolar\"}],\"carpet\":[{\"aaxis\":{\"endlinecolor\":\"#2a3f5f\",\"gridcolor\":\"white\",\"linecolor\":\"white\",\"minorgridcolor\":\"white\",\"startlinecolor\":\"#2a3f5f\"},\"baxis\":{\"endlinecolor\":\"#2a3f5f\",\"gridcolor\":\"white\",\"linecolor\":\"white\",\"minorgridcolor\":\"white\",\"startlinecolor\":\"#2a3f5f\"},\"type\":\"carpet\"}],\"choropleth\":[{\"colorbar\":{\"outlinewidth\":0,\"ticks\":\"\"},\"type\":\"choropleth\"}],\"contour\":[{\"colorbar\":{\"outlinewidth\":0,\"ticks\":\"\"},\"colorscale\":[[0.0,\"#0d0887\"],[0.1111111111111111,\"#46039f\"],[0.2222222222222222,\"#7201a8\"],[0.3333333333333333,\"#9c179e\"],[0.4444444444444444,\"#bd3786\"],[0.5555555555555556,\"#d8576b\"],[0.6666666666666666,\"#ed7953\"],[0.7777777777777778,\"#fb9f3a\"],[0.8888888888888888,\"#fdca26\"],[1.0,\"#f0f921\"]],\"type\":\"contour\"}],\"contourcarpet\":[{\"colorbar\":{\"outlinewidth\":0,\"ticks\":\"\"},\"type\":\"contourcarpet\"}],\"heatmap\":[{\"colorbar\":{\"outlinewidth\":0,\"ticks\":\"\"},\"colorscale\":[[0.0,\"#0d0887\"],[0.1111111111111111,\"#46039f\"],[0.2222222222222222,\"#7201a8\"],[0.3333333333333333,\"#9c179e\"],[0.4444444444444444,\"#bd3786\"],[0.5555555555555556,\"#d8576b\"],[0.6666666666666666,\"#ed7953\"],[0.7777777777777778,\"#fb9f3a\"],[0.8888888888888888,\"#fdca26\"],[1.0,\"#f0f921\"]],\"type\":\"heatmap\"}],\"heatmapgl\":[{\"colorbar\":{\"outlinewidth\":0,\"ticks\":\"\"},\"colorscale\":[[0.0,\"#0d0887\"],[0.1111111111111111,\"#46039f\"],[0.2222222222222222,\"#7201a8\"],[0.3333333333333333,\"#9c179e\"],[0.4444444444444444,\"#bd3786\"],[0.5555555555555556,\"#d8576b\"],[0.6666666666666666,\"#ed7953\"],[0.7777777777777778,\"#fb9f3a\"],[0.8888888888888888,\"#fdca26\"],[1.0,\"#f0f921\"]],\"type\":\"heatmapgl\"}],\"histogram\":[{\"marker\":{\"pattern\":{\"fillmode\":\"overlay\",\"size\":10,\"solidity\":0.2}},\"type\":\"histogram\"}],\"histogram2d\":[{\"colorbar\":{\"outlinewidth\":0,\"ticks\":\"\"},\"colorscale\":[[0.0,\"#0d0887\"],[0.1111111111111111,\"#46039f\"],[0.2222222222222222,\"#7201a8\"],[0.3333333333333333,\"#9c179e\"],[0.4444444444444444,\"#bd3786\"],[0.5555555555555556,\"#d8576b\"],[0.6666666666666666,\"#ed7953\"],[0.7777777777777778,\"#fb9f3a\"],[0.8888888888888888,\"#fdca26\"],[1.0,\"#f0f921\"]],\"type\":\"histogram2d\"}],\"histogram2dcontour\":[{\"colorbar\":{\"outlinewidth\":0,\"ticks\":\"\"},\"colorscale\":[[0.0,\"#0d0887\"],[0.1111111111111111,\"#46039f\"],[0.2222222222222222,\"#7201a8\"],[0.3333333333333333,\"#9c179e\"],[0.4444444444444444,\"#bd3786\"],[0.5555555555555556,\"#d8576b\"],[0.6666666666666666,\"#ed7953\"],[0.7777777777777778,\"#fb9f3a\"],[0.8888888888888888,\"#fdca26\"],[1.0,\"#f0f921\"]],\"type\":\"histogram2dcontour\"}],\"mesh3d\":[{\"colorbar\":{\"outlinewidth\":0,\"ticks\":\"\"},\"type\":\"mesh3d\"}],\"parcoords\":[{\"line\":{\"colorbar\":{\"outlinewidth\":0,\"ticks\":\"\"}},\"type\":\"parcoords\"}],\"pie\":[{\"automargin\":true,\"type\":\"pie\"}],\"scatter\":[{\"marker\":{\"colorbar\":{\"outlinewidth\":0,\"ticks\":\"\"}},\"type\":\"scatter\"}],\"scatter3d\":[{\"line\":{\"colorbar\":{\"outlinewidth\":0,\"ticks\":\"\"}},\"marker\":{\"colorbar\":{\"outlinewidth\":0,\"ticks\":\"\"}},\"type\":\"scatter3d\"}],\"scattercarpet\":[{\"marker\":{\"colorbar\":{\"outlinewidth\":0,\"ticks\":\"\"}},\"type\":\"scattercarpet\"}],\"scattergeo\":[{\"marker\":{\"colorbar\":{\"outlinewidth\":0,\"ticks\":\"\"}},\"type\":\"scattergeo\"}],\"scattergl\":[{\"marker\":{\"colorbar\":{\"outlinewidth\":0,\"ticks\":\"\"}},\"type\":\"scattergl\"}],\"scattermapbox\":[{\"marker\":{\"colorbar\":{\"outlinewidth\":0,\"ticks\":\"\"}},\"type\":\"scattermapbox\"}],\"scatterpolar\":[{\"marker\":{\"colorbar\":{\"outlinewidth\":0,\"ticks\":\"\"}},\"type\":\"scatterpolar\"}],\"scatterpolargl\":[{\"marker\":{\"colorbar\":{\"outlinewidth\":0,\"ticks\":\"\"}},\"type\":\"scatterpolargl\"}],\"scatterternary\":[{\"marker\":{\"colorbar\":{\"outlinewidth\":0,\"ticks\":\"\"}},\"type\":\"scatterternary\"}],\"surface\":[{\"colorbar\":{\"outlinewidth\":0,\"ticks\":\"\"},\"colorscale\":[[0.0,\"#0d0887\"],[0.1111111111111111,\"#46039f\"],[0.2222222222222222,\"#7201a8\"],[0.3333333333333333,\"#9c179e\"],[0.4444444444444444,\"#bd3786\"],[0.5555555555555556,\"#d8576b\"],[0.6666666666666666,\"#ed7953\"],[0.7777777777777778,\"#fb9f3a\"],[0.8888888888888888,\"#fdca26\"],[1.0,\"#f0f921\"]],\"type\":\"surface\"}],\"table\":[{\"cells\":{\"fill\":{\"color\":\"#EBF0F8\"},\"line\":{\"color\":\"white\"}},\"header\":{\"fill\":{\"color\":\"#C8D4E3\"},\"line\":{\"color\":\"white\"}},\"type\":\"table\"}]},\"layout\":{\"annotationdefaults\":{\"arrowcolor\":\"#2a3f5f\",\"arrowhead\":0,\"arrowwidth\":1},\"autotypenumbers\":\"strict\",\"coloraxis\":{\"colorbar\":{\"outlinewidth\":0,\"ticks\":\"\"}},\"colorscale\":{\"diverging\":[[0,\"#8e0152\"],[0.1,\"#c51b7d\"],[0.2,\"#de77ae\"],[0.3,\"#f1b6da\"],[0.4,\"#fde0ef\"],[0.5,\"#f7f7f7\"],[0.6,\"#e6f5d0\"],[0.7,\"#b8e186\"],[0.8,\"#7fbc41\"],[0.9,\"#4d9221\"],[1,\"#276419\"]],\"sequential\":[[0.0,\"#0d0887\"],[0.1111111111111111,\"#46039f\"],[0.2222222222222222,\"#7201a8\"],[0.3333333333333333,\"#9c179e\"],[0.4444444444444444,\"#bd3786\"],[0.5555555555555556,\"#d8576b\"],[0.6666666666666666,\"#ed7953\"],[0.7777777777777778,\"#fb9f3a\"],[0.8888888888888888,\"#fdca26\"],[1.0,\"#f0f921\"]],\"sequentialminus\":[[0.0,\"#0d0887\"],[0.1111111111111111,\"#46039f\"],[0.2222222222222222,\"#7201a8\"],[0.3333333333333333,\"#9c179e\"],[0.4444444444444444,\"#bd3786\"],[0.5555555555555556,\"#d8576b\"],[0.6666666666666666,\"#ed7953\"],[0.7777777777777778,\"#fb9f3a\"],[0.8888888888888888,\"#fdca26\"],[1.0,\"#f0f921\"]]},\"colorway\":[\"#636efa\",\"#EF553B\",\"#00cc96\",\"#ab63fa\",\"#FFA15A\",\"#19d3f3\",\"#FF6692\",\"#B6E880\",\"#FF97FF\",\"#FECB52\"],\"font\":{\"color\":\"#2a3f5f\"},\"geo\":{\"bgcolor\":\"white\",\"lakecolor\":\"white\",\"landcolor\":\"#E5ECF6\",\"showlakes\":true,\"showland\":true,\"subunitcolor\":\"white\"},\"hoverlabel\":{\"align\":\"left\"},\"hovermode\":\"closest\",\"mapbox\":{\"style\":\"light\"},\"paper_bgcolor\":\"white\",\"plot_bgcolor\":\"#E5ECF6\",\"polar\":{\"angularaxis\":{\"gridcolor\":\"white\",\"linecolor\":\"white\",\"ticks\":\"\"},\"bgcolor\":\"#E5ECF6\",\"radialaxis\":{\"gridcolor\":\"white\",\"linecolor\":\"white\",\"ticks\":\"\"}},\"scene\":{\"xaxis\":{\"backgroundcolor\":\"#E5ECF6\",\"gridcolor\":\"white\",\"gridwidth\":2,\"linecolor\":\"white\",\"showbackground\":true,\"ticks\":\"\",\"zerolinecolor\":\"white\"},\"yaxis\":{\"backgroundcolor\":\"#E5ECF6\",\"gridcolor\":\"white\",\"gridwidth\":2,\"linecolor\":\"white\",\"showbackground\":true,\"ticks\":\"\",\"zerolinecolor\":\"white\"},\"zaxis\":{\"backgroundcolor\":\"#E5ECF6\",\"gridcolor\":\"white\",\"gridwidth\":2,\"linecolor\":\"white\",\"showbackground\":true,\"ticks\":\"\",\"zerolinecolor\":\"white\"}},\"shapedefaults\":{\"line\":{\"color\":\"#2a3f5f\"}},\"ternary\":{\"aaxis\":{\"gridcolor\":\"white\",\"linecolor\":\"white\",\"ticks\":\"\"},\"baxis\":{\"gridcolor\":\"white\",\"linecolor\":\"white\",\"ticks\":\"\"},\"bgcolor\":\"#E5ECF6\",\"caxis\":{\"gridcolor\":\"white\",\"linecolor\":\"white\",\"ticks\":\"\"}},\"title\":{\"x\":0.05},\"xaxis\":{\"automargin\":true,\"gridcolor\":\"white\",\"linecolor\":\"white\",\"ticks\":\"\",\"title\":{\"standoff\":15},\"zerolinecolor\":\"white\",\"zerolinewidth\":2},\"yaxis\":{\"automargin\":true,\"gridcolor\":\"white\",\"linecolor\":\"white\",\"ticks\":\"\",\"title\":{\"standoff\":15},\"zerolinecolor\":\"white\",\"zerolinewidth\":2}}},\"legend\":{\"title\":{\"text\":\"total_bedomning\"},\"tracegroupgap\":0},\"margin\":{\"t\":60},\"dragmode\":\"select\"},                        {\"responsive\": true}                    ).then(function(){\n",
       "                            \n",
       "var gd = document.getElementById('61d7349b-d913-4171-8f2a-7509a0dd1c8c');\n",
       "var x = new MutationObserver(function (mutations, observer) {{\n",
       "        var display = window.getComputedStyle(gd).display;\n",
       "        if (!display || display === 'none') {{\n",
       "            console.log([gd, 'removed!']);\n",
       "            Plotly.purge(gd);\n",
       "            observer.disconnect();\n",
       "        }}\n",
       "}});\n",
       "\n",
       "// Listen for the removal of the full notebook cells\n",
       "var notebookContainer = gd.closest('#notebook-container');\n",
       "if (notebookContainer) {{\n",
       "    x.observe(notebookContainer, {childList: true});\n",
       "}}\n",
       "\n",
       "// Listen for the clearing of the current output cell\n",
       "var outputEl = gd.closest('.output');\n",
       "if (outputEl) {{\n",
       "    x.observe(outputEl, {childList: true});\n",
       "}}\n",
       "\n",
       "                        })                };                });            </script>        </div>"
      ]
     },
     "metadata": {},
     "output_type": "display_data"
    }
   ],
   "source": [
    "import plotly.express as px\n",
    "\n",
    "fig = px.scatter_matrix(data1_clean, dimensions=['varde1', 'varde2', 'varde3',\n",
    "       'varde4', 'varde5', 'total_bedomning'], color=\"total_bedomning\")\n",
    "fig.show()"
   ]
  },
  {
   "cell_type": "code",
   "execution_count": null,
   "metadata": {},
   "outputs": [],
   "source": []
  },
  {
   "cell_type": "code",
   "execution_count": null,
   "metadata": {},
   "outputs": [],
   "source": []
  },
  {
   "cell_type": "markdown",
   "metadata": {},
   "source": [
    "### Set personnummer and/or provsvarsdate as index"
   ]
  },
  {
   "cell_type": "code",
   "execution_count": 61,
   "metadata": {},
   "outputs": [],
   "source": [
    "#data1_clean.set_index(\"personnummer\", inplace=True)\n",
    "\n",
    "#data1_clean.head()\n",
    "#data1_index[8201113179]"
   ]
  },
  {
   "cell_type": "markdown",
   "metadata": {},
   "source": [
    "## Deploying the Jypter Notebook"
   ]
  },
  {
   "cell_type": "code",
   "execution_count": 62,
   "metadata": {},
   "outputs": [],
   "source": [
    "#!pip install --upgrade pip"
   ]
  },
  {
   "cell_type": "markdown",
   "metadata": {},
   "source": [
    "### Turning our Jupyter notebooks into a standalone web application using Voila Python package\n",
    "[source](https://towardsdatascience.com/creating-interactive-jupyter-notebooks-and-deployment-on-heroku-using-voila-aa1c115981ca)\n",
    "\n",
    "#### Install voila from the command line\n",
    "```\n",
    "pip install voila\n",
    "#pip install voila-material (optional)\n",
    "pip install voila-material\n",
    "```"
   ]
  },
  {
   "cell_type": "markdown",
   "metadata": {},
   "source": [
    "#### After installation,  run the command in any terminal\n",
    "```\n",
    "voila nameofnotebook.ipynb \n",
    "```\n",
    "\n",
    "\n",
    "\n"
   ]
  },
  {
   "cell_type": "markdown",
   "metadata": {
    "id": "K3OkZjtyvWhS"
   },
   "source": [
    "## [Notebook covers:](https://github.com/datasciencewithharshit/voila-covid-19-dashboard)\n",
    "\n",
    "## Link to the analysis and other resources:\n",
    "* [Link to GitHub repo: ](https://github.com/dnzengou/provsvar_visu)\n",
    "* #voila <notebook_name>.ipynb --strip_sources=False\n",
    "* [Link to Author's Youtube: ](https://www.youtube.com/channel/UCH-xwLTKQaABNs2QmGxK2bQ?view_as=subscriber)\n"
   ]
  }
 ],
 "metadata": {
  "colab": {
   "collapsed_sections": [],
   "name": "Copy of covid_19_dashboard.ipynb",
   "provenance": []
  },
  "kernelspec": {
   "display_name": "Python 3",
   "language": "python",
   "name": "python3"
  },
  "language_info": {
   "codemirror_mode": {
    "name": "ipython",
    "version": 3
   },
   "file_extension": ".py",
   "mimetype": "text/x-python",
   "name": "python",
   "nbconvert_exporter": "python",
   "pygments_lexer": "ipython3",
   "version": "3.8.8"
  },
  "widgets": {
   "application/vnd.jupyter.widget-state+json": {
    "00bd79ce90184ad690adde0bcfeab1e2": {
     "model_module": "@jupyter-widgets/base",
     "model_name": "LayoutModel",
     "state": {
      "_model_module": "@jupyter-widgets/base",
      "_model_module_version": "1.2.0",
      "_model_name": "LayoutModel",
      "_view_count": null,
      "_view_module": "@jupyter-widgets/base",
      "_view_module_version": "1.2.0",
      "_view_name": "LayoutView",
      "align_content": null,
      "align_items": null,
      "align_self": null,
      "border": null,
      "bottom": null,
      "display": null,
      "flex": null,
      "flex_flow": null,
      "grid_area": null,
      "grid_auto_columns": null,
      "grid_auto_flow": null,
      "grid_auto_rows": null,
      "grid_column": null,
      "grid_gap": null,
      "grid_row": null,
      "grid_template_areas": null,
      "grid_template_columns": null,
      "grid_template_rows": null,
      "height": null,
      "justify_content": null,
      "justify_items": null,
      "left": null,
      "margin": null,
      "max_height": null,
      "max_width": null,
      "min_height": null,
      "min_width": null,
      "object_fit": null,
      "object_position": null,
      "order": null,
      "overflow": null,
      "overflow_x": null,
      "overflow_y": null,
      "padding": null,
      "right": null,
      "top": null,
      "visibility": null,
      "width": null
     }
    },
    "106df13296e44e1e879ab518e0d05851": {
     "model_module": "plotlywidget",
     "model_name": "FigureModel",
     "state": {
      "_config": {
       "plotlyServerURL": "https://plot.ly"
      },
      "_data": [],
      "_dom_classes": [],
      "_js2py_layoutDelta": {},
      "_js2py_pointsCallback": {},
      "_js2py_relayout": {},
      "_js2py_restyle": {},
      "_js2py_traceDeltas": {},
      "_js2py_update": {},
      "_last_layout_edit_id": 0,
      "_last_trace_edit_id": 0,
      "_layout": {},
      "_model_module": "plotlywidget",
      "_model_module_version": "^1.4.0",
      "_model_name": "FigureModel",
      "_py2js_addTraces": {},
      "_py2js_animate": {},
      "_py2js_deleteTraces": {},
      "_py2js_moveTraces": {},
      "_py2js_relayout": null,
      "_py2js_removeLayoutProps": {},
      "_py2js_removeTraceProps": {},
      "_py2js_restyle": {},
      "_py2js_update": {},
      "_view_count": 0,
      "_view_module": "plotlywidget",
      "_view_module_version": "^1.4.0",
      "_view_name": "FigureView"
     }
    },
    "11a809e798d743a28dba4fa55f626697": {
     "model_module": "@jupyter-widgets/base",
     "model_name": "LayoutModel",
     "state": {
      "_model_module": "@jupyter-widgets/base",
      "_model_module_version": "1.2.0",
      "_model_name": "LayoutModel",
      "_view_count": null,
      "_view_module": "@jupyter-widgets/base",
      "_view_module_version": "1.2.0",
      "_view_name": "LayoutView",
      "align_content": null,
      "align_items": null,
      "align_self": null,
      "border": "solid 2px green",
      "bottom": null,
      "display": "none",
      "flex": null,
      "flex_flow": null,
      "grid_area": null,
      "grid_auto_columns": null,
      "grid_auto_flow": null,
      "grid_auto_rows": null,
      "grid_column": null,
      "grid_gap": null,
      "grid_row": null,
      "grid_template_areas": null,
      "grid_template_columns": null,
      "grid_template_rows": null,
      "height": null,
      "justify_content": null,
      "justify_items": null,
      "left": null,
      "margin": null,
      "max_height": null,
      "max_width": null,
      "min_height": null,
      "min_width": null,
      "object_fit": null,
      "object_position": null,
      "order": null,
      "overflow": null,
      "overflow_x": null,
      "overflow_y": null,
      "padding": null,
      "right": null,
      "top": null,
      "visibility": null,
      "width": null
     }
    },
    "24b93318484a4ab1aa9d7994c4fd00aa": {
     "model_module": "@jupyter-widgets/controls",
     "model_name": "DescriptionStyleModel",
     "state": {
      "_model_module": "@jupyter-widgets/controls",
      "_model_module_version": "1.5.0",
      "_model_name": "DescriptionStyleModel",
      "_view_count": null,
      "_view_module": "@jupyter-widgets/base",
      "_view_module_version": "1.2.0",
      "_view_name": "StyleView",
      "description_width": ""
     }
    },
    "2ecb0a85dc6749ad8812a11eeb3257c9": {
     "model_module": "@jupyter-widgets/controls",
     "model_name": "VBoxModel",
     "state": {
      "_dom_classes": [
       "widget-interact"
      ],
      "_model_module": "@jupyter-widgets/controls",
      "_model_module_version": "1.5.0",
      "_model_name": "VBoxModel",
      "_view_count": null,
      "_view_module": "@jupyter-widgets/controls",
      "_view_module_version": "1.5.0",
      "_view_name": "VBoxView",
      "box_style": "",
      "children": [
       "IPY_MODEL_8c807f3a1d884641b077c417041e9d74",
       "IPY_MODEL_3576c1489d24443b95b5d3147f4d2ed3"
      ],
      "layout": "IPY_MODEL_8998ca6a976d4aab9732fd96b965313a"
     }
    },
    "31550b7cadb142a888953e9d5d0bc19a": {
     "model_module": "@jupyter-widgets/base",
     "model_name": "LayoutModel",
     "state": {
      "_model_module": "@jupyter-widgets/base",
      "_model_module_version": "1.2.0",
      "_model_name": "LayoutModel",
      "_view_count": null,
      "_view_module": "@jupyter-widgets/base",
      "_view_module_version": "1.2.0",
      "_view_name": "LayoutView",
      "align_content": null,
      "align_items": null,
      "align_self": null,
      "border": null,
      "bottom": null,
      "display": null,
      "flex": null,
      "flex_flow": null,
      "grid_area": null,
      "grid_auto_columns": null,
      "grid_auto_flow": null,
      "grid_auto_rows": null,
      "grid_column": null,
      "grid_gap": null,
      "grid_row": null,
      "grid_template_areas": null,
      "grid_template_columns": null,
      "grid_template_rows": null,
      "height": null,
      "justify_content": null,
      "justify_items": null,
      "left": null,
      "margin": null,
      "max_height": null,
      "max_width": null,
      "min_height": null,
      "min_width": null,
      "object_fit": null,
      "object_position": null,
      "order": null,
      "overflow": null,
      "overflow_x": null,
      "overflow_y": null,
      "padding": null,
      "right": null,
      "top": null,
      "visibility": null,
      "width": null
     }
    },
    "31b7288513924ef59e4c63fcc876490f": {
     "model_module": "@jupyter-widgets/controls",
     "model_name": "DescriptionStyleModel",
     "state": {
      "_model_module": "@jupyter-widgets/controls",
      "_model_module_version": "1.5.0",
      "_model_name": "DescriptionStyleModel",
      "_view_count": null,
      "_view_module": "@jupyter-widgets/base",
      "_view_module_version": "1.2.0",
      "_view_name": "StyleView",
      "description_width": ""
     }
    },
    "3367ef246d2b4823acaf28055f73b1d1": {
     "model_module": "@jupyter-widgets/base",
     "model_name": "LayoutModel",
     "state": {
      "_model_module": "@jupyter-widgets/base",
      "_model_module_version": "1.2.0",
      "_model_name": "LayoutModel",
      "_view_count": null,
      "_view_module": "@jupyter-widgets/base",
      "_view_module_version": "1.2.0",
      "_view_name": "LayoutView",
      "align_content": null,
      "align_items": null,
      "align_self": null,
      "border": null,
      "bottom": null,
      "display": null,
      "flex": null,
      "flex_flow": null,
      "grid_area": null,
      "grid_auto_columns": null,
      "grid_auto_flow": null,
      "grid_auto_rows": null,
      "grid_column": null,
      "grid_gap": null,
      "grid_row": null,
      "grid_template_areas": null,
      "grid_template_columns": null,
      "grid_template_rows": null,
      "height": null,
      "justify_content": null,
      "justify_items": null,
      "left": null,
      "margin": null,
      "max_height": null,
      "max_width": null,
      "min_height": null,
      "min_width": null,
      "object_fit": null,
      "object_position": null,
      "order": null,
      "overflow": null,
      "overflow_x": null,
      "overflow_y": null,
      "padding": null,
      "right": null,
      "top": null,
      "visibility": null,
      "width": null
     }
    },
    "33e903920e564049a2519f60f8c5f659": {
     "model_module": "@jupyter-widgets/base",
     "model_name": "LayoutModel",
     "state": {
      "_model_module": "@jupyter-widgets/base",
      "_model_module_version": "1.2.0",
      "_model_name": "LayoutModel",
      "_view_count": null,
      "_view_module": "@jupyter-widgets/base",
      "_view_module_version": "1.2.0",
      "_view_name": "LayoutView",
      "align_content": null,
      "align_items": null,
      "align_self": null,
      "border": null,
      "bottom": null,
      "display": null,
      "flex": null,
      "flex_flow": null,
      "grid_area": null,
      "grid_auto_columns": null,
      "grid_auto_flow": null,
      "grid_auto_rows": null,
      "grid_column": null,
      "grid_gap": null,
      "grid_row": null,
      "grid_template_areas": null,
      "grid_template_columns": null,
      "grid_template_rows": null,
      "height": null,
      "justify_content": null,
      "justify_items": null,
      "left": null,
      "margin": null,
      "max_height": null,
      "max_width": null,
      "min_height": null,
      "min_width": null,
      "object_fit": null,
      "object_position": null,
      "order": null,
      "overflow": null,
      "overflow_x": null,
      "overflow_y": null,
      "padding": null,
      "right": null,
      "top": null,
      "visibility": null,
      "width": null
     }
    },
    "3493cca756c743089f7dd254030d2e5c": {
     "model_module": "@jupyter-widgets/controls",
     "model_name": "TextModel",
     "state": {
      "_dom_classes": [],
      "_model_module": "@jupyter-widgets/controls",
      "_model_module_version": "1.5.0",
      "_model_name": "TextModel",
      "_view_count": null,
      "_view_module": "@jupyter-widgets/controls",
      "_view_module_version": "1.5.0",
      "_view_name": "TextView",
      "continuous_update": true,
      "description": "n",
      "description_tooltip": null,
      "disabled": false,
      "layout": "IPY_MODEL_e46a73aa406c497ba72d25dfa6d8641c",
      "placeholder": "​",
      "style": "IPY_MODEL_24b93318484a4ab1aa9d7994c4fd00aa",
      "value": "10"
     }
    },
    "34e089229d7343e58f919d677fe73a76": {
     "model_module": "@jupyter-widgets/base",
     "model_name": "LayoutModel",
     "state": {
      "_model_module": "@jupyter-widgets/base",
      "_model_module_version": "1.2.0",
      "_model_name": "LayoutModel",
      "_view_count": null,
      "_view_module": "@jupyter-widgets/base",
      "_view_module_version": "1.2.0",
      "_view_name": "LayoutView",
      "align_content": null,
      "align_items": null,
      "align_self": null,
      "border": null,
      "bottom": null,
      "display": null,
      "flex": null,
      "flex_flow": null,
      "grid_area": null,
      "grid_auto_columns": null,
      "grid_auto_flow": null,
      "grid_auto_rows": null,
      "grid_column": null,
      "grid_gap": null,
      "grid_row": null,
      "grid_template_areas": null,
      "grid_template_columns": null,
      "grid_template_rows": null,
      "height": null,
      "justify_content": null,
      "justify_items": null,
      "left": null,
      "margin": null,
      "max_height": null,
      "max_width": null,
      "min_height": null,
      "min_width": null,
      "object_fit": null,
      "object_position": null,
      "order": null,
      "overflow": null,
      "overflow_x": null,
      "overflow_y": null,
      "padding": null,
      "right": null,
      "top": null,
      "visibility": null,
      "width": null
     }
    },
    "3576c1489d24443b95b5d3147f4d2ed3": {
     "model_module": "@jupyter-widgets/output",
     "model_name": "OutputModel",
     "state": {
      "_dom_classes": [],
      "_model_module": "@jupyter-widgets/output",
      "_model_module_version": "1.0.0",
      "_model_name": "OutputModel",
      "_view_count": null,
      "_view_module": "@jupyter-widgets/output",
      "_view_module_version": "1.0.0",
      "_view_name": "OutputView",
      "layout": "IPY_MODEL_00bd79ce90184ad690adde0bcfeab1e2",
      "msg_id": "",
      "outputs": [
       {
        "metadata": {
         "tags": []
        },
        "output_type": "display_data",
        "text/html": "<html>\n<head><meta charset=\"utf-8\" /></head>\n<body>\n    <div>\n            <script src=\"https://cdnjs.cloudflare.com/ajax/libs/mathjax/2.7.5/MathJax.js?config=TeX-AMS-MML_SVG\"></script><script type=\"text/javascript\">if (window.MathJax) {MathJax.Hub.Config({SVG: {font: \"STIX-Web\"}});}</script>\n                <script type=\"text/javascript\">window.PlotlyConfig = {MathJaxConfig: 'local'};</script>\n        <script src=\"https://cdn.plot.ly/plotly-latest.min.js\"></script>    \n            <div id=\"9fbb8596-e85e-4444-88ed-ffda4e12e7b1\" class=\"plotly-graph-div\" style=\"height:525px; width:900px;\"></div>\n            <script type=\"text/javascript\">\n                \n                    window.PLOTLYENV=window.PLOTLYENV || {};\n                    \n                if (document.getElementById(\"9fbb8596-e85e-4444-88ed-ffda4e12e7b1\")) {\n                    Plotly.newPlot(\n                        '9fbb8596-e85e-4444-88ed-ffda4e12e7b1',\n                        [{\"hoverlabel\": {\"namelength\": 0}, \"hovertemplate\": \"<b>%{hovertext}</b><br><br>country=%{x}<br>deaths=%{marker.size}\", \"hovertext\": [\"Laos\"], \"legendgroup\": \"country=Laos\", \"marker\": {\"color\": \"#636efa\", \"size\": [0.0], \"sizemode\": \"area\", \"sizeref\": 0.016944444444444446, \"symbol\": \"circle\"}, \"mode\": \"markers\", \"name\": \"country=Laos\", \"showlegend\": true, \"type\": \"scatter\", \"x\": [\"Laos\"], \"xaxis\": \"x\", \"y\": [0.0], \"yaxis\": \"y\"}, {\"hoverlabel\": {\"namelength\": 0}, \"hovertemplate\": \"<b>%{hovertext}</b><br><br>country=%{x}<br>deaths=%{marker.size}\", \"hovertext\": [\"Cambodia\"], \"legendgroup\": \"country=Cambodia\", \"marker\": {\"color\": \"#EF553B\", \"size\": [0.0], \"sizemode\": \"area\", \"sizeref\": 0.016944444444444446, \"symbol\": \"circle\"}, \"mode\": \"markers\", \"name\": \"country=Cambodia\", \"showlegend\": true, \"type\": \"scatter\", \"x\": [\"Cambodia\"], \"xaxis\": \"x\", \"y\": [0.0], \"yaxis\": \"y\"}, {\"hoverlabel\": {\"namelength\": 0}, \"hovertemplate\": \"<b>%{hovertext}</b><br><br>country=%{x}<br>deaths=%{marker.size}\", \"hovertext\": [\"Seychelles\"], \"legendgroup\": \"country=Seychelles\", \"marker\": {\"color\": \"#00cc96\", \"size\": [0.0], \"sizemode\": \"area\", \"sizeref\": 0.016944444444444446, \"symbol\": \"circle\"}, \"mode\": \"markers\", \"name\": \"country=Seychelles\", \"showlegend\": true, \"type\": \"scatter\", \"x\": [\"Seychelles\"], \"xaxis\": \"x\", \"y\": [0.0], \"yaxis\": \"y\"}, {\"hoverlabel\": {\"namelength\": 0}, \"hovertemplate\": \"<b>%{hovertext}</b><br><br>country=%{x}<br>deaths=%{marker.size}\", \"hovertext\": [\"Saint Vincent and the Grenadines\"], \"legendgroup\": \"country=Saint Vincent and the Grenadines\", \"marker\": {\"color\": \"#ab63fa\", \"size\": [0.0], \"sizemode\": \"area\", \"sizeref\": 0.016944444444444446, \"symbol\": \"circle\"}, \"mode\": \"markers\", \"name\": \"country=Saint Vincent and the Grenadines\", \"showlegend\": true, \"type\": \"scatter\", \"x\": [\"Saint Vincent and the Grenadines\"], \"xaxis\": \"x\", \"y\": [0.0], \"yaxis\": \"y\"}, {\"hoverlabel\": {\"namelength\": 0}, \"hovertemplate\": \"<b>%{hovertext}</b><br><br>country=%{x}<br>deaths=%{marker.size}\", \"hovertext\": [\"Bhutan\"], \"legendgroup\": \"country=Bhutan\", \"marker\": {\"color\": \"#FFA15A\", \"size\": [0.0], \"sizemode\": \"area\", \"sizeref\": 0.016944444444444446, \"symbol\": \"circle\"}, \"mode\": \"markers\", \"name\": \"country=Bhutan\", \"showlegend\": true, \"type\": \"scatter\", \"x\": [\"Bhutan\"], \"xaxis\": \"x\", \"y\": [0.0], \"yaxis\": \"y\"}, {\"hoverlabel\": {\"namelength\": 0}, \"hovertemplate\": \"<b>%{hovertext}</b><br><br>country=%{x}<br>deaths=%{marker.size}\", \"hovertext\": [\"Holy See\"], \"legendgroup\": \"country=Holy See\", \"marker\": {\"color\": \"#19d3f3\", \"size\": [0.0], \"sizemode\": \"area\", \"sizeref\": 0.016944444444444446, \"symbol\": \"circle\"}, \"mode\": \"markers\", \"name\": \"country=Holy See\", \"showlegend\": true, \"type\": \"scatter\", \"x\": [\"Holy See\"], \"xaxis\": \"x\", \"y\": [0.0], \"yaxis\": \"y\"}, {\"hoverlabel\": {\"namelength\": 0}, \"hovertemplate\": \"<b>%{hovertext}</b><br><br>country=%{x}<br>deaths=%{marker.size}\", \"hovertext\": [\"Saint Kitts and Nevis\"], \"legendgroup\": \"country=Saint Kitts and Nevis\", \"marker\": {\"color\": \"#FF6692\", \"size\": [0.0], \"sizemode\": \"area\", \"sizeref\": 0.016944444444444446, \"symbol\": \"circle\"}, \"mode\": \"markers\", \"name\": \"country=Saint Kitts and Nevis\", \"showlegend\": true, \"type\": \"scatter\", \"x\": [\"Saint Kitts and Nevis\"], \"xaxis\": \"x\", \"y\": [0.0], \"yaxis\": \"y\"}, {\"hoverlabel\": {\"namelength\": 0}, \"hovertemplate\": \"<b>%{hovertext}</b><br><br>country=%{x}<br>deaths=%{marker.size}\", \"hovertext\": [\"Timor-Leste\"], \"legendgroup\": \"country=Timor-Leste\", \"marker\": {\"color\": \"#B6E880\", \"size\": [0.0], \"sizemode\": \"area\", \"sizeref\": 0.016944444444444446, \"symbol\": \"circle\"}, \"mode\": \"markers\", \"name\": \"country=Timor-Leste\", \"showlegend\": true, \"type\": \"scatter\", \"x\": [\"Timor-Leste\"], \"xaxis\": \"x\", \"y\": [0.0], \"yaxis\": \"y\"}, {\"hoverlabel\": {\"namelength\": 0}, \"hovertemplate\": \"<b>%{hovertext}</b><br><br>country=%{x}<br>deaths=%{marker.size}\", \"hovertext\": [\"Eritrea\"], \"legendgroup\": \"country=Eritrea\", \"marker\": {\"color\": \"#FF97FF\", \"size\": [0.0], \"sizemode\": \"area\", \"sizeref\": 0.016944444444444446, \"symbol\": \"circle\"}, \"mode\": \"markers\", \"name\": \"country=Eritrea\", \"showlegend\": true, \"type\": \"scatter\", \"x\": [\"Eritrea\"], \"xaxis\": \"x\", \"y\": [0.0], \"yaxis\": \"y\"}, {\"hoverlabel\": {\"namelength\": 0}, \"hovertemplate\": \"<b>%{hovertext}</b><br><br>country=%{x}<br>deaths=%{marker.size}\", \"hovertext\": [\"Dominica\"], \"legendgroup\": \"country=Dominica\", \"marker\": {\"color\": \"#FECB52\", \"size\": [0.0], \"sizemode\": \"area\", \"sizeref\": 0.016944444444444446, \"symbol\": \"circle\"}, \"mode\": \"markers\", \"name\": \"country=Dominica\", \"showlegend\": true, \"type\": \"scatter\", \"x\": [\"Dominica\"], \"xaxis\": \"x\", \"y\": [0.0], \"yaxis\": \"y\"}, {\"hoverlabel\": {\"namelength\": 0}, \"hovertemplate\": \"<b>%{hovertext}</b><br><br>country=%{x}<br>deaths=%{marker.size}\", \"hovertext\": [\"Grenada\"], \"legendgroup\": \"country=Grenada\", \"marker\": {\"color\": \"#636efa\", \"size\": [0.0], \"sizemode\": \"area\", \"sizeref\": 0.016944444444444446, \"symbol\": \"circle\"}, \"mode\": \"markers\", \"name\": \"country=Grenada\", \"showlegend\": true, \"type\": \"scatter\", \"x\": [\"Grenada\"], \"xaxis\": \"x\", \"y\": [0.0], \"yaxis\": \"y\"}, {\"hoverlabel\": {\"namelength\": 0}, \"hovertemplate\": \"<b>%{hovertext}</b><br><br>country=%{x}<br>deaths=%{marker.size}\", \"hovertext\": [\"Marshall Islands\"], \"legendgroup\": \"country=Marshall Islands\", \"marker\": {\"color\": \"#EF553B\", \"size\": [0.0], \"sizemode\": \"area\", \"sizeref\": 0.016944444444444446, \"symbol\": \"circle\"}, \"mode\": \"markers\", \"name\": \"country=Marshall Islands\", \"showlegend\": true, \"type\": \"scatter\", \"x\": [\"Marshall Islands\"], \"xaxis\": \"x\", \"y\": [0.0], \"yaxis\": \"y\"}, {\"hoverlabel\": {\"namelength\": 0}, \"hovertemplate\": \"<b>%{hovertext}</b><br><br>country=%{x}<br>deaths=%{marker.size}\", \"hovertext\": [\"Mongolia\"], \"legendgroup\": \"country=Mongolia\", \"marker\": {\"color\": \"#00cc96\", \"size\": [0.0], \"sizemode\": \"area\", \"sizeref\": 0.016944444444444446, \"symbol\": \"circle\"}, \"mode\": \"markers\", \"name\": \"country=Mongolia\", \"showlegend\": true, \"type\": \"scatter\", \"x\": [\"Mongolia\"], \"xaxis\": \"x\", \"y\": [0.0], \"yaxis\": \"y\"}, {\"hoverlabel\": {\"namelength\": 0}, \"hovertemplate\": \"<b>%{hovertext}</b><br><br>country=%{x}<br>deaths=%{marker.size}\", \"hovertext\": [\"Vanuatu\"], \"legendgroup\": \"country=Vanuatu\", \"marker\": {\"color\": \"#ab63fa\", \"size\": [0.0], \"sizemode\": \"area\", \"sizeref\": 0.016944444444444446, \"symbol\": \"circle\"}, \"mode\": \"markers\", \"name\": \"country=Vanuatu\", \"showlegend\": true, \"type\": \"scatter\", \"x\": [\"Vanuatu\"], \"xaxis\": \"x\", \"y\": [0.0], \"yaxis\": \"y\"}, {\"hoverlabel\": {\"namelength\": 0}, \"hovertemplate\": \"<b>%{hovertext}</b><br><br>country=%{x}<br>deaths=%{marker.size}\", \"hovertext\": [\"Solomon Islands\"], \"legendgroup\": \"country=Solomon Islands\", \"marker\": {\"color\": \"#FFA15A\", \"size\": [0.0], \"sizemode\": \"area\", \"sizeref\": 0.016944444444444446, \"symbol\": \"circle\"}, \"mode\": \"markers\", \"name\": \"country=Solomon Islands\", \"showlegend\": true, \"type\": \"scatter\", \"x\": [\"Solomon Islands\"], \"xaxis\": \"x\", \"y\": [0.0], \"yaxis\": \"y\"}, {\"hoverlabel\": {\"namelength\": 0}, \"hovertemplate\": \"<b>%{hovertext}</b><br><br>country=%{x}<br>deaths=%{marker.size}\", \"hovertext\": [\"Burundi\"], \"legendgroup\": \"country=Burundi\", \"marker\": {\"color\": \"#19d3f3\", \"size\": [1.0], \"sizemode\": \"area\", \"sizeref\": 0.016944444444444446, \"symbol\": \"circle\"}, \"mode\": \"markers\", \"name\": \"country=Burundi\", \"showlegend\": true, \"type\": \"scatter\", \"x\": [\"Burundi\"], \"xaxis\": \"x\", \"y\": [1.0], \"yaxis\": \"y\"}, {\"hoverlabel\": {\"namelength\": 0}, \"hovertemplate\": \"<b>%{hovertext}</b><br><br>country=%{x}<br>deaths=%{marker.size}\", \"hovertext\": [\"Western Sahara\"], \"legendgroup\": \"country=Western Sahara\", \"marker\": {\"color\": \"#FF6692\", \"size\": [1.0], \"sizemode\": \"area\", \"sizeref\": 0.016944444444444446, \"symbol\": \"circle\"}, \"mode\": \"markers\", \"name\": \"country=Western Sahara\", \"showlegend\": true, \"type\": \"scatter\", \"x\": [\"Western Sahara\"], \"xaxis\": \"x\", \"y\": [1.0], \"yaxis\": \"y\"}, {\"hoverlabel\": {\"namelength\": 0}, \"hovertemplate\": \"<b>%{hovertext}</b><br><br>country=%{x}<br>deaths=%{marker.size}\", \"hovertext\": [\"Fiji\"], \"legendgroup\": \"country=Fiji\", \"marker\": {\"color\": \"#B6E880\", \"size\": [2.0], \"sizemode\": \"area\", \"sizeref\": 0.016944444444444446, \"symbol\": \"circle\"}, \"mode\": \"markers\", \"name\": \"country=Fiji\", \"showlegend\": true, \"type\": \"scatter\", \"x\": [\"Fiji\"], \"xaxis\": \"x\", \"y\": [2.0], \"yaxis\": \"y\"}, {\"hoverlabel\": {\"namelength\": 0}, \"hovertemplate\": \"<b>%{hovertext}</b><br><br>country=%{x}<br>deaths=%{marker.size}\", \"hovertext\": [\"MS Zaandam\"], \"legendgroup\": \"country=MS Zaandam\", \"marker\": {\"color\": \"#FF97FF\", \"size\": [2.0], \"sizemode\": \"area\", \"sizeref\": 0.016944444444444446, \"symbol\": \"circle\"}, \"mode\": \"markers\", \"name\": \"country=MS Zaandam\", \"showlegend\": true, \"type\": \"scatter\", \"x\": [\"MS Zaandam\"], \"xaxis\": \"x\", \"y\": [2.0], \"yaxis\": \"y\"}, {\"hoverlabel\": {\"namelength\": 0}, \"hovertemplate\": \"<b>%{hovertext}</b><br><br>country=%{x}<br>deaths=%{marker.size}\", \"hovertext\": [\"Monaco\"], \"legendgroup\": \"country=Monaco\", \"marker\": {\"color\": \"#FECB52\", \"size\": [2.0], \"sizemode\": \"area\", \"sizeref\": 0.016944444444444446, \"symbol\": \"circle\"}, \"mode\": \"markers\", \"name\": \"country=Monaco\", \"showlegend\": true, \"type\": \"scatter\", \"x\": [\"Monaco\"], \"xaxis\": \"x\", \"y\": [2.0], \"yaxis\": \"y\"}, {\"hoverlabel\": {\"namelength\": 0}, \"hovertemplate\": \"<b>%{hovertext}</b><br><br>country=%{x}<br>deaths=%{marker.size}\", \"hovertext\": [\"Saint Lucia\"], \"legendgroup\": \"country=Saint Lucia\", \"marker\": {\"color\": \"#636efa\", \"size\": [2.0], \"sizemode\": \"area\", \"sizeref\": 0.016944444444444446, \"symbol\": \"circle\"}, \"mode\": \"markers\", \"name\": \"country=Saint Lucia\", \"showlegend\": true, \"type\": \"scatter\", \"x\": [\"Saint Lucia\"], \"xaxis\": \"x\", \"y\": [2.0], \"yaxis\": \"y\"}, {\"hoverlabel\": {\"namelength\": 0}, \"hovertemplate\": \"<b>%{hovertext}</b><br><br>country=%{x}<br>deaths=%{marker.size}\", \"hovertext\": [\"Antigua and Barbuda\"], \"legendgroup\": \"country=Antigua and Barbuda\", \"marker\": {\"color\": \"#EF553B\", \"size\": [3.0], \"sizemode\": \"area\", \"sizeref\": 0.016944444444444446, \"symbol\": \"circle\"}, \"mode\": \"markers\", \"name\": \"country=Antigua and Barbuda\", \"showlegend\": true, \"type\": \"scatter\", \"x\": [\"Antigua and Barbuda\"], \"xaxis\": \"x\", \"y\": [3.0], \"yaxis\": \"y\"}, {\"hoverlabel\": {\"namelength\": 0}, \"hovertemplate\": \"<b>%{hovertext}</b><br><br>country=%{x}<br>deaths=%{marker.size}\", \"hovertext\": [\"Brunei\"], \"legendgroup\": \"country=Brunei\", \"marker\": {\"color\": \"#00cc96\", \"size\": [3.0], \"sizemode\": \"area\", \"sizeref\": 0.016944444444444446, \"symbol\": \"circle\"}, \"mode\": \"markers\", \"name\": \"country=Brunei\", \"showlegend\": true, \"type\": \"scatter\", \"x\": [\"Brunei\"], \"xaxis\": \"x\", \"y\": [3.0], \"yaxis\": \"y\"}, {\"hoverlabel\": {\"namelength\": 0}, \"hovertemplate\": \"<b>%{hovertext}</b><br><br>country=%{x}<br>deaths=%{marker.size}\", \"hovertext\": [\"Liechtenstein\"], \"legendgroup\": \"country=Liechtenstein\", \"marker\": {\"color\": \"#ab63fa\", \"size\": [4.0], \"sizemode\": \"area\", \"sizeref\": 0.016944444444444446, \"symbol\": \"circle\"}, \"mode\": \"markers\", \"name\": \"country=Liechtenstein\", \"showlegend\": true, \"type\": \"scatter\", \"x\": [\"Liechtenstein\"], \"xaxis\": \"x\", \"y\": [4.0], \"yaxis\": \"y\"}, {\"hoverlabel\": {\"namelength\": 0}, \"hovertemplate\": \"<b>%{hovertext}</b><br><br>country=%{x}<br>deaths=%{marker.size}\", \"hovertext\": [\"Taiwan*\"], \"legendgroup\": \"country=Taiwan*\", \"marker\": {\"color\": \"#FFA15A\", \"size\": [7.0], \"sizemode\": \"area\", \"sizeref\": 0.016944444444444446, \"symbol\": \"circle\"}, \"mode\": \"markers\", \"name\": \"country=Taiwan*\", \"showlegend\": true, \"type\": \"scatter\", \"x\": [\"Taiwan*\"], \"xaxis\": \"x\", \"y\": [7.0], \"yaxis\": \"y\"}, {\"hoverlabel\": {\"namelength\": 0}, \"hovertemplate\": \"<b>%{hovertext}</b><br><br>country=%{x}<br>deaths=%{marker.size}\", \"hovertext\": [\"Papua New Guinea\"], \"legendgroup\": \"country=Papua New Guinea\", \"marker\": {\"color\": \"#19d3f3\", \"size\": [7.0], \"sizemode\": \"area\", \"sizeref\": 0.016944444444444446, \"symbol\": \"circle\"}, \"mode\": \"markers\", \"name\": \"country=Papua New Guinea\", \"showlegend\": true, \"type\": \"scatter\", \"x\": [\"Papua New Guinea\"], \"xaxis\": \"x\", \"y\": [7.0], \"yaxis\": \"y\"}, {\"hoverlabel\": {\"namelength\": 0}, \"hovertemplate\": \"<b>%{hovertext}</b><br><br>country=%{x}<br>deaths=%{marker.size}\", \"hovertext\": [\"Comoros\"], \"legendgroup\": \"country=Comoros\", \"marker\": {\"color\": \"#FF6692\", \"size\": [7.0], \"sizemode\": \"area\", \"sizeref\": 0.016944444444444446, \"symbol\": \"circle\"}, \"mode\": \"markers\", \"name\": \"country=Comoros\", \"showlegend\": true, \"type\": \"scatter\", \"x\": [\"Comoros\"], \"xaxis\": \"x\", \"y\": [7.0], \"yaxis\": \"y\"}, {\"hoverlabel\": {\"namelength\": 0}, \"hovertemplate\": \"<b>%{hovertext}</b><br><br>country=%{x}<br>deaths=%{marker.size}\", \"hovertext\": [\"Barbados\"], \"legendgroup\": \"country=Barbados\", \"marker\": {\"color\": \"#B6E880\", \"size\": [7.0], \"sizemode\": \"area\", \"sizeref\": 0.016944444444444446, \"symbol\": \"circle\"}, \"mode\": \"markers\", \"name\": \"country=Barbados\", \"showlegend\": true, \"type\": \"scatter\", \"x\": [\"Barbados\"], \"xaxis\": \"x\", \"y\": [7.0], \"yaxis\": \"y\"}, {\"hoverlabel\": {\"namelength\": 0}, \"hovertemplate\": \"<b>%{hovertext}</b><br><br>country=%{x}<br>deaths=%{marker.size}\", \"hovertext\": [\"Mauritius\"], \"legendgroup\": \"country=Mauritius\", \"marker\": {\"color\": \"#FF97FF\", \"size\": [10.0], \"sizemode\": \"area\", \"sizeref\": 0.016944444444444446, \"symbol\": \"circle\"}, \"mode\": \"markers\", \"name\": \"country=Mauritius\", \"showlegend\": true, \"type\": \"scatter\", \"x\": [\"Mauritius\"], \"xaxis\": \"x\", \"y\": [10.0], \"yaxis\": \"y\"}, {\"hoverlabel\": {\"namelength\": 0}, \"hovertemplate\": \"<b>%{hovertext}</b><br><br>country=%{x}<br>deaths=%{marker.size}\", \"hovertext\": [\"Diamond Princess\"], \"legendgroup\": \"country=Diamond Princess\", \"marker\": {\"color\": \"#FECB52\", \"size\": [13.0], \"sizemode\": \"area\", \"sizeref\": 0.016944444444444446, \"symbol\": \"circle\"}, \"mode\": \"markers\", \"name\": \"country=Diamond Princess\", \"showlegend\": true, \"type\": \"scatter\", \"x\": [\"Diamond Princess\"], \"xaxis\": \"x\", \"y\": [13.0], \"yaxis\": \"y\"}, {\"hoverlabel\": {\"namelength\": 0}, \"hovertemplate\": \"<b>%{hovertext}</b><br><br>country=%{x}<br>deaths=%{marker.size}\", \"hovertext\": [\"Sao Tome and Principe\"], \"legendgroup\": \"country=Sao Tome and Principe\", \"marker\": {\"color\": \"#636efa\", \"size\": [16.0], \"sizemode\": \"area\", \"sizeref\": 0.016944444444444446, \"symbol\": \"circle\"}, \"mode\": \"markers\", \"name\": \"country=Sao Tome and Principe\", \"showlegend\": true, \"type\": \"scatter\", \"x\": [\"Sao Tome and Principe\"], \"xaxis\": \"x\", \"y\": [16.0], \"yaxis\": \"y\"}, {\"hoverlabel\": {\"namelength\": 0}, \"hovertemplate\": \"<b>%{hovertext}</b><br><br>country=%{x}<br>deaths=%{marker.size}\", \"hovertext\": [\"Tanzania\"], \"legendgroup\": \"country=Tanzania\", \"marker\": {\"color\": \"#EF553B\", \"size\": [21.0], \"sizemode\": \"area\", \"sizeref\": 0.016944444444444446, \"symbol\": \"circle\"}, \"mode\": \"markers\", \"name\": \"country=Tanzania\", \"showlegend\": true, \"type\": \"scatter\", \"x\": [\"Tanzania\"], \"xaxis\": \"x\", \"y\": [21.0], \"yaxis\": \"y\"}, {\"hoverlabel\": {\"namelength\": 0}, \"hovertemplate\": \"<b>%{hovertext}</b><br><br>country=%{x}<br>deaths=%{marker.size}\", \"hovertext\": [\"Iceland\"], \"legendgroup\": \"country=Iceland\", \"marker\": {\"color\": \"#00cc96\", \"size\": [24.0], \"sizemode\": \"area\", \"sizeref\": 0.016944444444444446, \"symbol\": \"circle\"}, \"mode\": \"markers\", \"name\": \"country=Iceland\", \"showlegend\": true, \"type\": \"scatter\", \"x\": [\"Iceland\"], \"xaxis\": \"x\", \"y\": [24.0], \"yaxis\": \"y\"}, {\"hoverlabel\": {\"namelength\": 0}, \"hovertemplate\": \"<b>%{hovertext}</b><br><br>country=%{x}<br>deaths=%{marker.size}\", \"hovertext\": [\"New Zealand\"], \"legendgroup\": \"country=New Zealand\", \"marker\": {\"color\": \"#ab63fa\", \"size\": [25.0], \"sizemode\": \"area\", \"sizeref\": 0.016944444444444446, \"symbol\": \"circle\"}, \"mode\": \"markers\", \"name\": \"country=New Zealand\", \"showlegend\": true, \"type\": \"scatter\", \"x\": [\"New Zealand\"], \"xaxis\": \"x\", \"y\": [25.0], \"yaxis\": \"y\"}, {\"hoverlabel\": {\"namelength\": 0}, \"hovertemplate\": \"<b>%{hovertext}</b><br><br>country=%{x}<br>deaths=%{marker.size}\", \"hovertext\": [\"Botswana\"], \"legendgroup\": \"country=Botswana\", \"marker\": {\"color\": \"#FFA15A\", \"size\": [27.0], \"sizemode\": \"area\", \"sizeref\": 0.016944444444444446, \"symbol\": \"circle\"}, \"mode\": \"markers\", \"name\": \"country=Botswana\", \"showlegend\": true, \"type\": \"scatter\", \"x\": [\"Botswana\"], \"xaxis\": \"x\", \"y\": [27.0], \"yaxis\": \"y\"}, {\"hoverlabel\": {\"namelength\": 0}, \"hovertemplate\": \"<b>%{hovertext}</b><br><br>country=%{x}<br>deaths=%{marker.size}\", \"hovertext\": [\"Singapore\"], \"legendgroup\": \"country=Singapore\", \"marker\": {\"color\": \"#19d3f3\", \"size\": [28.0], \"sizemode\": \"area\", \"sizeref\": 0.016944444444444446, \"symbol\": \"circle\"}, \"mode\": \"markers\", \"name\": \"country=Singapore\", \"showlegend\": true, \"type\": \"scatter\", \"x\": [\"Singapore\"], \"xaxis\": \"x\", \"y\": [28.0], \"yaxis\": \"y\"}, {\"hoverlabel\": {\"namelength\": 0}, \"hovertemplate\": \"<b>%{hovertext}</b><br><br>country=%{x}<br>deaths=%{marker.size}\", \"hovertext\": [\"Cyprus\"], \"legendgroup\": \"country=Cyprus\", \"marker\": {\"color\": \"#FF6692\", \"size\": [29.0], \"sizemode\": \"area\", \"sizeref\": 0.016944444444444446, \"symbol\": \"circle\"}, \"mode\": \"markers\", \"name\": \"country=Cyprus\", \"showlegend\": true, \"type\": \"scatter\", \"x\": [\"Cyprus\"], \"xaxis\": \"x\", \"y\": [29.0], \"yaxis\": \"y\"}, {\"hoverlabel\": {\"namelength\": 0}, \"hovertemplate\": \"<b>%{hovertext}</b><br><br>country=%{x}<br>deaths=%{marker.size}\", \"hovertext\": [\"Vietnam\"], \"legendgroup\": \"country=Vietnam\", \"marker\": {\"color\": \"#B6E880\", \"size\": [35.0], \"sizemode\": \"area\", \"sizeref\": 0.016944444444444446, \"symbol\": \"circle\"}, \"mode\": \"markers\", \"name\": \"country=Vietnam\", \"showlegend\": true, \"type\": \"scatter\", \"x\": [\"Vietnam\"], \"xaxis\": \"x\", \"y\": [35.0], \"yaxis\": \"y\"}, {\"hoverlabel\": {\"namelength\": 0}, \"hovertemplate\": \"<b>%{hovertext}</b><br><br>country=%{x}<br>deaths=%{marker.size}\", \"hovertext\": [\"Rwanda\"], \"legendgroup\": \"country=Rwanda\", \"marker\": {\"color\": \"#FF97FF\", \"size\": [40.0], \"sizemode\": \"area\", \"sizeref\": 0.016944444444444446, \"symbol\": \"circle\"}, \"mode\": \"markers\", \"name\": \"country=Rwanda\", \"showlegend\": true, \"type\": \"scatter\", \"x\": [\"Rwanda\"], \"xaxis\": \"x\", \"y\": [40.0], \"yaxis\": \"y\"}, {\"hoverlabel\": {\"namelength\": 0}, \"hovertemplate\": \"<b>%{hovertext}</b><br><br>country=%{x}<br>deaths=%{marker.size}\", \"hovertext\": [\"Maldives\"], \"legendgroup\": \"country=Maldives\", \"marker\": {\"color\": \"#FECB52\", \"size\": [41.0], \"sizemode\": \"area\", \"sizeref\": 0.016944444444444446, \"symbol\": \"circle\"}, \"mode\": \"markers\", \"name\": \"country=Maldives\", \"showlegend\": true, \"type\": \"scatter\", \"x\": [\"Maldives\"], \"xaxis\": \"x\", \"y\": [41.0], \"yaxis\": \"y\"}, {\"hoverlabel\": {\"namelength\": 0}, \"hovertemplate\": \"<b>%{hovertext}</b><br><br>country=%{x}<br>deaths=%{marker.size}\", \"hovertext\": [\"San Marino\"], \"legendgroup\": \"country=San Marino\", \"marker\": {\"color\": \"#636efa\", \"size\": [42.0], \"sizemode\": \"area\", \"sizeref\": 0.016944444444444446, \"symbol\": \"circle\"}, \"mode\": \"markers\", \"name\": \"country=San Marino\", \"showlegend\": true, \"type\": \"scatter\", \"x\": [\"San Marino\"], \"xaxis\": \"x\", \"y\": [42.0], \"yaxis\": \"y\"}, {\"hoverlabel\": {\"namelength\": 0}, \"hovertemplate\": \"<b>%{hovertext}</b><br><br>country=%{x}<br>deaths=%{marker.size}\", \"hovertext\": [\"Guinea-Bissau\"], \"legendgroup\": \"country=Guinea-Bissau\", \"marker\": {\"color\": \"#EF553B\", \"size\": [43.0], \"sizemode\": \"area\", \"sizeref\": 0.016944444444444446, \"symbol\": \"circle\"}, \"mode\": \"markers\", \"name\": \"country=Guinea-Bissau\", \"showlegend\": true, \"type\": \"scatter\", \"x\": [\"Guinea-Bissau\"], \"xaxis\": \"x\", \"y\": [43.0], \"yaxis\": \"y\"}, {\"hoverlabel\": {\"namelength\": 0}, \"hovertemplate\": \"<b>%{hovertext}</b><br><br>country=%{x}<br>deaths=%{marker.size}\", \"hovertext\": [\"Benin\"], \"legendgroup\": \"country=Benin\", \"marker\": {\"color\": \"#00cc96\", \"size\": [43.0], \"sizemode\": \"area\", \"sizeref\": 0.016944444444444446, \"symbol\": \"circle\"}, \"mode\": \"markers\", \"name\": \"country=Benin\", \"showlegend\": true, \"type\": \"scatter\", \"x\": [\"Benin\"], \"xaxis\": \"x\", \"y\": [43.0], \"yaxis\": \"y\"}, {\"hoverlabel\": {\"namelength\": 0}, \"hovertemplate\": \"<b>%{hovertext}</b><br><br>country=%{x}<br>deaths=%{marker.size}\", \"hovertext\": [\"Lesotho\"], \"legendgroup\": \"country=Lesotho\", \"marker\": {\"color\": \"#ab63fa\", \"size\": [44.0], \"sizemode\": \"area\", \"sizeref\": 0.016944444444444446, \"symbol\": \"circle\"}, \"mode\": \"markers\", \"name\": \"country=Lesotho\", \"showlegend\": true, \"type\": \"scatter\", \"x\": [\"Lesotho\"], \"xaxis\": \"x\", \"y\": [44.0], \"yaxis\": \"y\"}, {\"hoverlabel\": {\"namelength\": 0}, \"hovertemplate\": \"<b>%{hovertext}</b><br><br>country=%{x}<br>deaths=%{marker.size}\", \"hovertext\": [\"Sri Lanka\"], \"legendgroup\": \"country=Sri Lanka\", \"marker\": {\"color\": \"#FFA15A\", \"size\": [44.0], \"sizemode\": \"area\", \"sizeref\": 0.016944444444444446, \"symbol\": \"circle\"}, \"mode\": \"markers\", \"name\": \"country=Sri Lanka\", \"showlegend\": true, \"type\": \"scatter\", \"x\": [\"Sri Lanka\"], \"xaxis\": \"x\", \"y\": [44.0], \"yaxis\": \"y\"}, {\"hoverlabel\": {\"namelength\": 0}, \"hovertemplate\": \"<b>%{hovertext}</b><br><br>country=%{x}<br>deaths=%{marker.size}\", \"hovertext\": [\"Togo\"], \"legendgroup\": \"country=Togo\", \"marker\": {\"color\": \"#19d3f3\", \"size\": [57.0], \"sizemode\": \"area\", \"sizeref\": 0.016944444444444446, \"symbol\": \"circle\"}, \"mode\": \"markers\", \"name\": \"country=Togo\", \"showlegend\": true, \"type\": \"scatter\", \"x\": [\"Togo\"], \"xaxis\": \"x\", \"y\": [57.0], \"yaxis\": \"y\"}, {\"hoverlabel\": {\"namelength\": 0}, \"hovertemplate\": \"<b>%{hovertext}</b><br><br>country=%{x}<br>deaths=%{marker.size}\", \"hovertext\": [\"Gabon\"], \"legendgroup\": \"country=Gabon\", \"marker\": {\"color\": \"#FF6692\", \"size\": [57.0], \"sizemode\": \"area\", \"sizeref\": 0.016944444444444446, \"symbol\": \"circle\"}, \"mode\": \"markers\", \"name\": \"country=Gabon\", \"showlegend\": true, \"type\": \"scatter\", \"x\": [\"Gabon\"], \"xaxis\": \"x\", \"y\": [57.0], \"yaxis\": \"y\"}, {\"hoverlabel\": {\"namelength\": 0}, \"hovertemplate\": \"<b>%{hovertext}</b><br><br>country=%{x}<br>deaths=%{marker.size}\", \"hovertext\": [\"South Sudan\"], \"legendgroup\": \"country=South Sudan\", \"marker\": {\"color\": \"#B6E880\", \"size\": [59.0], \"sizemode\": \"area\", \"sizeref\": 0.016944444444444446, \"symbol\": \"circle\"}, \"mode\": \"markers\", \"name\": \"country=South Sudan\", \"showlegend\": true, \"type\": \"scatter\", \"x\": [\"South Sudan\"], \"xaxis\": \"x\", \"y\": [59.0], \"yaxis\": \"y\"}, {\"hoverlabel\": {\"namelength\": 0}, \"hovertemplate\": \"<b>%{hovertext}</b><br><br>country=%{x}<br>deaths=%{marker.size}\", \"hovertext\": [\"Thailand\"], \"legendgroup\": \"country=Thailand\", \"marker\": {\"color\": \"#FF97FF\", \"size\": [60.0], \"sizemode\": \"area\", \"sizeref\": 0.016944444444444446, \"symbol\": \"circle\"}, \"mode\": \"markers\", \"name\": \"country=Thailand\", \"showlegend\": true, \"type\": \"scatter\", \"x\": [\"Thailand\"], \"xaxis\": \"x\", \"y\": [60.0], \"yaxis\": \"y\"}, {\"hoverlabel\": {\"namelength\": 0}, \"hovertemplate\": \"<b>%{hovertext}</b><br><br>country=%{x}<br>deaths=%{marker.size}\", \"hovertext\": [\"Djibouti\"], \"legendgroup\": \"country=Djibouti\", \"marker\": {\"color\": \"#FECB52\", \"size\": [61.0], \"sizemode\": \"area\", \"sizeref\": 0.016944444444444446, \"symbol\": \"circle\"}, \"mode\": \"markers\", \"name\": \"country=Djibouti\", \"showlegend\": true, \"type\": \"scatter\", \"x\": [\"Djibouti\"], \"xaxis\": \"x\", \"y\": [61.0], \"yaxis\": \"y\"}],\n                        {\"legend\": {\"itemsizing\": \"constant\", \"tracegroupgap\": 0}, \"margin\": {\"t\": 60}, \"template\": {\"data\": {\"bar\": [{\"error_x\": {\"color\": \"#2a3f5f\"}, \"error_y\": {\"color\": \"#2a3f5f\"}, \"marker\": {\"line\": {\"color\": \"#E5ECF6\", \"width\": 0.5}}, \"type\": \"bar\"}], \"barpolar\": [{\"marker\": {\"line\": {\"color\": \"#E5ECF6\", \"width\": 0.5}}, \"type\": \"barpolar\"}], \"carpet\": [{\"aaxis\": {\"endlinecolor\": \"#2a3f5f\", \"gridcolor\": \"white\", \"linecolor\": \"white\", \"minorgridcolor\": \"white\", \"startlinecolor\": \"#2a3f5f\"}, \"baxis\": {\"endlinecolor\": \"#2a3f5f\", \"gridcolor\": \"white\", \"linecolor\": \"white\", \"minorgridcolor\": \"white\", \"startlinecolor\": \"#2a3f5f\"}, \"type\": \"carpet\"}], \"choropleth\": [{\"colorbar\": {\"outlinewidth\": 0, \"ticks\": \"\"}, \"type\": \"choropleth\"}], \"contour\": [{\"colorbar\": {\"outlinewidth\": 0, \"ticks\": \"\"}, \"colorscale\": [[0.0, \"#0d0887\"], [0.1111111111111111, \"#46039f\"], [0.2222222222222222, \"#7201a8\"], [0.3333333333333333, \"#9c179e\"], [0.4444444444444444, \"#bd3786\"], [0.5555555555555556, \"#d8576b\"], [0.6666666666666666, \"#ed7953\"], [0.7777777777777778, \"#fb9f3a\"], [0.8888888888888888, \"#fdca26\"], [1.0, \"#f0f921\"]], \"type\": \"contour\"}], \"contourcarpet\": [{\"colorbar\": {\"outlinewidth\": 0, \"ticks\": \"\"}, \"type\": \"contourcarpet\"}], \"heatmap\": [{\"colorbar\": {\"outlinewidth\": 0, \"ticks\": \"\"}, \"colorscale\": [[0.0, \"#0d0887\"], [0.1111111111111111, \"#46039f\"], [0.2222222222222222, \"#7201a8\"], [0.3333333333333333, \"#9c179e\"], [0.4444444444444444, \"#bd3786\"], [0.5555555555555556, \"#d8576b\"], [0.6666666666666666, \"#ed7953\"], [0.7777777777777778, \"#fb9f3a\"], [0.8888888888888888, \"#fdca26\"], [1.0, \"#f0f921\"]], \"type\": \"heatmap\"}], \"heatmapgl\": [{\"colorbar\": {\"outlinewidth\": 0, \"ticks\": \"\"}, \"colorscale\": [[0.0, \"#0d0887\"], [0.1111111111111111, \"#46039f\"], [0.2222222222222222, \"#7201a8\"], [0.3333333333333333, \"#9c179e\"], [0.4444444444444444, \"#bd3786\"], [0.5555555555555556, \"#d8576b\"], [0.6666666666666666, \"#ed7953\"], [0.7777777777777778, \"#fb9f3a\"], [0.8888888888888888, \"#fdca26\"], [1.0, \"#f0f921\"]], \"type\": \"heatmapgl\"}], \"histogram\": [{\"marker\": {\"colorbar\": {\"outlinewidth\": 0, \"ticks\": \"\"}}, \"type\": \"histogram\"}], \"histogram2d\": [{\"colorbar\": {\"outlinewidth\": 0, \"ticks\": \"\"}, \"colorscale\": [[0.0, \"#0d0887\"], [0.1111111111111111, \"#46039f\"], [0.2222222222222222, \"#7201a8\"], [0.3333333333333333, \"#9c179e\"], [0.4444444444444444, \"#bd3786\"], [0.5555555555555556, \"#d8576b\"], [0.6666666666666666, \"#ed7953\"], [0.7777777777777778, \"#fb9f3a\"], [0.8888888888888888, \"#fdca26\"], [1.0, \"#f0f921\"]], \"type\": \"histogram2d\"}], \"histogram2dcontour\": [{\"colorbar\": {\"outlinewidth\": 0, \"ticks\": \"\"}, \"colorscale\": [[0.0, \"#0d0887\"], [0.1111111111111111, \"#46039f\"], [0.2222222222222222, \"#7201a8\"], [0.3333333333333333, \"#9c179e\"], [0.4444444444444444, \"#bd3786\"], [0.5555555555555556, \"#d8576b\"], [0.6666666666666666, \"#ed7953\"], [0.7777777777777778, \"#fb9f3a\"], [0.8888888888888888, \"#fdca26\"], [1.0, \"#f0f921\"]], \"type\": \"histogram2dcontour\"}], \"mesh3d\": [{\"colorbar\": {\"outlinewidth\": 0, \"ticks\": \"\"}, \"type\": \"mesh3d\"}], \"parcoords\": [{\"line\": {\"colorbar\": {\"outlinewidth\": 0, \"ticks\": \"\"}}, \"type\": \"parcoords\"}], \"pie\": [{\"automargin\": true, \"type\": \"pie\"}], \"scatter\": [{\"marker\": {\"colorbar\": {\"outlinewidth\": 0, \"ticks\": \"\"}}, \"type\": \"scatter\"}], \"scatter3d\": [{\"line\": {\"colorbar\": {\"outlinewidth\": 0, \"ticks\": \"\"}}, \"marker\": {\"colorbar\": {\"outlinewidth\": 0, \"ticks\": \"\"}}, \"type\": \"scatter3d\"}], \"scattercarpet\": [{\"marker\": {\"colorbar\": {\"outlinewidth\": 0, \"ticks\": \"\"}}, \"type\": \"scattercarpet\"}], \"scattergeo\": [{\"marker\": {\"colorbar\": {\"outlinewidth\": 0, \"ticks\": \"\"}}, \"type\": \"scattergeo\"}], \"scattergl\": [{\"marker\": {\"colorbar\": {\"outlinewidth\": 0, \"ticks\": \"\"}}, \"type\": \"scattergl\"}], \"scattermapbox\": [{\"marker\": {\"colorbar\": {\"outlinewidth\": 0, \"ticks\": \"\"}}, \"type\": \"scattermapbox\"}], \"scatterpolar\": [{\"marker\": {\"colorbar\": {\"outlinewidth\": 0, \"ticks\": \"\"}}, \"type\": \"scatterpolar\"}], \"scatterpolargl\": [{\"marker\": {\"colorbar\": {\"outlinewidth\": 0, \"ticks\": \"\"}}, \"type\": \"scatterpolargl\"}], \"scatterternary\": [{\"marker\": {\"colorbar\": {\"outlinewidth\": 0, \"ticks\": \"\"}}, \"type\": \"scatterternary\"}], \"surface\": [{\"colorbar\": {\"outlinewidth\": 0, \"ticks\": \"\"}, \"colorscale\": [[0.0, \"#0d0887\"], [0.1111111111111111, \"#46039f\"], [0.2222222222222222, \"#7201a8\"], [0.3333333333333333, \"#9c179e\"], [0.4444444444444444, \"#bd3786\"], [0.5555555555555556, \"#d8576b\"], [0.6666666666666666, \"#ed7953\"], [0.7777777777777778, \"#fb9f3a\"], [0.8888888888888888, \"#fdca26\"], [1.0, \"#f0f921\"]], \"type\": \"surface\"}], \"table\": [{\"cells\": {\"fill\": {\"color\": \"#EBF0F8\"}, \"line\": {\"color\": \"white\"}}, \"header\": {\"fill\": {\"color\": \"#C8D4E3\"}, \"line\": {\"color\": \"white\"}}, \"type\": \"table\"}]}, \"layout\": {\"annotationdefaults\": {\"arrowcolor\": \"#2a3f5f\", \"arrowhead\": 0, \"arrowwidth\": 1}, \"coloraxis\": {\"colorbar\": {\"outlinewidth\": 0, \"ticks\": \"\"}}, \"colorscale\": {\"diverging\": [[0, \"#8e0152\"], [0.1, \"#c51b7d\"], [0.2, \"#de77ae\"], [0.3, \"#f1b6da\"], [0.4, \"#fde0ef\"], [0.5, \"#f7f7f7\"], [0.6, \"#e6f5d0\"], [0.7, \"#b8e186\"], [0.8, \"#7fbc41\"], [0.9, \"#4d9221\"], [1, \"#276419\"]], \"sequential\": [[0.0, \"#0d0887\"], [0.1111111111111111, \"#46039f\"], [0.2222222222222222, \"#7201a8\"], [0.3333333333333333, \"#9c179e\"], [0.4444444444444444, \"#bd3786\"], [0.5555555555555556, \"#d8576b\"], [0.6666666666666666, \"#ed7953\"], [0.7777777777777778, \"#fb9f3a\"], [0.8888888888888888, \"#fdca26\"], [1.0, \"#f0f921\"]], \"sequentialminus\": [[0.0, \"#0d0887\"], [0.1111111111111111, \"#46039f\"], [0.2222222222222222, \"#7201a8\"], [0.3333333333333333, \"#9c179e\"], [0.4444444444444444, \"#bd3786\"], [0.5555555555555556, \"#d8576b\"], [0.6666666666666666, \"#ed7953\"], [0.7777777777777778, \"#fb9f3a\"], [0.8888888888888888, \"#fdca26\"], [1.0, \"#f0f921\"]]}, \"colorway\": [\"#636efa\", \"#EF553B\", \"#00cc96\", \"#ab63fa\", \"#FFA15A\", \"#19d3f3\", \"#FF6692\", \"#B6E880\", \"#FF97FF\", \"#FECB52\"], \"font\": {\"color\": \"#2a3f5f\"}, \"geo\": {\"bgcolor\": \"white\", \"lakecolor\": \"white\", \"landcolor\": \"#E5ECF6\", \"showlakes\": true, \"showland\": true, \"subunitcolor\": \"white\"}, \"hoverlabel\": {\"align\": \"left\"}, \"hovermode\": \"closest\", \"mapbox\": {\"style\": \"light\"}, \"paper_bgcolor\": \"white\", \"plot_bgcolor\": \"#E5ECF6\", \"polar\": {\"angularaxis\": {\"gridcolor\": \"white\", \"linecolor\": \"white\", \"ticks\": \"\"}, \"bgcolor\": \"#E5ECF6\", \"radialaxis\": {\"gridcolor\": \"white\", \"linecolor\": \"white\", \"ticks\": \"\"}}, \"scene\": {\"xaxis\": {\"backgroundcolor\": \"#E5ECF6\", \"gridcolor\": \"white\", \"gridwidth\": 2, \"linecolor\": \"white\", \"showbackground\": true, \"ticks\": \"\", \"zerolinecolor\": \"white\"}, \"yaxis\": {\"backgroundcolor\": \"#E5ECF6\", \"gridcolor\": \"white\", \"gridwidth\": 2, \"linecolor\": \"white\", \"showbackground\": true, \"ticks\": \"\", \"zerolinecolor\": \"white\"}, \"zaxis\": {\"backgroundcolor\": \"#E5ECF6\", \"gridcolor\": \"white\", \"gridwidth\": 2, \"linecolor\": \"white\", \"showbackground\": true, \"ticks\": \"\", \"zerolinecolor\": \"white\"}}, \"shapedefaults\": {\"line\": {\"color\": \"#2a3f5f\"}}, \"ternary\": {\"aaxis\": {\"gridcolor\": \"white\", \"linecolor\": \"white\", \"ticks\": \"\"}, \"baxis\": {\"gridcolor\": \"white\", \"linecolor\": \"white\", \"ticks\": \"\"}, \"bgcolor\": \"#E5ECF6\", \"caxis\": {\"gridcolor\": \"white\", \"linecolor\": \"white\", \"ticks\": \"\"}}, \"title\": {\"x\": 0.05}, \"xaxis\": {\"automargin\": true, \"gridcolor\": \"white\", \"linecolor\": \"white\", \"ticks\": \"\", \"title\": {\"standoff\": 15}, \"zerolinecolor\": \"white\", \"zerolinewidth\": 2}, \"yaxis\": {\"automargin\": true, \"gridcolor\": \"white\", \"linecolor\": \"white\", \"ticks\": \"\", \"title\": {\"standoff\": 15}, \"zerolinecolor\": \"white\", \"zerolinewidth\": 2}}}, \"title\": {\"text\": \"50 Least hit countries\"}, \"width\": 900, \"xaxis\": {\"anchor\": \"y\", \"categoryarray\": [\"Laos\", \"Cambodia\", \"Seychelles\", \"Saint Vincent and the Grenadines\", \"Bhutan\", \"Holy See\", \"Saint Kitts and Nevis\", \"Timor-Leste\", \"Eritrea\", \"Dominica\", \"Grenada\", \"Marshall Islands\", \"Mongolia\", \"Vanuatu\", \"Solomon Islands\", \"Burundi\", \"Western Sahara\", \"Fiji\", \"MS Zaandam\", \"Monaco\", \"Saint Lucia\", \"Antigua and Barbuda\", \"Brunei\", \"Liechtenstein\", \"Taiwan*\", \"Papua New Guinea\", \"Comoros\", \"Barbados\", \"Mauritius\", \"Diamond Princess\", \"Sao Tome and Principe\", \"Tanzania\", \"Iceland\", \"New Zealand\", \"Botswana\", \"Singapore\", \"Cyprus\", \"Vietnam\", \"Rwanda\", \"Maldives\", \"San Marino\", \"Guinea-Bissau\", \"Benin\", \"Lesotho\", \"Sri Lanka\", \"Togo\", \"Gabon\", \"South Sudan\", \"Thailand\", \"Djibouti\"], \"categoryorder\": \"array\", \"domain\": [0.0, 1.0], \"title\": {\"text\": \"Countries\"}}, \"yaxis\": {\"anchor\": \"x\", \"domain\": [0.0, 1.0], \"title\": {\"text\": \"Deceased\"}}},\n                        {\"responsive\": true}\n                    ).then(function(){\n                            \nvar gd = document.getElementById('9fbb8596-e85e-4444-88ed-ffda4e12e7b1');\nvar x = new MutationObserver(function (mutations, observer) {{\n        var display = window.getComputedStyle(gd).display;\n        if (!display || display === 'none') {{\n            console.log([gd, 'removed!']);\n            Plotly.purge(gd);\n            observer.disconnect();\n        }}\n}});\n\n// Listen for the removal of the full notebook cells\nvar notebookContainer = gd.closest('#notebook-container');\nif (notebookContainer) {{\n    x.observe(notebookContainer, {childList: true});\n}}\n\n// Listen for the clearing of the current output cell\nvar outputEl = gd.closest('.output');\nif (outputEl) {{\n    x.observe(outputEl, {childList: true});\n}}\n\n                        })\n                };\n                \n            </script>\n        </div>\n</body>\n</html>"
       }
      ]
     }
    },
    "431b8679501f407caefe5dffbaef93cb": {
     "model_module": "@jupyter-widgets/base",
     "model_name": "LayoutModel",
     "state": {
      "_model_module": "@jupyter-widgets/base",
      "_model_module_version": "1.2.0",
      "_model_name": "LayoutModel",
      "_view_count": null,
      "_view_module": "@jupyter-widgets/base",
      "_view_module_version": "1.2.0",
      "_view_name": "LayoutView",
      "align_content": null,
      "align_items": null,
      "align_self": null,
      "border": null,
      "bottom": null,
      "display": null,
      "flex": null,
      "flex_flow": null,
      "grid_area": null,
      "grid_auto_columns": null,
      "grid_auto_flow": null,
      "grid_auto_rows": null,
      "grid_column": null,
      "grid_gap": null,
      "grid_row": null,
      "grid_template_areas": null,
      "grid_template_columns": null,
      "grid_template_rows": null,
      "height": null,
      "justify_content": null,
      "justify_items": null,
      "left": null,
      "margin": null,
      "max_height": null,
      "max_width": null,
      "min_height": null,
      "min_width": null,
      "object_fit": null,
      "object_position": null,
      "order": null,
      "overflow": null,
      "overflow_x": null,
      "overflow_y": null,
      "padding": null,
      "right": null,
      "top": null,
      "visibility": null,
      "width": null
     }
    },
    "436b5391cebf4103975ffdc552d11f9d": {
     "model_module": "@jupyter-widgets/base",
     "model_name": "LayoutModel",
     "state": {
      "_model_module": "@jupyter-widgets/base",
      "_model_module_version": "1.2.0",
      "_model_name": "LayoutModel",
      "_view_count": null,
      "_view_module": "@jupyter-widgets/base",
      "_view_module_version": "1.2.0",
      "_view_name": "LayoutView",
      "align_content": null,
      "align_items": null,
      "align_self": null,
      "border": "solid 2px green",
      "bottom": null,
      "display": "none",
      "flex": null,
      "flex_flow": null,
      "grid_area": null,
      "grid_auto_columns": null,
      "grid_auto_flow": null,
      "grid_auto_rows": null,
      "grid_column": null,
      "grid_gap": null,
      "grid_row": null,
      "grid_template_areas": null,
      "grid_template_columns": null,
      "grid_template_rows": null,
      "height": null,
      "justify_content": null,
      "justify_items": null,
      "left": null,
      "margin": null,
      "max_height": null,
      "max_width": null,
      "min_height": null,
      "min_width": null,
      "object_fit": null,
      "object_position": null,
      "order": null,
      "overflow": null,
      "overflow_x": null,
      "overflow_y": null,
      "padding": null,
      "right": null,
      "top": null,
      "visibility": null,
      "width": null
     }
    },
    "4a9c587d0c33400780c2d1d02c24ff37": {
     "model_module": "@jupyter-widgets/controls",
     "model_name": "SliderStyleModel",
     "state": {
      "_model_module": "@jupyter-widgets/controls",
      "_model_module_version": "1.5.0",
      "_model_name": "SliderStyleModel",
      "_view_count": null,
      "_view_module": "@jupyter-widgets/base",
      "_view_module_version": "1.2.0",
      "_view_name": "StyleView",
      "description_width": "",
      "handle_color": null
     }
    },
    "5230694abfec40d9a62a029aada54955": {
     "model_module": "@jupyter-widgets/controls",
     "model_name": "VBoxModel",
     "state": {
      "_dom_classes": [
       "widget-interact"
      ],
      "_model_module": "@jupyter-widgets/controls",
      "_model_module_version": "1.5.0",
      "_model_name": "VBoxModel",
      "_view_count": null,
      "_view_module": "@jupyter-widgets/controls",
      "_view_module_version": "1.5.0",
      "_view_name": "VBoxView",
      "box_style": "",
      "children": [
       "IPY_MODEL_dd8418a1c8434a70a6a555afc506532c",
       "IPY_MODEL_88505c4b97e0479bb36455a433e56d2a"
      ],
      "layout": "IPY_MODEL_3367ef246d2b4823acaf28055f73b1d1"
     }
    },
    "5972f973ab29410095a72b1ace85c105": {
     "model_module": "@jupyter-widgets/controls",
     "model_name": "VBoxModel",
     "state": {
      "_dom_classes": [
       "widget-interact"
      ],
      "_model_module": "@jupyter-widgets/controls",
      "_model_module_version": "1.5.0",
      "_model_name": "VBoxModel",
      "_view_count": null,
      "_view_module": "@jupyter-widgets/controls",
      "_view_module_version": "1.5.0",
      "_view_name": "VBoxView",
      "box_style": "",
      "children": [
       "IPY_MODEL_ce35a6c1bb964ff58af022562b615d95",
       "IPY_MODEL_f5b70419a0bf4df29a091cd1a41e0893"
      ],
      "layout": "IPY_MODEL_76811e8d75d2487ba4fc69b00c7d0563"
     }
    },
    "76811e8d75d2487ba4fc69b00c7d0563": {
     "model_module": "@jupyter-widgets/base",
     "model_name": "LayoutModel",
     "state": {
      "_model_module": "@jupyter-widgets/base",
      "_model_module_version": "1.2.0",
      "_model_name": "LayoutModel",
      "_view_count": null,
      "_view_module": "@jupyter-widgets/base",
      "_view_module_version": "1.2.0",
      "_view_name": "LayoutView",
      "align_content": null,
      "align_items": null,
      "align_self": null,
      "border": null,
      "bottom": null,
      "display": null,
      "flex": null,
      "flex_flow": null,
      "grid_area": null,
      "grid_auto_columns": null,
      "grid_auto_flow": null,
      "grid_auto_rows": null,
      "grid_column": null,
      "grid_gap": null,
      "grid_row": null,
      "grid_template_areas": null,
      "grid_template_columns": null,
      "grid_template_rows": null,
      "height": null,
      "justify_content": null,
      "justify_items": null,
      "left": null,
      "margin": null,
      "max_height": null,
      "max_width": null,
      "min_height": null,
      "min_width": null,
      "object_fit": null,
      "object_position": null,
      "order": null,
      "overflow": null,
      "overflow_x": null,
      "overflow_y": null,
      "padding": null,
      "right": null,
      "top": null,
      "visibility": null,
      "width": null
     }
    },
    "8248d977b1a943cc9abc9e65d96b181d": {
     "model_module": "@jupyter-widgets/controls",
     "model_name": "VBoxModel",
     "state": {
      "_dom_classes": [],
      "_model_module": "@jupyter-widgets/controls",
      "_model_module_version": "1.5.0",
      "_model_name": "VBoxModel",
      "_view_count": null,
      "_view_module": "@jupyter-widgets/controls",
      "_view_module_version": "1.5.0",
      "_view_name": "VBoxView",
      "box_style": "",
      "children": [
       "IPY_MODEL_106df13296e44e1e879ab518e0d05851"
      ],
      "layout": "IPY_MODEL_436b5391cebf4103975ffdc552d11f9d"
     }
    },
    "8685546b19cf49b7b14552d60993c00e": {
     "model_module": "@jupyter-widgets/controls",
     "model_name": "IntSliderModel",
     "state": {
      "_dom_classes": [],
      "_model_module": "@jupyter-widgets/controls",
      "_model_module_version": "1.5.0",
      "_model_name": "IntSliderModel",
      "_view_count": null,
      "_view_module": "@jupyter-widgets/controls",
      "_view_module_version": "1.5.0",
      "_view_name": "IntSliderView",
      "continuous_update": true,
      "description": "n",
      "description_tooltip": null,
      "disabled": false,
      "layout": "IPY_MODEL_dae51c88c09e4911898663f31648cbbf",
      "max": 30,
      "min": -10,
      "orientation": "horizontal",
      "readout": true,
      "readout_format": "d",
      "step": 1,
      "style": "IPY_MODEL_8e3847f83ddb4126b25e2e067c50defc",
      "value": 10
     }
    },
    "88505c4b97e0479bb36455a433e56d2a": {
     "model_module": "@jupyter-widgets/output",
     "model_name": "OutputModel",
     "state": {
      "_dom_classes": [],
      "_model_module": "@jupyter-widgets/output",
      "_model_module_version": "1.0.0",
      "_model_name": "OutputModel",
      "_view_count": null,
      "_view_module": "@jupyter-widgets/output",
      "_view_module_version": "1.0.0",
      "_view_name": "OutputView",
      "layout": "IPY_MODEL_34e089229d7343e58f919d677fe73a76",
      "msg_id": "",
      "outputs": [
       {
        "metadata": {
         "tags": []
        },
        "output_type": "display_data",
        "text/html": "<html>\n<head><meta charset=\"utf-8\" /></head>\n<body>\n    <div>\n            <script src=\"https://cdnjs.cloudflare.com/ajax/libs/mathjax/2.7.5/MathJax.js?config=TeX-AMS-MML_SVG\"></script><script type=\"text/javascript\">if (window.MathJax) {MathJax.Hub.Config({SVG: {font: \"STIX-Web\"}});}</script>\n                <script type=\"text/javascript\">window.PlotlyConfig = {MathJaxConfig: 'local'};</script>\n        <script src=\"https://cdn.plot.ly/plotly-latest.min.js\"></script>    \n            <div id=\"92cf1daf-8cb7-45d1-a044-d16a66b8ada6\" class=\"plotly-graph-div\" style=\"height:525px; width:800px;\"></div>\n            <script type=\"text/javascript\">\n                \n                    window.PLOTLYENV=window.PLOTLYENV || {};\n                    \n                if (document.getElementById(\"92cf1daf-8cb7-45d1-a044-d16a66b8ada6\")) {\n                    Plotly.newPlot(\n                        '92cf1daf-8cb7-45d1-a044-d16a66b8ada6',\n                        [{\"connectgaps\": true, \"line\": {\"color\": \"orange\", \"width\": 4}, \"mode\": \"lines+markers\", \"name\": \"deceased\", \"text\": \"Total deceased: 1272094\", \"type\": \"scatter\", \"x\": [\"2/7/20\", \"2/8/20\", \"2/9/20\", \"2/10/20\", \"2/11/20\", \"2/12/20\", \"2/13/20\", \"2/14/20\", \"2/15/20\", \"2/16/20\", \"2/17/20\", \"2/18/20\", \"2/19/20\", \"2/20/20\", \"2/21/20\", \"2/22/20\", \"2/23/20\", \"2/24/20\", \"2/25/20\", \"2/26/20\", \"2/27/20\", \"2/28/20\", \"2/29/20\", \"3/1/20\", \"3/2/20\", \"3/3/20\", \"3/4/20\", \"3/5/20\", \"3/6/20\", \"3/7/20\", \"3/8/20\", \"3/9/20\", \"3/10/20\", \"3/11/20\", \"3/12/20\", \"3/13/20\", \"3/14/20\", \"3/15/20\", \"3/16/20\", \"3/17/20\", \"3/18/20\", \"3/19/20\", \"3/20/20\", \"3/21/20\", \"3/22/20\", \"3/23/20\", \"3/24/20\", \"3/25/20\", \"3/26/20\", \"3/27/20\", \"3/28/20\", \"3/29/20\", \"3/30/20\", \"3/31/20\", \"4/1/20\", \"4/2/20\", \"4/3/20\", \"4/4/20\", \"4/5/20\", \"4/6/20\", \"4/7/20\", \"4/8/20\", \"4/9/20\", \"4/10/20\", \"4/11/20\", \"4/12/20\", \"4/13/20\", \"4/14/20\", \"4/15/20\", \"4/16/20\", \"4/17/20\", \"4/18/20\", \"4/19/20\", \"4/20/20\", \"4/21/20\", \"4/22/20\", \"4/23/20\", \"4/24/20\", \"4/25/20\", \"4/26/20\", \"4/27/20\", \"4/28/20\", \"4/29/20\", \"4/30/20\", \"5/1/20\", \"5/2/20\", \"5/3/20\", \"5/4/20\", \"5/5/20\", \"5/6/20\", \"5/7/20\", \"5/8/20\", \"5/9/20\", \"5/10/20\", \"5/11/20\", \"5/12/20\", \"5/13/20\", \"5/14/20\", \"5/15/20\", \"5/16/20\", \"5/17/20\", \"5/18/20\", \"5/19/20\", \"5/20/20\", \"5/21/20\", \"5/22/20\", \"5/23/20\", \"5/24/20\", \"5/25/20\", \"5/26/20\", \"5/27/20\", \"5/28/20\", \"5/29/20\", \"5/30/20\", \"5/31/20\", \"6/1/20\", \"6/2/20\", \"6/3/20\", \"6/4/20\", \"6/5/20\", \"6/6/20\", \"6/7/20\", \"6/8/20\", \"6/9/20\", \"6/10/20\", \"6/11/20\", \"6/12/20\", \"6/13/20\", \"6/14/20\", \"6/15/20\", \"6/16/20\", \"6/17/20\", \"6/18/20\", \"6/19/20\", \"6/20/20\", \"6/21/20\", \"6/22/20\", \"6/23/20\", \"6/24/20\", \"6/25/20\", \"6/26/20\", \"6/27/20\", \"6/28/20\", \"6/29/20\", \"6/30/20\", \"7/1/20\", \"7/2/20\", \"7/3/20\", \"7/4/20\", \"7/5/20\", \"7/6/20\", \"7/7/20\", \"7/8/20\", \"7/9/20\", \"7/10/20\", \"7/11/20\", \"7/12/20\", \"7/13/20\", \"7/14/20\", \"7/15/20\", \"7/16/20\", \"7/17/20\", \"7/18/20\", \"7/19/20\", \"7/20/20\", \"7/21/20\", \"7/22/20\", \"7/23/20\", \"7/24/20\", \"7/25/20\", \"7/26/20\", \"7/27/20\", \"7/28/20\", \"7/29/20\", \"7/30/20\", \"7/31/20\", \"8/1/20\", \"8/2/20\", \"8/3/20\", \"8/4/20\", \"8/5/20\", \"8/6/20\", \"8/7/20\", \"8/8/20\", \"8/9/20\", \"8/10/20\", \"8/11/20\", \"8/12/20\", \"8/13/20\", \"8/14/20\", \"8/15/20\", \"8/16/20\", \"8/17/20\", \"8/18/20\", \"8/19/20\", \"8/20/20\", \"8/21/20\", \"8/22/20\", \"8/23/20\", \"8/24/20\", \"8/25/20\", \"8/26/20\", \"8/27/20\", \"8/28/20\", \"8/29/20\", \"8/30/20\", \"8/31/20\", \"9/1/20\", \"9/2/20\", \"9/3/20\", \"9/4/20\", \"9/5/20\", \"9/6/20\", \"9/7/20\", \"9/8/20\", \"9/9/20\", \"9/10/20\", \"9/11/20\", \"9/12/20\", \"9/13/20\", \"9/14/20\", \"9/15/20\", \"9/16/20\", \"9/17/20\", \"9/18/20\", \"9/19/20\", \"9/20/20\", \"9/21/20\", \"9/22/20\", \"9/23/20\", \"9/24/20\", \"9/25/20\", \"9/26/20\", \"9/27/20\", \"9/28/20\", \"9/29/20\", \"9/30/20\", \"10/1/20\", \"10/2/20\", \"10/3/20\", \"10/4/20\", \"10/5/20\", \"10/6/20\", \"10/7/20\", \"10/8/20\", \"10/9/20\", \"10/10/20\", \"10/11/20\", \"10/12/20\", \"10/13/20\", \"10/14/20\", \"10/15/20\", \"10/16/20\", \"10/17/20\", \"10/18/20\", \"10/19/20\", \"10/20/20\", \"10/21/20\", \"10/22/20\", \"10/23/20\", \"10/24/20\", \"10/25/20\", \"10/26/20\", \"10/27/20\", \"10/28/20\", \"10/29/20\", \"10/30/20\", \"10/31/20\", \"11/1/20\", \"11/2/20\", \"11/3/20\", \"11/4/20\", \"11/5/20\", \"11/6/20\", \"11/7/20\", \"11/8/20\", \"11/9/20\", \"11/10/20\"], \"y\": [17, 18, 26, 42, 56, 82, 131, 133, 171, 213, 259, 362, 426, 492, 564, 634, 719, 806, 906, 1013, 1113, 1118, 1371, 1523, 1666, 1770, 1868, 2008, 2123, 2248, 2252, 2459, 2470, 2630, 2710, 2771, 2814, 2873, 2942, 2996, 3085, 3160, 3255, 3348, 3460, 3559, 3803, 3987, 4267, 4611, 4917, 5414, 5834, 6475, 7153, 7964, 8867, 9981, 11460, 13181, 14855, 16798, 19080, 21878, 24894, 28389, 32102, 35572, 39620, 44368, 49864, 56101, 62202, 68355, 73537, 79478, 87709, 94461, 102234, 109626, 115861, 121671, 127587, 134564, 142915, 150218, 158585, 164598, 169859, 175723, 182914, 189641, 196485, 203142, 208774, 212708, 217382, 223929, 230657, 236657, 241807, 247285, 250750, 254843, 260735, 267283, 272579, 278054, 282349, 285932, 289404, 294925, 299999, 305183, 310305, 314483, 317761, 321454, 326174, 330936, 335657, 340851, 344764, 347881, 349073, 353180, 358326, 362944, 367536, 371610, 374585, 377659, 382389, 387828, 392948, 397506, 401365, 404106, 407780, 412626, 417683, 422371, 426584, 430772, 434179, 437591, 444312, 449403, 454386, 460545, 464760, 468761, 472316, 477540, 482712, 487411, 492109, 496574, 499712, 503435, 508391, 513315, 518382, 523317, 527681, 531153, 534974, 540995, 546266, 551676, 556969, 561761, 565751, 569556, 575150, 580582, 586332, 592988, 598610, 602662, 606829, 612998, 619920, 629817, 635852, 641398, 645058, 650233, 656545, 663118, 669124, 675341, 680833, 685100, 689412, 696332, 703298, 709793, 716095, 721523, 726075, 730983, 737413, 744030, 750246, 760370, 765721, 769920, 774060, 780938, 787694, 793732, 799224, 804804, 808656, 813014, 819396, 825684, 831576, 837091, 842472, 846381, 850591, 857077, 863095, 868805, 874714, 879659, 883428, 892740, 897679, 903766, 909574, 915454, 920332, 923981, 928415, 934967, 940724, 946183, 951892, 957127, 960823, 964942, 970928, 976538, 983253, 989156, 994437, 998040, 1001961, 1008060, 1014472, 1023174, 1028142, 1033500, 1037270, 1044281, 1050068, 1055881, 1062132, 1068219, 1073044, 1076940, 1080869, 1086333, 1092336, 1098444, 1104553, 1110036, 1113383, 1118371, 1124964, 1131530, 1137415, 1144332, 1150009, 1154115, 1159738, 1167170, 1174246, 1181313, 1188836, 1195400, 1200315, 1206392, 1214408, 1225439, 1233513, 1243076, 1250650, 1256388, 1263094, 1272094]}],\n                        {\"margin\": {\"b\": 20, \"l\": 20, \"r\": 20, \"t\": 40}, \"paper_bgcolor\": \"lightgrey\", \"template\": {\"data\": {\"bar\": [{\"error_x\": {\"color\": \"#2a3f5f\"}, \"error_y\": {\"color\": \"#2a3f5f\"}, \"marker\": {\"line\": {\"color\": \"#E5ECF6\", \"width\": 0.5}}, \"type\": \"bar\"}], \"barpolar\": [{\"marker\": {\"line\": {\"color\": \"#E5ECF6\", \"width\": 0.5}}, \"type\": \"barpolar\"}], \"carpet\": [{\"aaxis\": {\"endlinecolor\": \"#2a3f5f\", \"gridcolor\": \"white\", \"linecolor\": \"white\", \"minorgridcolor\": \"white\", \"startlinecolor\": \"#2a3f5f\"}, \"baxis\": {\"endlinecolor\": \"#2a3f5f\", \"gridcolor\": \"white\", \"linecolor\": \"white\", \"minorgridcolor\": \"white\", \"startlinecolor\": \"#2a3f5f\"}, \"type\": \"carpet\"}], \"choropleth\": [{\"colorbar\": {\"outlinewidth\": 0, \"ticks\": \"\"}, \"type\": \"choropleth\"}], \"contour\": [{\"colorbar\": {\"outlinewidth\": 0, \"ticks\": \"\"}, \"colorscale\": [[0.0, \"#0d0887\"], [0.1111111111111111, \"#46039f\"], [0.2222222222222222, \"#7201a8\"], [0.3333333333333333, \"#9c179e\"], [0.4444444444444444, \"#bd3786\"], [0.5555555555555556, \"#d8576b\"], [0.6666666666666666, \"#ed7953\"], [0.7777777777777778, \"#fb9f3a\"], [0.8888888888888888, \"#fdca26\"], [1.0, \"#f0f921\"]], \"type\": \"contour\"}], \"contourcarpet\": [{\"colorbar\": {\"outlinewidth\": 0, \"ticks\": \"\"}, \"type\": \"contourcarpet\"}], \"heatmap\": [{\"colorbar\": {\"outlinewidth\": 0, \"ticks\": \"\"}, \"colorscale\": [[0.0, \"#0d0887\"], [0.1111111111111111, \"#46039f\"], [0.2222222222222222, \"#7201a8\"], [0.3333333333333333, \"#9c179e\"], [0.4444444444444444, \"#bd3786\"], [0.5555555555555556, \"#d8576b\"], [0.6666666666666666, \"#ed7953\"], [0.7777777777777778, \"#fb9f3a\"], [0.8888888888888888, \"#fdca26\"], [1.0, \"#f0f921\"]], \"type\": \"heatmap\"}], \"heatmapgl\": [{\"colorbar\": {\"outlinewidth\": 0, \"ticks\": \"\"}, \"colorscale\": [[0.0, \"#0d0887\"], [0.1111111111111111, \"#46039f\"], [0.2222222222222222, \"#7201a8\"], [0.3333333333333333, \"#9c179e\"], [0.4444444444444444, \"#bd3786\"], [0.5555555555555556, \"#d8576b\"], [0.6666666666666666, \"#ed7953\"], [0.7777777777777778, \"#fb9f3a\"], [0.8888888888888888, \"#fdca26\"], [1.0, \"#f0f921\"]], \"type\": \"heatmapgl\"}], \"histogram\": [{\"marker\": {\"colorbar\": {\"outlinewidth\": 0, \"ticks\": \"\"}}, \"type\": \"histogram\"}], \"histogram2d\": [{\"colorbar\": {\"outlinewidth\": 0, \"ticks\": \"\"}, \"colorscale\": [[0.0, \"#0d0887\"], [0.1111111111111111, \"#46039f\"], [0.2222222222222222, \"#7201a8\"], [0.3333333333333333, \"#9c179e\"], [0.4444444444444444, \"#bd3786\"], [0.5555555555555556, \"#d8576b\"], [0.6666666666666666, \"#ed7953\"], [0.7777777777777778, \"#fb9f3a\"], [0.8888888888888888, \"#fdca26\"], [1.0, \"#f0f921\"]], \"type\": \"histogram2d\"}], \"histogram2dcontour\": [{\"colorbar\": {\"outlinewidth\": 0, \"ticks\": \"\"}, \"colorscale\": [[0.0, \"#0d0887\"], [0.1111111111111111, \"#46039f\"], [0.2222222222222222, \"#7201a8\"], [0.3333333333333333, \"#9c179e\"], [0.4444444444444444, \"#bd3786\"], [0.5555555555555556, \"#d8576b\"], [0.6666666666666666, \"#ed7953\"], [0.7777777777777778, \"#fb9f3a\"], [0.8888888888888888, \"#fdca26\"], [1.0, \"#f0f921\"]], \"type\": \"histogram2dcontour\"}], \"mesh3d\": [{\"colorbar\": {\"outlinewidth\": 0, \"ticks\": \"\"}, \"type\": \"mesh3d\"}], \"parcoords\": [{\"line\": {\"colorbar\": {\"outlinewidth\": 0, \"ticks\": \"\"}}, \"type\": \"parcoords\"}], \"pie\": [{\"automargin\": true, \"type\": \"pie\"}], \"scatter\": [{\"marker\": {\"colorbar\": {\"outlinewidth\": 0, \"ticks\": \"\"}}, \"type\": \"scatter\"}], \"scatter3d\": [{\"line\": {\"colorbar\": {\"outlinewidth\": 0, \"ticks\": \"\"}}, \"marker\": {\"colorbar\": {\"outlinewidth\": 0, \"ticks\": \"\"}}, \"type\": \"scatter3d\"}], \"scattercarpet\": [{\"marker\": {\"colorbar\": {\"outlinewidth\": 0, \"ticks\": \"\"}}, \"type\": \"scattercarpet\"}], \"scattergeo\": [{\"marker\": {\"colorbar\": {\"outlinewidth\": 0, \"ticks\": \"\"}}, \"type\": \"scattergeo\"}], \"scattergl\": [{\"marker\": {\"colorbar\": {\"outlinewidth\": 0, \"ticks\": \"\"}}, \"type\": \"scattergl\"}], \"scattermapbox\": [{\"marker\": {\"colorbar\": {\"outlinewidth\": 0, \"ticks\": \"\"}}, \"type\": \"scattermapbox\"}], \"scatterpolar\": [{\"marker\": {\"colorbar\": {\"outlinewidth\": 0, \"ticks\": \"\"}}, \"type\": \"scatterpolar\"}], \"scatterpolargl\": [{\"marker\": {\"colorbar\": {\"outlinewidth\": 0, \"ticks\": \"\"}}, \"type\": \"scatterpolargl\"}], \"scatterternary\": [{\"marker\": {\"colorbar\": {\"outlinewidth\": 0, \"ticks\": \"\"}}, \"type\": \"scatterternary\"}], \"surface\": [{\"colorbar\": {\"outlinewidth\": 0, \"ticks\": \"\"}, \"colorscale\": [[0.0, \"#0d0887\"], [0.1111111111111111, \"#46039f\"], [0.2222222222222222, \"#7201a8\"], [0.3333333333333333, \"#9c179e\"], [0.4444444444444444, \"#bd3786\"], [0.5555555555555556, \"#d8576b\"], [0.6666666666666666, \"#ed7953\"], [0.7777777777777778, \"#fb9f3a\"], [0.8888888888888888, \"#fdca26\"], [1.0, \"#f0f921\"]], \"type\": \"surface\"}], \"table\": [{\"cells\": {\"fill\": {\"color\": \"#EBF0F8\"}, \"line\": {\"color\": \"white\"}}, \"header\": {\"fill\": {\"color\": \"#C8D4E3\"}, \"line\": {\"color\": \"white\"}}, \"type\": \"table\"}]}, \"layout\": {\"annotationdefaults\": {\"arrowcolor\": \"#2a3f5f\", \"arrowhead\": 0, \"arrowwidth\": 1}, \"coloraxis\": {\"colorbar\": {\"outlinewidth\": 0, \"ticks\": \"\"}}, \"colorscale\": {\"diverging\": [[0, \"#8e0152\"], [0.1, \"#c51b7d\"], [0.2, \"#de77ae\"], [0.3, \"#f1b6da\"], [0.4, \"#fde0ef\"], [0.5, \"#f7f7f7\"], [0.6, \"#e6f5d0\"], [0.7, \"#b8e186\"], [0.8, \"#7fbc41\"], [0.9, \"#4d9221\"], [1, \"#276419\"]], \"sequential\": [[0.0, \"#0d0887\"], [0.1111111111111111, \"#46039f\"], [0.2222222222222222, \"#7201a8\"], [0.3333333333333333, \"#9c179e\"], [0.4444444444444444, \"#bd3786\"], [0.5555555555555556, \"#d8576b\"], [0.6666666666666666, \"#ed7953\"], [0.7777777777777778, \"#fb9f3a\"], [0.8888888888888888, \"#fdca26\"], [1.0, \"#f0f921\"]], \"sequentialminus\": [[0.0, \"#0d0887\"], [0.1111111111111111, \"#46039f\"], [0.2222222222222222, \"#7201a8\"], [0.3333333333333333, \"#9c179e\"], [0.4444444444444444, \"#bd3786\"], [0.5555555555555556, \"#d8576b\"], [0.6666666666666666, \"#ed7953\"], [0.7777777777777778, \"#fb9f3a\"], [0.8888888888888888, \"#fdca26\"], [1.0, \"#f0f921\"]]}, \"colorway\": [\"#636efa\", \"#EF553B\", \"#00cc96\", \"#ab63fa\", \"#FFA15A\", \"#19d3f3\", \"#FF6692\", \"#B6E880\", \"#FF97FF\", \"#FECB52\"], \"font\": {\"color\": \"#2a3f5f\"}, \"geo\": {\"bgcolor\": \"white\", \"lakecolor\": \"white\", \"landcolor\": \"#E5ECF6\", \"showlakes\": true, \"showland\": true, \"subunitcolor\": \"white\"}, \"hoverlabel\": {\"align\": \"left\"}, \"hovermode\": \"closest\", \"mapbox\": {\"style\": \"light\"}, \"paper_bgcolor\": \"white\", \"plot_bgcolor\": \"#E5ECF6\", \"polar\": {\"angularaxis\": {\"gridcolor\": \"white\", \"linecolor\": \"white\", \"ticks\": \"\"}, \"bgcolor\": \"#E5ECF6\", \"radialaxis\": {\"gridcolor\": \"white\", \"linecolor\": \"white\", \"ticks\": \"\"}}, \"scene\": {\"xaxis\": {\"backgroundcolor\": \"#E5ECF6\", \"gridcolor\": \"white\", \"gridwidth\": 2, \"linecolor\": \"white\", \"showbackground\": true, \"ticks\": \"\", \"zerolinecolor\": \"white\"}, \"yaxis\": {\"backgroundcolor\": \"#E5ECF6\", \"gridcolor\": \"white\", \"gridwidth\": 2, \"linecolor\": \"white\", \"showbackground\": true, \"ticks\": \"\", \"zerolinecolor\": \"white\"}, \"zaxis\": {\"backgroundcolor\": \"#E5ECF6\", \"gridcolor\": \"white\", \"gridwidth\": 2, \"linecolor\": \"white\", \"showbackground\": true, \"ticks\": \"\", \"zerolinecolor\": \"white\"}}, \"shapedefaults\": {\"line\": {\"color\": \"#2a3f5f\"}}, \"ternary\": {\"aaxis\": {\"gridcolor\": \"white\", \"linecolor\": \"white\", \"ticks\": \"\"}, \"baxis\": {\"gridcolor\": \"white\", \"linecolor\": \"white\", \"ticks\": \"\"}, \"bgcolor\": \"#E5ECF6\", \"caxis\": {\"gridcolor\": \"white\", \"linecolor\": \"white\", \"ticks\": \"\"}}, \"title\": {\"x\": 0.05}, \"xaxis\": {\"automargin\": true, \"gridcolor\": \"white\", \"linecolor\": \"white\", \"ticks\": \"\", \"title\": {\"standoff\": 15}, \"zerolinecolor\": \"white\", \"zerolinewidth\": 2}, \"yaxis\": {\"automargin\": true, \"gridcolor\": \"white\", \"linecolor\": \"white\", \"ticks\": \"\", \"title\": {\"standoff\": 15}, \"zerolinecolor\": \"white\", \"zerolinewidth\": 2}}}, \"title\": {\"text\": \"COVID 19 cases of world\"}, \"width\": 800, \"xaxis\": {\"title\": {\"text\": \"Date\"}}, \"yaxis\": {\"title\": {\"text\": \"No. of cumulative deceased Cases\"}, \"type\": \"linear\"}},\n                        {\"responsive\": true}\n                    ).then(function(){\n                            \nvar gd = document.getElementById('92cf1daf-8cb7-45d1-a044-d16a66b8ada6');\nvar x = new MutationObserver(function (mutations, observer) {{\n        var display = window.getComputedStyle(gd).display;\n        if (!display || display === 'none') {{\n            console.log([gd, 'removed!']);\n            Plotly.purge(gd);\n            observer.disconnect();\n        }}\n}});\n\n// Listen for the removal of the full notebook cells\nvar notebookContainer = gd.closest('#notebook-container');\nif (notebookContainer) {{\n    x.observe(notebookContainer, {childList: true});\n}}\n\n// Listen for the clearing of the current output cell\nvar outputEl = gd.closest('.output');\nif (outputEl) {{\n    x.observe(outputEl, {childList: true});\n}}\n\n                        })\n                };\n                \n            </script>\n        </div>\n</body>\n</html>"
       }
      ]
     }
    },
    "897dc43cf86243ec8039a777cb4438f5": {
     "model_module": "@jupyter-widgets/base",
     "model_name": "LayoutModel",
     "state": {
      "_model_module": "@jupyter-widgets/base",
      "_model_module_version": "1.2.0",
      "_model_name": "LayoutModel",
      "_view_count": null,
      "_view_module": "@jupyter-widgets/base",
      "_view_module_version": "1.2.0",
      "_view_name": "LayoutView",
      "align_content": null,
      "align_items": null,
      "align_self": null,
      "border": null,
      "bottom": null,
      "display": null,
      "flex": null,
      "flex_flow": null,
      "grid_area": null,
      "grid_auto_columns": null,
      "grid_auto_flow": null,
      "grid_auto_rows": null,
      "grid_column": null,
      "grid_gap": null,
      "grid_row": null,
      "grid_template_areas": null,
      "grid_template_columns": null,
      "grid_template_rows": null,
      "height": null,
      "justify_content": null,
      "justify_items": null,
      "left": null,
      "margin": null,
      "max_height": null,
      "max_width": null,
      "min_height": null,
      "min_width": null,
      "object_fit": null,
      "object_position": null,
      "order": null,
      "overflow": null,
      "overflow_x": null,
      "overflow_y": null,
      "padding": null,
      "right": null,
      "top": null,
      "visibility": null,
      "width": null
     }
    },
    "8998ca6a976d4aab9732fd96b965313a": {
     "model_module": "@jupyter-widgets/base",
     "model_name": "LayoutModel",
     "state": {
      "_model_module": "@jupyter-widgets/base",
      "_model_module_version": "1.2.0",
      "_model_name": "LayoutModel",
      "_view_count": null,
      "_view_module": "@jupyter-widgets/base",
      "_view_module_version": "1.2.0",
      "_view_name": "LayoutView",
      "align_content": null,
      "align_items": null,
      "align_self": null,
      "border": null,
      "bottom": null,
      "display": null,
      "flex": null,
      "flex_flow": null,
      "grid_area": null,
      "grid_auto_columns": null,
      "grid_auto_flow": null,
      "grid_auto_rows": null,
      "grid_column": null,
      "grid_gap": null,
      "grid_row": null,
      "grid_template_areas": null,
      "grid_template_columns": null,
      "grid_template_rows": null,
      "height": null,
      "justify_content": null,
      "justify_items": null,
      "left": null,
      "margin": null,
      "max_height": null,
      "max_width": null,
      "min_height": null,
      "min_width": null,
      "object_fit": null,
      "object_position": null,
      "order": null,
      "overflow": null,
      "overflow_x": null,
      "overflow_y": null,
      "padding": null,
      "right": null,
      "top": null,
      "visibility": null,
      "width": null
     }
    },
    "89d6b363cb3246c4bab5c012b47f8336": {
     "model_module": "@jupyter-widgets/base",
     "model_name": "LayoutModel",
     "state": {
      "_model_module": "@jupyter-widgets/base",
      "_model_module_version": "1.2.0",
      "_model_name": "LayoutModel",
      "_view_count": null,
      "_view_module": "@jupyter-widgets/base",
      "_view_module_version": "1.2.0",
      "_view_name": "LayoutView",
      "align_content": null,
      "align_items": null,
      "align_self": null,
      "border": "solid 2px green",
      "bottom": null,
      "display": "none",
      "flex": null,
      "flex_flow": null,
      "grid_area": null,
      "grid_auto_columns": null,
      "grid_auto_flow": null,
      "grid_auto_rows": null,
      "grid_column": null,
      "grid_gap": null,
      "grid_row": null,
      "grid_template_areas": null,
      "grid_template_columns": null,
      "grid_template_rows": null,
      "height": null,
      "justify_content": null,
      "justify_items": null,
      "left": null,
      "margin": null,
      "max_height": null,
      "max_width": null,
      "min_height": null,
      "min_width": null,
      "object_fit": null,
      "object_position": null,
      "order": null,
      "overflow": null,
      "overflow_x": null,
      "overflow_y": null,
      "padding": null,
      "right": null,
      "top": null,
      "visibility": null,
      "width": null
     }
    },
    "8c1b551aa99b44f4a9aba2bd885e9d67": {
     "model_module": "@jupyter-widgets/output",
     "model_name": "OutputModel",
     "state": {
      "_dom_classes": [],
      "_model_module": "@jupyter-widgets/output",
      "_model_module_version": "1.0.0",
      "_model_name": "OutputModel",
      "_view_count": null,
      "_view_module": "@jupyter-widgets/output",
      "_view_module_version": "1.0.0",
      "_view_name": "OutputView",
      "layout": "IPY_MODEL_d85fd627921241bda6fa6ff8f7f3435b",
      "msg_id": "",
      "outputs": [
       {
        "metadata": {
         "tags": []
        },
        "output_type": "display_data",
        "text/html": "<html>\n<head><meta charset=\"utf-8\" /></head>\n<body>\n    <div>\n            <script src=\"https://cdnjs.cloudflare.com/ajax/libs/mathjax/2.7.5/MathJax.js?config=TeX-AMS-MML_SVG\"></script><script type=\"text/javascript\">if (window.MathJax) {MathJax.Hub.Config({SVG: {font: \"STIX-Web\"}});}</script>\n                <script type=\"text/javascript\">window.PlotlyConfig = {MathJaxConfig: 'local'};</script>\n        <script src=\"https://cdn.plot.ly/plotly-latest.min.js\"></script>    \n            <div id=\"5362371e-95a9-4943-80d9-450f1e22b47d\" class=\"plotly-graph-div\" style=\"height:525px; width:700px;\"></div>\n            <script type=\"text/javascript\">\n                \n                    window.PLOTLYENV=window.PLOTLYENV || {};\n                    \n                if (document.getElementById(\"5362371e-95a9-4943-80d9-450f1e22b47d\")) {\n                    Plotly.newPlot(\n                        '5362371e-95a9-4943-80d9-450f1e22b47d',\n                        [{\"hoverlabel\": {\"namelength\": 0}, \"hovertemplate\": \"<b>%{hovertext}</b><br><br>country=%{x}<br>confirmed=%{marker.size}\", \"hovertext\": [\"US\"], \"legendgroup\": \"country=US\", \"marker\": {\"color\": \"#636efa\", \"size\": [10270611.0], \"sizemode\": \"area\", \"sizeref\": 2852.9475, \"symbol\": \"circle\"}, \"mode\": \"markers\", \"name\": \"country=US\", \"showlegend\": true, \"type\": \"scatter\", \"x\": [\"US\"], \"xaxis\": \"x\", \"y\": [10270611.0], \"yaxis\": \"y\"}, {\"hoverlabel\": {\"namelength\": 0}, \"hovertemplate\": \"<b>%{hovertext}</b><br><br>country=%{x}<br>confirmed=%{marker.size}\", \"hovertext\": [\"India\"], \"legendgroup\": \"country=India\", \"marker\": {\"color\": \"#EF553B\", \"size\": [8636011.0], \"sizemode\": \"area\", \"sizeref\": 2852.9475, \"symbol\": \"circle\"}, \"mode\": \"markers\", \"name\": \"country=India\", \"showlegend\": true, \"type\": \"scatter\", \"x\": [\"India\"], \"xaxis\": \"x\", \"y\": [8636011.0], \"yaxis\": \"y\"}, {\"hoverlabel\": {\"namelength\": 0}, \"hovertemplate\": \"<b>%{hovertext}</b><br><br>country=%{x}<br>confirmed=%{marker.size}\", \"hovertext\": [\"Brazil\"], \"legendgroup\": \"country=Brazil\", \"marker\": {\"color\": \"#00cc96\", \"size\": [5699005.0], \"sizemode\": \"area\", \"sizeref\": 2852.9475, \"symbol\": \"circle\"}, \"mode\": \"markers\", \"name\": \"country=Brazil\", \"showlegend\": true, \"type\": \"scatter\", \"x\": [\"Brazil\"], \"xaxis\": \"x\", \"y\": [5699005.0], \"yaxis\": \"y\"}, {\"hoverlabel\": {\"namelength\": 0}, \"hovertemplate\": \"<b>%{hovertext}</b><br><br>country=%{x}<br>confirmed=%{marker.size}\", \"hovertext\": [\"France\"], \"legendgroup\": \"country=France\", \"marker\": {\"color\": \"#ab63fa\", \"size\": [1857309.0], \"sizemode\": \"area\", \"sizeref\": 2852.9475, \"symbol\": \"circle\"}, \"mode\": \"markers\", \"name\": \"country=France\", \"showlegend\": true, \"type\": \"scatter\", \"x\": [\"France\"], \"xaxis\": \"x\", \"y\": [1857309.0], \"yaxis\": \"y\"}, {\"hoverlabel\": {\"namelength\": 0}, \"hovertemplate\": \"<b>%{hovertext}</b><br><br>country=%{x}<br>confirmed=%{marker.size}\", \"hovertext\": [\"Russia\"], \"legendgroup\": \"country=Russia\", \"marker\": {\"color\": \"#FFA15A\", \"size\": [1822345.0], \"sizemode\": \"area\", \"sizeref\": 2852.9475, \"symbol\": \"circle\"}, \"mode\": \"markers\", \"name\": \"country=Russia\", \"showlegend\": true, \"type\": \"scatter\", \"x\": [\"Russia\"], \"xaxis\": \"x\", \"y\": [1822345.0], \"yaxis\": \"y\"}, {\"hoverlabel\": {\"namelength\": 0}, \"hovertemplate\": \"<b>%{hovertext}</b><br><br>country=%{x}<br>confirmed=%{marker.size}\", \"hovertext\": [\"Spain\"], \"legendgroup\": \"country=Spain\", \"marker\": {\"color\": \"#19d3f3\", \"size\": [1381218.0], \"sizemode\": \"area\", \"sizeref\": 2852.9475, \"symbol\": \"circle\"}, \"mode\": \"markers\", \"name\": \"country=Spain\", \"showlegend\": true, \"type\": \"scatter\", \"x\": [\"Spain\"], \"xaxis\": \"x\", \"y\": [1381218.0], \"yaxis\": \"y\"}, {\"hoverlabel\": {\"namelength\": 0}, \"hovertemplate\": \"<b>%{hovertext}</b><br><br>country=%{x}<br>confirmed=%{marker.size}\", \"hovertext\": [\"Argentina\"], \"legendgroup\": \"country=Argentina\", \"marker\": {\"color\": \"#FF6692\", \"size\": [1262476.0], \"sizemode\": \"area\", \"sizeref\": 2852.9475, \"symbol\": \"circle\"}, \"mode\": \"markers\", \"name\": \"country=Argentina\", \"showlegend\": true, \"type\": \"scatter\", \"x\": [\"Argentina\"], \"xaxis\": \"x\", \"y\": [1262476.0], \"yaxis\": \"y\"}, {\"hoverlabel\": {\"namelength\": 0}, \"hovertemplate\": \"<b>%{hovertext}</b><br><br>country=%{x}<br>confirmed=%{marker.size}\", \"hovertext\": [\"United Kingdom\"], \"legendgroup\": \"country=United Kingdom\", \"marker\": {\"color\": \"#B6E880\", \"size\": [1237226.0], \"sizemode\": \"area\", \"sizeref\": 2852.9475, \"symbol\": \"circle\"}, \"mode\": \"markers\", \"name\": \"country=United Kingdom\", \"showlegend\": true, \"type\": \"scatter\", \"x\": [\"United Kingdom\"], \"xaxis\": \"x\", \"y\": [1237226.0], \"yaxis\": \"y\"}, {\"hoverlabel\": {\"namelength\": 0}, \"hovertemplate\": \"<b>%{hovertext}</b><br><br>country=%{x}<br>confirmed=%{marker.size}\", \"hovertext\": [\"Colombia\"], \"legendgroup\": \"country=Colombia\", \"marker\": {\"color\": \"#FF97FF\", \"size\": [1155356.0], \"sizemode\": \"area\", \"sizeref\": 2852.9475, \"symbol\": \"circle\"}, \"mode\": \"markers\", \"name\": \"country=Colombia\", \"showlegend\": true, \"type\": \"scatter\", \"x\": [\"Colombia\"], \"xaxis\": \"x\", \"y\": [1155356.0], \"yaxis\": \"y\"}, {\"hoverlabel\": {\"namelength\": 0}, \"hovertemplate\": \"<b>%{hovertext}</b><br><br>country=%{x}<br>confirmed=%{marker.size}\", \"hovertext\": [\"Italy\"], \"legendgroup\": \"country=Italy\", \"marker\": {\"color\": \"#FECB52\", \"size\": [995463.0], \"sizemode\": \"area\", \"sizeref\": 2852.9475, \"symbol\": \"circle\"}, \"mode\": \"markers\", \"name\": \"country=Italy\", \"showlegend\": true, \"type\": \"scatter\", \"x\": [\"Italy\"], \"xaxis\": \"x\", \"y\": [995463.0], \"yaxis\": \"y\"}],\n                        {\"legend\": {\"itemsizing\": \"constant\", \"tracegroupgap\": 0}, \"margin\": {\"t\": 60}, \"template\": {\"data\": {\"bar\": [{\"error_x\": {\"color\": \"#2a3f5f\"}, \"error_y\": {\"color\": \"#2a3f5f\"}, \"marker\": {\"line\": {\"color\": \"#E5ECF6\", \"width\": 0.5}}, \"type\": \"bar\"}], \"barpolar\": [{\"marker\": {\"line\": {\"color\": \"#E5ECF6\", \"width\": 0.5}}, \"type\": \"barpolar\"}], \"carpet\": [{\"aaxis\": {\"endlinecolor\": \"#2a3f5f\", \"gridcolor\": \"white\", \"linecolor\": \"white\", \"minorgridcolor\": \"white\", \"startlinecolor\": \"#2a3f5f\"}, \"baxis\": {\"endlinecolor\": \"#2a3f5f\", \"gridcolor\": \"white\", \"linecolor\": \"white\", \"minorgridcolor\": \"white\", \"startlinecolor\": \"#2a3f5f\"}, \"type\": \"carpet\"}], \"choropleth\": [{\"colorbar\": {\"outlinewidth\": 0, \"ticks\": \"\"}, \"type\": \"choropleth\"}], \"contour\": [{\"colorbar\": {\"outlinewidth\": 0, \"ticks\": \"\"}, \"colorscale\": [[0.0, \"#0d0887\"], [0.1111111111111111, \"#46039f\"], [0.2222222222222222, \"#7201a8\"], [0.3333333333333333, \"#9c179e\"], [0.4444444444444444, \"#bd3786\"], [0.5555555555555556, \"#d8576b\"], [0.6666666666666666, \"#ed7953\"], [0.7777777777777778, \"#fb9f3a\"], [0.8888888888888888, \"#fdca26\"], [1.0, \"#f0f921\"]], \"type\": \"contour\"}], \"contourcarpet\": [{\"colorbar\": {\"outlinewidth\": 0, \"ticks\": \"\"}, \"type\": \"contourcarpet\"}], \"heatmap\": [{\"colorbar\": {\"outlinewidth\": 0, \"ticks\": \"\"}, \"colorscale\": [[0.0, \"#0d0887\"], [0.1111111111111111, \"#46039f\"], [0.2222222222222222, \"#7201a8\"], [0.3333333333333333, \"#9c179e\"], [0.4444444444444444, \"#bd3786\"], [0.5555555555555556, \"#d8576b\"], [0.6666666666666666, \"#ed7953\"], [0.7777777777777778, \"#fb9f3a\"], [0.8888888888888888, \"#fdca26\"], [1.0, \"#f0f921\"]], \"type\": \"heatmap\"}], \"heatmapgl\": [{\"colorbar\": {\"outlinewidth\": 0, \"ticks\": \"\"}, \"colorscale\": [[0.0, \"#0d0887\"], [0.1111111111111111, \"#46039f\"], [0.2222222222222222, \"#7201a8\"], [0.3333333333333333, \"#9c179e\"], [0.4444444444444444, \"#bd3786\"], [0.5555555555555556, \"#d8576b\"], [0.6666666666666666, \"#ed7953\"], [0.7777777777777778, \"#fb9f3a\"], [0.8888888888888888, \"#fdca26\"], [1.0, \"#f0f921\"]], \"type\": \"heatmapgl\"}], \"histogram\": [{\"marker\": {\"colorbar\": {\"outlinewidth\": 0, \"ticks\": \"\"}}, \"type\": \"histogram\"}], \"histogram2d\": [{\"colorbar\": {\"outlinewidth\": 0, \"ticks\": \"\"}, \"colorscale\": [[0.0, \"#0d0887\"], [0.1111111111111111, \"#46039f\"], [0.2222222222222222, \"#7201a8\"], [0.3333333333333333, \"#9c179e\"], [0.4444444444444444, \"#bd3786\"], [0.5555555555555556, \"#d8576b\"], [0.6666666666666666, \"#ed7953\"], [0.7777777777777778, \"#fb9f3a\"], [0.8888888888888888, \"#fdca26\"], [1.0, \"#f0f921\"]], \"type\": \"histogram2d\"}], \"histogram2dcontour\": [{\"colorbar\": {\"outlinewidth\": 0, \"ticks\": \"\"}, \"colorscale\": [[0.0, \"#0d0887\"], [0.1111111111111111, \"#46039f\"], [0.2222222222222222, \"#7201a8\"], [0.3333333333333333, \"#9c179e\"], [0.4444444444444444, \"#bd3786\"], [0.5555555555555556, \"#d8576b\"], [0.6666666666666666, \"#ed7953\"], [0.7777777777777778, \"#fb9f3a\"], [0.8888888888888888, \"#fdca26\"], [1.0, \"#f0f921\"]], \"type\": \"histogram2dcontour\"}], \"mesh3d\": [{\"colorbar\": {\"outlinewidth\": 0, \"ticks\": \"\"}, \"type\": \"mesh3d\"}], \"parcoords\": [{\"line\": {\"colorbar\": {\"outlinewidth\": 0, \"ticks\": \"\"}}, \"type\": \"parcoords\"}], \"pie\": [{\"automargin\": true, \"type\": \"pie\"}], \"scatter\": [{\"marker\": {\"colorbar\": {\"outlinewidth\": 0, \"ticks\": \"\"}}, \"type\": \"scatter\"}], \"scatter3d\": [{\"line\": {\"colorbar\": {\"outlinewidth\": 0, \"ticks\": \"\"}}, \"marker\": {\"colorbar\": {\"outlinewidth\": 0, \"ticks\": \"\"}}, \"type\": \"scatter3d\"}], \"scattercarpet\": [{\"marker\": {\"colorbar\": {\"outlinewidth\": 0, \"ticks\": \"\"}}, \"type\": \"scattercarpet\"}], \"scattergeo\": [{\"marker\": {\"colorbar\": {\"outlinewidth\": 0, \"ticks\": \"\"}}, \"type\": \"scattergeo\"}], \"scattergl\": [{\"marker\": {\"colorbar\": {\"outlinewidth\": 0, \"ticks\": \"\"}}, \"type\": \"scattergl\"}], \"scattermapbox\": [{\"marker\": {\"colorbar\": {\"outlinewidth\": 0, \"ticks\": \"\"}}, \"type\": \"scattermapbox\"}], \"scatterpolar\": [{\"marker\": {\"colorbar\": {\"outlinewidth\": 0, \"ticks\": \"\"}}, \"type\": \"scatterpolar\"}], \"scatterpolargl\": [{\"marker\": {\"colorbar\": {\"outlinewidth\": 0, \"ticks\": \"\"}}, \"type\": \"scatterpolargl\"}], \"scatterternary\": [{\"marker\": {\"colorbar\": {\"outlinewidth\": 0, \"ticks\": \"\"}}, \"type\": \"scatterternary\"}], \"surface\": [{\"colorbar\": {\"outlinewidth\": 0, \"ticks\": \"\"}, \"colorscale\": [[0.0, \"#0d0887\"], [0.1111111111111111, \"#46039f\"], [0.2222222222222222, \"#7201a8\"], [0.3333333333333333, \"#9c179e\"], [0.4444444444444444, \"#bd3786\"], [0.5555555555555556, \"#d8576b\"], [0.6666666666666666, \"#ed7953\"], [0.7777777777777778, \"#fb9f3a\"], [0.8888888888888888, \"#fdca26\"], [1.0, \"#f0f921\"]], \"type\": \"surface\"}], \"table\": [{\"cells\": {\"fill\": {\"color\": \"#EBF0F8\"}, \"line\": {\"color\": \"white\"}}, \"header\": {\"fill\": {\"color\": \"#C8D4E3\"}, \"line\": {\"color\": \"white\"}}, \"type\": \"table\"}]}, \"layout\": {\"annotationdefaults\": {\"arrowcolor\": \"#2a3f5f\", \"arrowhead\": 0, \"arrowwidth\": 1}, \"coloraxis\": {\"colorbar\": {\"outlinewidth\": 0, \"ticks\": \"\"}}, \"colorscale\": {\"diverging\": [[0, \"#8e0152\"], [0.1, \"#c51b7d\"], [0.2, \"#de77ae\"], [0.3, \"#f1b6da\"], [0.4, \"#fde0ef\"], [0.5, \"#f7f7f7\"], [0.6, \"#e6f5d0\"], [0.7, \"#b8e186\"], [0.8, \"#7fbc41\"], [0.9, \"#4d9221\"], [1, \"#276419\"]], \"sequential\": [[0.0, \"#0d0887\"], [0.1111111111111111, \"#46039f\"], [0.2222222222222222, \"#7201a8\"], [0.3333333333333333, \"#9c179e\"], [0.4444444444444444, \"#bd3786\"], [0.5555555555555556, \"#d8576b\"], [0.6666666666666666, \"#ed7953\"], [0.7777777777777778, \"#fb9f3a\"], [0.8888888888888888, \"#fdca26\"], [1.0, \"#f0f921\"]], \"sequentialminus\": [[0.0, \"#0d0887\"], [0.1111111111111111, \"#46039f\"], [0.2222222222222222, \"#7201a8\"], [0.3333333333333333, \"#9c179e\"], [0.4444444444444444, \"#bd3786\"], [0.5555555555555556, \"#d8576b\"], [0.6666666666666666, \"#ed7953\"], [0.7777777777777778, \"#fb9f3a\"], [0.8888888888888888, \"#fdca26\"], [1.0, \"#f0f921\"]]}, \"colorway\": [\"#636efa\", \"#EF553B\", \"#00cc96\", \"#ab63fa\", \"#FFA15A\", \"#19d3f3\", \"#FF6692\", \"#B6E880\", \"#FF97FF\", \"#FECB52\"], \"font\": {\"color\": \"#2a3f5f\"}, \"geo\": {\"bgcolor\": \"white\", \"lakecolor\": \"white\", \"landcolor\": \"#E5ECF6\", \"showlakes\": true, \"showland\": true, \"subunitcolor\": \"white\"}, \"hoverlabel\": {\"align\": \"left\"}, \"hovermode\": \"closest\", \"mapbox\": {\"style\": \"light\"}, \"paper_bgcolor\": \"white\", \"plot_bgcolor\": \"#E5ECF6\", \"polar\": {\"angularaxis\": {\"gridcolor\": \"white\", \"linecolor\": \"white\", \"ticks\": \"\"}, \"bgcolor\": \"#E5ECF6\", \"radialaxis\": {\"gridcolor\": \"white\", \"linecolor\": \"white\", \"ticks\": \"\"}}, \"scene\": {\"xaxis\": {\"backgroundcolor\": \"#E5ECF6\", \"gridcolor\": \"white\", \"gridwidth\": 2, \"linecolor\": \"white\", \"showbackground\": true, \"ticks\": \"\", \"zerolinecolor\": \"white\"}, \"yaxis\": {\"backgroundcolor\": \"#E5ECF6\", \"gridcolor\": \"white\", \"gridwidth\": 2, \"linecolor\": \"white\", \"showbackground\": true, \"ticks\": \"\", \"zerolinecolor\": \"white\"}, \"zaxis\": {\"backgroundcolor\": \"#E5ECF6\", \"gridcolor\": \"white\", \"gridwidth\": 2, \"linecolor\": \"white\", \"showbackground\": true, \"ticks\": \"\", \"zerolinecolor\": \"white\"}}, \"shapedefaults\": {\"line\": {\"color\": \"#2a3f5f\"}}, \"ternary\": {\"aaxis\": {\"gridcolor\": \"white\", \"linecolor\": \"white\", \"ticks\": \"\"}, \"baxis\": {\"gridcolor\": \"white\", \"linecolor\": \"white\", \"ticks\": \"\"}, \"bgcolor\": \"#E5ECF6\", \"caxis\": {\"gridcolor\": \"white\", \"linecolor\": \"white\", \"ticks\": \"\"}}, \"title\": {\"x\": 0.05}, \"xaxis\": {\"automargin\": true, \"gridcolor\": \"white\", \"linecolor\": \"white\", \"ticks\": \"\", \"title\": {\"standoff\": 15}, \"zerolinecolor\": \"white\", \"zerolinewidth\": 2}, \"yaxis\": {\"automargin\": true, \"gridcolor\": \"white\", \"linecolor\": \"white\", \"ticks\": \"\", \"title\": {\"standoff\": 15}, \"zerolinecolor\": \"white\", \"zerolinewidth\": 2}}}, \"title\": {\"text\": \"10 Worst hit countries\"}, \"width\": 700, \"xaxis\": {\"anchor\": \"y\", \"categoryarray\": [\"US\", \"India\", \"Brazil\", \"France\", \"Russia\", \"Spain\", \"Argentina\", \"United Kingdom\", \"Colombia\", \"Italy\"], \"categoryorder\": \"array\", \"domain\": [0.0, 1.0], \"title\": {\"text\": \"Countries\"}}, \"yaxis\": {\"anchor\": \"x\", \"domain\": [0.0, 1.0], \"title\": {\"text\": \"Confirmed Cases\"}}},\n                        {\"responsive\": true}\n                    ).then(function(){\n                            \nvar gd = document.getElementById('5362371e-95a9-4943-80d9-450f1e22b47d');\nvar x = new MutationObserver(function (mutations, observer) {{\n        var display = window.getComputedStyle(gd).display;\n        if (!display || display === 'none') {{\n            console.log([gd, 'removed!']);\n            Plotly.purge(gd);\n            observer.disconnect();\n        }}\n}});\n\n// Listen for the removal of the full notebook cells\nvar notebookContainer = gd.closest('#notebook-container');\nif (notebookContainer) {{\n    x.observe(notebookContainer, {childList: true});\n}}\n\n// Listen for the clearing of the current output cell\nvar outputEl = gd.closest('.output');\nif (outputEl) {{\n    x.observe(outputEl, {childList: true});\n}}\n\n                        })\n                };\n                \n            </script>\n        </div>\n</body>\n</html>"
       }
      ]
     }
    },
    "8c807f3a1d884641b077c417041e9d74": {
     "model_module": "@jupyter-widgets/controls",
     "model_name": "IntSliderModel",
     "state": {
      "_dom_classes": [],
      "_model_module": "@jupyter-widgets/controls",
      "_model_module_version": "1.5.0",
      "_model_name": "IntSliderModel",
      "_view_count": null,
      "_view_module": "@jupyter-widgets/controls",
      "_view_module_version": "1.5.0",
      "_view_name": "IntSliderView",
      "continuous_update": true,
      "description": "n",
      "description_tooltip": null,
      "disabled": false,
      "layout": "IPY_MODEL_31550b7cadb142a888953e9d5d0bc19a",
      "max": 150,
      "min": -50,
      "orientation": "horizontal",
      "readout": true,
      "readout_format": "d",
      "step": 1,
      "style": "IPY_MODEL_4a9c587d0c33400780c2d1d02c24ff37",
      "value": 50
     }
    },
    "8e3847f83ddb4126b25e2e067c50defc": {
     "model_module": "@jupyter-widgets/controls",
     "model_name": "SliderStyleModel",
     "state": {
      "_model_module": "@jupyter-widgets/controls",
      "_model_module_version": "1.5.0",
      "_model_name": "SliderStyleModel",
      "_view_count": null,
      "_view_module": "@jupyter-widgets/base",
      "_view_module_version": "1.2.0",
      "_view_name": "StyleView",
      "description_width": "",
      "handle_color": null
     }
    },
    "982f563716e14057ad1363c9b1edec65": {
     "model_module": "@jupyter-widgets/controls",
     "model_name": "VBoxModel",
     "state": {
      "_dom_classes": [],
      "_model_module": "@jupyter-widgets/controls",
      "_model_module_version": "1.5.0",
      "_model_name": "VBoxModel",
      "_view_count": null,
      "_view_module": "@jupyter-widgets/controls",
      "_view_module_version": "1.5.0",
      "_view_name": "VBoxView",
      "box_style": "",
      "children": [
       "IPY_MODEL_106df13296e44e1e879ab518e0d05851"
      ],
      "layout": "IPY_MODEL_f46a76bd8b4a47c89adde521d830945f"
     }
    },
    "af754b5c994b4f42803dd027087f0f39": {
     "model_module": "@jupyter-widgets/controls",
     "model_name": "VBoxModel",
     "state": {
      "_dom_classes": [
       "widget-interact"
      ],
      "_model_module": "@jupyter-widgets/controls",
      "_model_module_version": "1.5.0",
      "_model_name": "VBoxModel",
      "_view_count": null,
      "_view_module": "@jupyter-widgets/controls",
      "_view_module_version": "1.5.0",
      "_view_name": "VBoxView",
      "box_style": "",
      "children": [
       "IPY_MODEL_3493cca756c743089f7dd254030d2e5c",
       "IPY_MODEL_e3b6b06c184246a1af2b440d83b35e74"
      ],
      "layout": "IPY_MODEL_897dc43cf86243ec8039a777cb4438f5"
     }
    },
    "b40dcd90615640afac4ae01418e4d359": {
     "model_module": "@jupyter-widgets/controls",
     "model_name": "VBoxModel",
     "state": {
      "_dom_classes": [],
      "_model_module": "@jupyter-widgets/controls",
      "_model_module_version": "1.5.0",
      "_model_name": "VBoxModel",
      "_view_count": null,
      "_view_module": "@jupyter-widgets/controls",
      "_view_module_version": "1.5.0",
      "_view_name": "VBoxView",
      "box_style": "",
      "children": [
       "IPY_MODEL_106df13296e44e1e879ab518e0d05851"
      ],
      "layout": "IPY_MODEL_89d6b363cb3246c4bab5c012b47f8336"
     }
    },
    "c3a3afb1b7464edeaef883fb69bb5f4d": {
     "model_module": "@jupyter-widgets/controls",
     "model_name": "SliderStyleModel",
     "state": {
      "_model_module": "@jupyter-widgets/controls",
      "_model_module_version": "1.5.0",
      "_model_name": "SliderStyleModel",
      "_view_count": null,
      "_view_module": "@jupyter-widgets/base",
      "_view_module_version": "1.2.0",
      "_view_name": "StyleView",
      "description_width": "",
      "handle_color": null
     }
    },
    "c9c798cbad554b019bcdf2f380ed2dc3": {
     "model_module": "@jupyter-widgets/controls",
     "model_name": "VBoxModel",
     "state": {
      "_dom_classes": [
       "widget-interact"
      ],
      "_model_module": "@jupyter-widgets/controls",
      "_model_module_version": "1.5.0",
      "_model_name": "VBoxModel",
      "_view_count": null,
      "_view_module": "@jupyter-widgets/controls",
      "_view_module_version": "1.5.0",
      "_view_name": "VBoxView",
      "box_style": "",
      "children": [
       "IPY_MODEL_8685546b19cf49b7b14552d60993c00e",
       "IPY_MODEL_8c1b551aa99b44f4a9aba2bd885e9d67"
      ],
      "layout": "IPY_MODEL_f4488b853f8c4ebcbe535e8e7851cfbd"
     }
    },
    "ce0397bc9e634d5fa2e981b5a4444547": {
     "model_module": "@jupyter-widgets/controls",
     "model_name": "VBoxModel",
     "state": {
      "_dom_classes": [],
      "_model_module": "@jupyter-widgets/controls",
      "_model_module_version": "1.5.0",
      "_model_name": "VBoxModel",
      "_view_count": null,
      "_view_module": "@jupyter-widgets/controls",
      "_view_module_version": "1.5.0",
      "_view_name": "VBoxView",
      "box_style": "",
      "children": [
       "IPY_MODEL_106df13296e44e1e879ab518e0d05851"
      ],
      "layout": "IPY_MODEL_11a809e798d743a28dba4fa55f626697"
     }
    },
    "ce35a6c1bb964ff58af022562b615d95": {
     "model_module": "@jupyter-widgets/controls",
     "model_name": "IntSliderModel",
     "state": {
      "_dom_classes": [],
      "_model_module": "@jupyter-widgets/controls",
      "_model_module_version": "1.5.0",
      "_model_name": "IntSliderModel",
      "_view_count": null,
      "_view_module": "@jupyter-widgets/controls",
      "_view_module_version": "1.5.0",
      "_view_name": "IntSliderView",
      "continuous_update": true,
      "description": "n",
      "description_tooltip": null,
      "disabled": false,
      "layout": "IPY_MODEL_d32228846e3b44e0bfcdeb2fabffab4c",
      "max": 30,
      "min": -10,
      "orientation": "horizontal",
      "readout": true,
      "readout_format": "d",
      "step": 1,
      "style": "IPY_MODEL_c3a3afb1b7464edeaef883fb69bb5f4d",
      "value": 10
     }
    },
    "d0e50a6df9af4137a7d7ca4ef07b38a2": {
     "model_module": "@jupyter-widgets/controls",
     "model_name": "VBoxModel",
     "state": {
      "_dom_classes": [],
      "_model_module": "@jupyter-widgets/controls",
      "_model_module_version": "1.5.0",
      "_model_name": "VBoxModel",
      "_view_count": null,
      "_view_module": "@jupyter-widgets/controls",
      "_view_module_version": "1.5.0",
      "_view_name": "VBoxView",
      "box_style": "",
      "children": [
       "IPY_MODEL_106df13296e44e1e879ab518e0d05851"
      ],
      "layout": "IPY_MODEL_fe011bbff42041e0b5168f461a0cdc9b"
     }
    },
    "d32228846e3b44e0bfcdeb2fabffab4c": {
     "model_module": "@jupyter-widgets/base",
     "model_name": "LayoutModel",
     "state": {
      "_model_module": "@jupyter-widgets/base",
      "_model_module_version": "1.2.0",
      "_model_name": "LayoutModel",
      "_view_count": null,
      "_view_module": "@jupyter-widgets/base",
      "_view_module_version": "1.2.0",
      "_view_name": "LayoutView",
      "align_content": null,
      "align_items": null,
      "align_self": null,
      "border": null,
      "bottom": null,
      "display": null,
      "flex": null,
      "flex_flow": null,
      "grid_area": null,
      "grid_auto_columns": null,
      "grid_auto_flow": null,
      "grid_auto_rows": null,
      "grid_column": null,
      "grid_gap": null,
      "grid_row": null,
      "grid_template_areas": null,
      "grid_template_columns": null,
      "grid_template_rows": null,
      "height": null,
      "justify_content": null,
      "justify_items": null,
      "left": null,
      "margin": null,
      "max_height": null,
      "max_width": null,
      "min_height": null,
      "min_width": null,
      "object_fit": null,
      "object_position": null,
      "order": null,
      "overflow": null,
      "overflow_x": null,
      "overflow_y": null,
      "padding": null,
      "right": null,
      "top": null,
      "visibility": null,
      "width": null
     }
    },
    "d85fd627921241bda6fa6ff8f7f3435b": {
     "model_module": "@jupyter-widgets/base",
     "model_name": "LayoutModel",
     "state": {
      "_model_module": "@jupyter-widgets/base",
      "_model_module_version": "1.2.0",
      "_model_name": "LayoutModel",
      "_view_count": null,
      "_view_module": "@jupyter-widgets/base",
      "_view_module_version": "1.2.0",
      "_view_name": "LayoutView",
      "align_content": null,
      "align_items": null,
      "align_self": null,
      "border": null,
      "bottom": null,
      "display": null,
      "flex": null,
      "flex_flow": null,
      "grid_area": null,
      "grid_auto_columns": null,
      "grid_auto_flow": null,
      "grid_auto_rows": null,
      "grid_column": null,
      "grid_gap": null,
      "grid_row": null,
      "grid_template_areas": null,
      "grid_template_columns": null,
      "grid_template_rows": null,
      "height": null,
      "justify_content": null,
      "justify_items": null,
      "left": null,
      "margin": null,
      "max_height": null,
      "max_width": null,
      "min_height": null,
      "min_width": null,
      "object_fit": null,
      "object_position": null,
      "order": null,
      "overflow": null,
      "overflow_x": null,
      "overflow_y": null,
      "padding": null,
      "right": null,
      "top": null,
      "visibility": null,
      "width": null
     }
    },
    "dae51c88c09e4911898663f31648cbbf": {
     "model_module": "@jupyter-widgets/base",
     "model_name": "LayoutModel",
     "state": {
      "_model_module": "@jupyter-widgets/base",
      "_model_module_version": "1.2.0",
      "_model_name": "LayoutModel",
      "_view_count": null,
      "_view_module": "@jupyter-widgets/base",
      "_view_module_version": "1.2.0",
      "_view_name": "LayoutView",
      "align_content": null,
      "align_items": null,
      "align_self": null,
      "border": null,
      "bottom": null,
      "display": null,
      "flex": null,
      "flex_flow": null,
      "grid_area": null,
      "grid_auto_columns": null,
      "grid_auto_flow": null,
      "grid_auto_rows": null,
      "grid_column": null,
      "grid_gap": null,
      "grid_row": null,
      "grid_template_areas": null,
      "grid_template_columns": null,
      "grid_template_rows": null,
      "height": null,
      "justify_content": null,
      "justify_items": null,
      "left": null,
      "margin": null,
      "max_height": null,
      "max_width": null,
      "min_height": null,
      "min_width": null,
      "object_fit": null,
      "object_position": null,
      "order": null,
      "overflow": null,
      "overflow_x": null,
      "overflow_y": null,
      "padding": null,
      "right": null,
      "top": null,
      "visibility": null,
      "width": null
     }
    },
    "dd8418a1c8434a70a6a555afc506532c": {
     "model_module": "@jupyter-widgets/controls",
     "model_name": "TextModel",
     "state": {
      "_dom_classes": [],
      "_model_module": "@jupyter-widgets/controls",
      "_model_module_version": "1.5.0",
      "_model_name": "TextModel",
      "_view_count": null,
      "_view_module": "@jupyter-widgets/controls",
      "_view_module_version": "1.5.0",
      "_view_name": "TextView",
      "continuous_update": true,
      "description": "country",
      "description_tooltip": null,
      "disabled": false,
      "layout": "IPY_MODEL_fc5a92f12ab54e6d8e72113fe05eb1e4",
      "placeholder": "​",
      "style": "IPY_MODEL_31b7288513924ef59e4c63fcc876490f",
      "value": "world"
     }
    },
    "e3b6b06c184246a1af2b440d83b35e74": {
     "model_module": "@jupyter-widgets/output",
     "model_name": "OutputModel",
     "state": {
      "_dom_classes": [],
      "_model_module": "@jupyter-widgets/output",
      "_model_module_version": "1.0.0",
      "_model_name": "OutputModel",
      "_view_count": null,
      "_view_module": "@jupyter-widgets/output",
      "_view_module_version": "1.0.0",
      "_view_name": "OutputView",
      "layout": "IPY_MODEL_33e903920e564049a2519f60f8c5f659",
      "msg_id": "",
      "outputs": [
       {
        "metadata": {
         "tags": []
        },
        "output_type": "display_data",
        "text/html": "<style  type=\"text/css\" >\n#T_991d2956_243b_11eb_8ffb_0242ac1c0002row0_col4,#T_991d2956_243b_11eb_8ffb_0242ac1c0002row1_col4,#T_991d2956_243b_11eb_8ffb_0242ac1c0002row2_col4,#T_991d2956_243b_11eb_8ffb_0242ac1c0002row3_col4,#T_991d2956_243b_11eb_8ffb_0242ac1c0002row4_col4,#T_991d2956_243b_11eb_8ffb_0242ac1c0002row5_col4,#T_991d2956_243b_11eb_8ffb_0242ac1c0002row6_col4,#T_991d2956_243b_11eb_8ffb_0242ac1c0002row7_col4,#T_991d2956_243b_11eb_8ffb_0242ac1c0002row8_col4,#T_991d2956_243b_11eb_8ffb_0242ac1c0002row9_col4{\n            background-color:  purple;\n        }#T_991d2956_243b_11eb_8ffb_0242ac1c0002row0_col5,#T_991d2956_243b_11eb_8ffb_0242ac1c0002row1_col5,#T_991d2956_243b_11eb_8ffb_0242ac1c0002row2_col5,#T_991d2956_243b_11eb_8ffb_0242ac1c0002row3_col5,#T_991d2956_243b_11eb_8ffb_0242ac1c0002row4_col5,#T_991d2956_243b_11eb_8ffb_0242ac1c0002row5_col5,#T_991d2956_243b_11eb_8ffb_0242ac1c0002row6_col5,#T_991d2956_243b_11eb_8ffb_0242ac1c0002row7_col5,#T_991d2956_243b_11eb_8ffb_0242ac1c0002row8_col5,#T_991d2956_243b_11eb_8ffb_0242ac1c0002row9_col5{\n            background-color:  red;\n        }#T_991d2956_243b_11eb_8ffb_0242ac1c0002row0_col6,#T_991d2956_243b_11eb_8ffb_0242ac1c0002row1_col6,#T_991d2956_243b_11eb_8ffb_0242ac1c0002row2_col6,#T_991d2956_243b_11eb_8ffb_0242ac1c0002row3_col6,#T_991d2956_243b_11eb_8ffb_0242ac1c0002row4_col6,#T_991d2956_243b_11eb_8ffb_0242ac1c0002row5_col6,#T_991d2956_243b_11eb_8ffb_0242ac1c0002row6_col6,#T_991d2956_243b_11eb_8ffb_0242ac1c0002row7_col6,#T_991d2956_243b_11eb_8ffb_0242ac1c0002row8_col6,#T_991d2956_243b_11eb_8ffb_0242ac1c0002row9_col6{\n            background-color:  grey;\n        }</style><table id=\"T_991d2956_243b_11eb_8ffb_0242ac1c0002\" ><thead>    <tr>        <th class=\"blank level0\" ></th>        <th class=\"col_heading level0 col0\" >country</th>        <th class=\"col_heading level0 col1\" >last_update</th>        <th class=\"col_heading level0 col2\" >lat</th>        <th class=\"col_heading level0 col3\" >long_</th>        <th class=\"col_heading level0 col4\" >confirmed</th>        <th class=\"col_heading level0 col5\" >deaths</th>        <th class=\"col_heading level0 col6\" >recovered</th>        <th class=\"col_heading level0 col7\" >active</th>        <th class=\"col_heading level0 col8\" >incident_rate</th>        <th class=\"col_heading level0 col9\" >people_tested</th>        <th class=\"col_heading level0 col10\" >people_hospitalized</th>        <th class=\"col_heading level0 col11\" >mortality_rate</th>        <th class=\"col_heading level0 col12\" >uid</th>        <th class=\"col_heading level0 col13\" >iso3</th>    </tr></thead><tbody>\n                <tr>\n                        <th id=\"T_991d2956_243b_11eb_8ffb_0242ac1c0002level0_row0\" class=\"row_heading level0 row0\" >176</th>\n                        <td id=\"T_991d2956_243b_11eb_8ffb_0242ac1c0002row0_col0\" class=\"data row0 col0\" >US</td>\n                        <td id=\"T_991d2956_243b_11eb_8ffb_0242ac1c0002row0_col1\" class=\"data row0 col1\" >2020-11-11 15:25:24</td>\n                        <td id=\"T_991d2956_243b_11eb_8ffb_0242ac1c0002row0_col2\" class=\"data row0 col2\" >40.000000</td>\n                        <td id=\"T_991d2956_243b_11eb_8ffb_0242ac1c0002row0_col3\" class=\"data row0 col3\" >-100.000000</td>\n                        <td id=\"T_991d2956_243b_11eb_8ffb_0242ac1c0002row0_col4\" class=\"data row0 col4\" >10270611.000000</td>\n                        <td id=\"T_991d2956_243b_11eb_8ffb_0242ac1c0002row0_col5\" class=\"data row0 col5\" >239846.000000</td>\n                        <td id=\"T_991d2956_243b_11eb_8ffb_0242ac1c0002row0_col6\" class=\"data row0 col6\" >3961873.000000</td>\n                        <td id=\"T_991d2956_243b_11eb_8ffb_0242ac1c0002row0_col7\" class=\"data row0 col7\" >6068892.000000</td>\n                        <td id=\"T_991d2956_243b_11eb_8ffb_0242ac1c0002row0_col8\" class=\"data row0 col8\" >3117.348126</td>\n                        <td id=\"T_991d2956_243b_11eb_8ffb_0242ac1c0002row0_col9\" class=\"data row0 col9\" >nan</td>\n                        <td id=\"T_991d2956_243b_11eb_8ffb_0242ac1c0002row0_col10\" class=\"data row0 col10\" >nan</td>\n                        <td id=\"T_991d2956_243b_11eb_8ffb_0242ac1c0002row0_col11\" class=\"data row0 col11\" >2.335265</td>\n                        <td id=\"T_991d2956_243b_11eb_8ffb_0242ac1c0002row0_col12\" class=\"data row0 col12\" >840</td>\n                        <td id=\"T_991d2956_243b_11eb_8ffb_0242ac1c0002row0_col13\" class=\"data row0 col13\" >USA</td>\n            </tr>\n            <tr>\n                        <th id=\"T_991d2956_243b_11eb_8ffb_0242ac1c0002level0_row1\" class=\"row_heading level0 row1\" >79</th>\n                        <td id=\"T_991d2956_243b_11eb_8ffb_0242ac1c0002row1_col0\" class=\"data row1 col0\" >India</td>\n                        <td id=\"T_991d2956_243b_11eb_8ffb_0242ac1c0002row1_col1\" class=\"data row1 col1\" >2020-11-11 15:25:24</td>\n                        <td id=\"T_991d2956_243b_11eb_8ffb_0242ac1c0002row1_col2\" class=\"data row1 col2\" >20.593684</td>\n                        <td id=\"T_991d2956_243b_11eb_8ffb_0242ac1c0002row1_col3\" class=\"data row1 col3\" >78.962880</td>\n                        <td id=\"T_991d2956_243b_11eb_8ffb_0242ac1c0002row1_col4\" class=\"data row1 col4\" >8636011.000000</td>\n                        <td id=\"T_991d2956_243b_11eb_8ffb_0242ac1c0002row1_col5\" class=\"data row1 col5\" >127571.000000</td>\n                        <td id=\"T_991d2956_243b_11eb_8ffb_0242ac1c0002row1_col6\" class=\"data row1 col6\" >8013783.000000</td>\n                        <td id=\"T_991d2956_243b_11eb_8ffb_0242ac1c0002row1_col7\" class=\"data row1 col7\" >494657.000000</td>\n                        <td id=\"T_991d2956_243b_11eb_8ffb_0242ac1c0002row1_col8\" class=\"data row1 col8\" >625.795910</td>\n                        <td id=\"T_991d2956_243b_11eb_8ffb_0242ac1c0002row1_col9\" class=\"data row1 col9\" >nan</td>\n                        <td id=\"T_991d2956_243b_11eb_8ffb_0242ac1c0002row1_col10\" class=\"data row1 col10\" >nan</td>\n                        <td id=\"T_991d2956_243b_11eb_8ffb_0242ac1c0002row1_col11\" class=\"data row1 col11\" >1.477198</td>\n                        <td id=\"T_991d2956_243b_11eb_8ffb_0242ac1c0002row1_col12\" class=\"data row1 col12\" >356</td>\n                        <td id=\"T_991d2956_243b_11eb_8ffb_0242ac1c0002row1_col13\" class=\"data row1 col13\" >IND</td>\n            </tr>\n            <tr>\n                        <th id=\"T_991d2956_243b_11eb_8ffb_0242ac1c0002level0_row2\" class=\"row_heading level0 row2\" >23</th>\n                        <td id=\"T_991d2956_243b_11eb_8ffb_0242ac1c0002row2_col0\" class=\"data row2 col0\" >Brazil</td>\n                        <td id=\"T_991d2956_243b_11eb_8ffb_0242ac1c0002row2_col1\" class=\"data row2 col1\" >2020-11-11 15:25:24</td>\n                        <td id=\"T_991d2956_243b_11eb_8ffb_0242ac1c0002row2_col2\" class=\"data row2 col2\" >-14.235000</td>\n                        <td id=\"T_991d2956_243b_11eb_8ffb_0242ac1c0002row2_col3\" class=\"data row2 col3\" >-51.925300</td>\n                        <td id=\"T_991d2956_243b_11eb_8ffb_0242ac1c0002row2_col4\" class=\"data row2 col4\" >5699005.000000</td>\n                        <td id=\"T_991d2956_243b_11eb_8ffb_0242ac1c0002row2_col5\" class=\"data row2 col5\" >162802.000000</td>\n                        <td id=\"T_991d2956_243b_11eb_8ffb_0242ac1c0002row2_col6\" class=\"data row2 col6\" >5183970.000000</td>\n                        <td id=\"T_991d2956_243b_11eb_8ffb_0242ac1c0002row2_col7\" class=\"data row2 col7\" >352233.000000</td>\n                        <td id=\"T_991d2956_243b_11eb_8ffb_0242ac1c0002row2_col8\" class=\"data row2 col8\" >2681.135136</td>\n                        <td id=\"T_991d2956_243b_11eb_8ffb_0242ac1c0002row2_col9\" class=\"data row2 col9\" >nan</td>\n                        <td id=\"T_991d2956_243b_11eb_8ffb_0242ac1c0002row2_col10\" class=\"data row2 col10\" >nan</td>\n                        <td id=\"T_991d2956_243b_11eb_8ffb_0242ac1c0002row2_col11\" class=\"data row2 col11\" >2.856674</td>\n                        <td id=\"T_991d2956_243b_11eb_8ffb_0242ac1c0002row2_col12\" class=\"data row2 col12\" >76</td>\n                        <td id=\"T_991d2956_243b_11eb_8ffb_0242ac1c0002row2_col13\" class=\"data row2 col13\" >BRA</td>\n            </tr>\n            <tr>\n                        <th id=\"T_991d2956_243b_11eb_8ffb_0242ac1c0002level0_row3\" class=\"row_heading level0 row3\" >62</th>\n                        <td id=\"T_991d2956_243b_11eb_8ffb_0242ac1c0002row3_col0\" class=\"data row3 col0\" >France</td>\n                        <td id=\"T_991d2956_243b_11eb_8ffb_0242ac1c0002row3_col1\" class=\"data row3 col1\" >2020-11-11 15:25:24</td>\n                        <td id=\"T_991d2956_243b_11eb_8ffb_0242ac1c0002row3_col2\" class=\"data row3 col2\" >46.227600</td>\n                        <td id=\"T_991d2956_243b_11eb_8ffb_0242ac1c0002row3_col3\" class=\"data row3 col3\" >2.213700</td>\n                        <td id=\"T_991d2956_243b_11eb_8ffb_0242ac1c0002row3_col4\" class=\"data row3 col4\" >1857309.000000</td>\n                        <td id=\"T_991d2956_243b_11eb_8ffb_0242ac1c0002row3_col5\" class=\"data row3 col5\" >41062.000000</td>\n                        <td id=\"T_991d2956_243b_11eb_8ffb_0242ac1c0002row3_col6\" class=\"data row3 col6\" >135216.000000</td>\n                        <td id=\"T_991d2956_243b_11eb_8ffb_0242ac1c0002row3_col7\" class=\"data row3 col7\" >1677400.000000</td>\n                        <td id=\"T_991d2956_243b_11eb_8ffb_0242ac1c0002row3_col8\" class=\"data row3 col8\" >2845.425262</td>\n                        <td id=\"T_991d2956_243b_11eb_8ffb_0242ac1c0002row3_col9\" class=\"data row3 col9\" >nan</td>\n                        <td id=\"T_991d2956_243b_11eb_8ffb_0242ac1c0002row3_col10\" class=\"data row3 col10\" >nan</td>\n                        <td id=\"T_991d2956_243b_11eb_8ffb_0242ac1c0002row3_col11\" class=\"data row3 col11\" >2.210833</td>\n                        <td id=\"T_991d2956_243b_11eb_8ffb_0242ac1c0002row3_col12\" class=\"data row3 col12\" >250</td>\n                        <td id=\"T_991d2956_243b_11eb_8ffb_0242ac1c0002row3_col13\" class=\"data row3 col13\" >FRA</td>\n            </tr>\n            <tr>\n                        <th id=\"T_991d2956_243b_11eb_8ffb_0242ac1c0002level0_row4\" class=\"row_heading level0 row4\" >141</th>\n                        <td id=\"T_991d2956_243b_11eb_8ffb_0242ac1c0002row4_col0\" class=\"data row4 col0\" >Russia</td>\n                        <td id=\"T_991d2956_243b_11eb_8ffb_0242ac1c0002row4_col1\" class=\"data row4 col1\" >2020-11-11 15:25:24</td>\n                        <td id=\"T_991d2956_243b_11eb_8ffb_0242ac1c0002row4_col2\" class=\"data row4 col2\" >61.524000</td>\n                        <td id=\"T_991d2956_243b_11eb_8ffb_0242ac1c0002row4_col3\" class=\"data row4 col3\" >105.318800</td>\n                        <td id=\"T_991d2956_243b_11eb_8ffb_0242ac1c0002row4_col4\" class=\"data row4 col4\" >1822345.000000</td>\n                        <td id=\"T_991d2956_243b_11eb_8ffb_0242ac1c0002row4_col5\" class=\"data row4 col5\" >31326.000000</td>\n                        <td id=\"T_991d2956_243b_11eb_8ffb_0242ac1c0002row4_col6\" class=\"data row4 col6\" >1360049.000000</td>\n                        <td id=\"T_991d2956_243b_11eb_8ffb_0242ac1c0002row4_col7\" class=\"data row4 col7\" >430970.000000</td>\n                        <td id=\"T_991d2956_243b_11eb_8ffb_0242ac1c0002row4_col8\" class=\"data row4 col8\" >1248.742072</td>\n                        <td id=\"T_991d2956_243b_11eb_8ffb_0242ac1c0002row4_col9\" class=\"data row4 col9\" >nan</td>\n                        <td id=\"T_991d2956_243b_11eb_8ffb_0242ac1c0002row4_col10\" class=\"data row4 col10\" >nan</td>\n                        <td id=\"T_991d2956_243b_11eb_8ffb_0242ac1c0002row4_col11\" class=\"data row4 col11\" >1.718994</td>\n                        <td id=\"T_991d2956_243b_11eb_8ffb_0242ac1c0002row4_col12\" class=\"data row4 col12\" >643</td>\n                        <td id=\"T_991d2956_243b_11eb_8ffb_0242ac1c0002row4_col13\" class=\"data row4 col13\" >RUS</td>\n            </tr>\n            <tr>\n                        <th id=\"T_991d2956_243b_11eb_8ffb_0242ac1c0002level0_row5\" class=\"row_heading level0 row5\" >160</th>\n                        <td id=\"T_991d2956_243b_11eb_8ffb_0242ac1c0002row5_col0\" class=\"data row5 col0\" >Spain</td>\n                        <td id=\"T_991d2956_243b_11eb_8ffb_0242ac1c0002row5_col1\" class=\"data row5 col1\" >2020-11-11 15:25:24</td>\n                        <td id=\"T_991d2956_243b_11eb_8ffb_0242ac1c0002row5_col2\" class=\"data row5 col2\" >40.463667</td>\n                        <td id=\"T_991d2956_243b_11eb_8ffb_0242ac1c0002row5_col3\" class=\"data row5 col3\" >-3.749220</td>\n                        <td id=\"T_991d2956_243b_11eb_8ffb_0242ac1c0002row5_col4\" class=\"data row5 col4\" >1381218.000000</td>\n                        <td id=\"T_991d2956_243b_11eb_8ffb_0242ac1c0002row5_col5\" class=\"data row5 col5\" >39345.000000</td>\n                        <td id=\"T_991d2956_243b_11eb_8ffb_0242ac1c0002row5_col6\" class=\"data row5 col6\" >150376.000000</td>\n                        <td id=\"T_991d2956_243b_11eb_8ffb_0242ac1c0002row5_col7\" class=\"data row5 col7\" >1191497.000000</td>\n                        <td id=\"T_991d2956_243b_11eb_8ffb_0242ac1c0002row5_col8\" class=\"data row5 col8\" >2954.174763</td>\n                        <td id=\"T_991d2956_243b_11eb_8ffb_0242ac1c0002row5_col9\" class=\"data row5 col9\" >nan</td>\n                        <td id=\"T_991d2956_243b_11eb_8ffb_0242ac1c0002row5_col10\" class=\"data row5 col10\" >nan</td>\n                        <td id=\"T_991d2956_243b_11eb_8ffb_0242ac1c0002row5_col11\" class=\"data row5 col11\" >2.848573</td>\n                        <td id=\"T_991d2956_243b_11eb_8ffb_0242ac1c0002row5_col12\" class=\"data row5 col12\" >724</td>\n                        <td id=\"T_991d2956_243b_11eb_8ffb_0242ac1c0002row5_col13\" class=\"data row5 col13\" >ESP</td>\n            </tr>\n            <tr>\n                        <th id=\"T_991d2956_243b_11eb_8ffb_0242ac1c0002level0_row6\" class=\"row_heading level0 row6\" >6</th>\n                        <td id=\"T_991d2956_243b_11eb_8ffb_0242ac1c0002row6_col0\" class=\"data row6 col0\" >Argentina</td>\n                        <td id=\"T_991d2956_243b_11eb_8ffb_0242ac1c0002row6_col1\" class=\"data row6 col1\" >2020-11-11 15:25:24</td>\n                        <td id=\"T_991d2956_243b_11eb_8ffb_0242ac1c0002row6_col2\" class=\"data row6 col2\" >-38.416100</td>\n                        <td id=\"T_991d2956_243b_11eb_8ffb_0242ac1c0002row6_col3\" class=\"data row6 col3\" >-63.616700</td>\n                        <td id=\"T_991d2956_243b_11eb_8ffb_0242ac1c0002row6_col4\" class=\"data row6 col4\" >1262476.000000</td>\n                        <td id=\"T_991d2956_243b_11eb_8ffb_0242ac1c0002row6_col5\" class=\"data row6 col5\" >34183.000000</td>\n                        <td id=\"T_991d2956_243b_11eb_8ffb_0242ac1c0002row6_col6\" class=\"data row6 col6\" >1081897.000000</td>\n                        <td id=\"T_991d2956_243b_11eb_8ffb_0242ac1c0002row6_col7\" class=\"data row6 col7\" >146396.000000</td>\n                        <td id=\"T_991d2956_243b_11eb_8ffb_0242ac1c0002row6_col8\" class=\"data row6 col8\" >2793.349476</td>\n                        <td id=\"T_991d2956_243b_11eb_8ffb_0242ac1c0002row6_col9\" class=\"data row6 col9\" >nan</td>\n                        <td id=\"T_991d2956_243b_11eb_8ffb_0242ac1c0002row6_col10\" class=\"data row6 col10\" >nan</td>\n                        <td id=\"T_991d2956_243b_11eb_8ffb_0242ac1c0002row6_col11\" class=\"data row6 col11\" >2.707616</td>\n                        <td id=\"T_991d2956_243b_11eb_8ffb_0242ac1c0002row6_col12\" class=\"data row6 col12\" >32</td>\n                        <td id=\"T_991d2956_243b_11eb_8ffb_0242ac1c0002row6_col13\" class=\"data row6 col13\" >ARG</td>\n            </tr>\n            <tr>\n                        <th id=\"T_991d2956_243b_11eb_8ffb_0242ac1c0002level0_row7\" class=\"row_heading level0 row7\" >180</th>\n                        <td id=\"T_991d2956_243b_11eb_8ffb_0242ac1c0002row7_col0\" class=\"data row7 col0\" >United Kingdom</td>\n                        <td id=\"T_991d2956_243b_11eb_8ffb_0242ac1c0002row7_col1\" class=\"data row7 col1\" >2020-11-11 15:25:24</td>\n                        <td id=\"T_991d2956_243b_11eb_8ffb_0242ac1c0002row7_col2\" class=\"data row7 col2\" >55.000000</td>\n                        <td id=\"T_991d2956_243b_11eb_8ffb_0242ac1c0002row7_col3\" class=\"data row7 col3\" >-3.000000</td>\n                        <td id=\"T_991d2956_243b_11eb_8ffb_0242ac1c0002row7_col4\" class=\"data row7 col4\" >1237226.000000</td>\n                        <td id=\"T_991d2956_243b_11eb_8ffb_0242ac1c0002row7_col5\" class=\"data row7 col5\" >49862.000000</td>\n                        <td id=\"T_991d2956_243b_11eb_8ffb_0242ac1c0002row7_col6\" class=\"data row7 col6\" >3018.000000</td>\n                        <td id=\"T_991d2956_243b_11eb_8ffb_0242ac1c0002row7_col7\" class=\"data row7 col7\" >1184346.000000</td>\n                        <td id=\"T_991d2956_243b_11eb_8ffb_0242ac1c0002row7_col8\" class=\"data row7 col8\" >1822.505269</td>\n                        <td id=\"T_991d2956_243b_11eb_8ffb_0242ac1c0002row7_col9\" class=\"data row7 col9\" >nan</td>\n                        <td id=\"T_991d2956_243b_11eb_8ffb_0242ac1c0002row7_col10\" class=\"data row7 col10\" >nan</td>\n                        <td id=\"T_991d2956_243b_11eb_8ffb_0242ac1c0002row7_col11\" class=\"data row7 col11\" >4.030145</td>\n                        <td id=\"T_991d2956_243b_11eb_8ffb_0242ac1c0002row7_col12\" class=\"data row7 col12\" >826</td>\n                        <td id=\"T_991d2956_243b_11eb_8ffb_0242ac1c0002row7_col13\" class=\"data row7 col13\" >GBR</td>\n            </tr>\n            <tr>\n                        <th id=\"T_991d2956_243b_11eb_8ffb_0242ac1c0002level0_row8\" class=\"row_heading level0 row8\" >37</th>\n                        <td id=\"T_991d2956_243b_11eb_8ffb_0242ac1c0002row8_col0\" class=\"data row8 col0\" >Colombia</td>\n                        <td id=\"T_991d2956_243b_11eb_8ffb_0242ac1c0002row8_col1\" class=\"data row8 col1\" >2020-11-11 15:25:24</td>\n                        <td id=\"T_991d2956_243b_11eb_8ffb_0242ac1c0002row8_col2\" class=\"data row8 col2\" >4.570900</td>\n                        <td id=\"T_991d2956_243b_11eb_8ffb_0242ac1c0002row8_col3\" class=\"data row8 col3\" >-74.297300</td>\n                        <td id=\"T_991d2956_243b_11eb_8ffb_0242ac1c0002row8_col4\" class=\"data row8 col4\" >1155356.000000</td>\n                        <td id=\"T_991d2956_243b_11eb_8ffb_0242ac1c0002row8_col5\" class=\"data row8 col5\" >33128.000000</td>\n                        <td id=\"T_991d2956_243b_11eb_8ffb_0242ac1c0002row8_col6\" class=\"data row8 col6\" >980866.000000</td>\n                        <td id=\"T_991d2956_243b_11eb_8ffb_0242ac1c0002row8_col7\" class=\"data row8 col7\" >64290.000000</td>\n                        <td id=\"T_991d2956_243b_11eb_8ffb_0242ac1c0002row8_col8\" class=\"data row8 col8\" >2270.618151</td>\n                        <td id=\"T_991d2956_243b_11eb_8ffb_0242ac1c0002row8_col9\" class=\"data row8 col9\" >nan</td>\n                        <td id=\"T_991d2956_243b_11eb_8ffb_0242ac1c0002row8_col10\" class=\"data row8 col10\" >nan</td>\n                        <td id=\"T_991d2956_243b_11eb_8ffb_0242ac1c0002row8_col11\" class=\"data row8 col11\" >2.867341</td>\n                        <td id=\"T_991d2956_243b_11eb_8ffb_0242ac1c0002row8_col12\" class=\"data row8 col12\" >170</td>\n                        <td id=\"T_991d2956_243b_11eb_8ffb_0242ac1c0002row8_col13\" class=\"data row8 col13\" >COL</td>\n            </tr>\n            <tr>\n                        <th id=\"T_991d2956_243b_11eb_8ffb_0242ac1c0002level0_row9\" class=\"row_heading level0 row9\" >85</th>\n                        <td id=\"T_991d2956_243b_11eb_8ffb_0242ac1c0002row9_col0\" class=\"data row9 col0\" >Italy</td>\n                        <td id=\"T_991d2956_243b_11eb_8ffb_0242ac1c0002row9_col1\" class=\"data row9 col1\" >2020-11-11 15:25:24</td>\n                        <td id=\"T_991d2956_243b_11eb_8ffb_0242ac1c0002row9_col2\" class=\"data row9 col2\" >41.871900</td>\n                        <td id=\"T_991d2956_243b_11eb_8ffb_0242ac1c0002row9_col3\" class=\"data row9 col3\" >12.567400</td>\n                        <td id=\"T_991d2956_243b_11eb_8ffb_0242ac1c0002row9_col4\" class=\"data row9 col4\" >995463.000000</td>\n                        <td id=\"T_991d2956_243b_11eb_8ffb_0242ac1c0002row9_col5\" class=\"data row9 col5\" >42330.000000</td>\n                        <td id=\"T_991d2956_243b_11eb_8ffb_0242ac1c0002row9_col6\" class=\"data row9 col6\" >363023.000000</td>\n                        <td id=\"T_991d2956_243b_11eb_8ffb_0242ac1c0002row9_col7\" class=\"data row9 col7\" >590110.000000</td>\n                        <td id=\"T_991d2956_243b_11eb_8ffb_0242ac1c0002row9_col8\" class=\"data row9 col8\" >1646.432192</td>\n                        <td id=\"T_991d2956_243b_11eb_8ffb_0242ac1c0002row9_col9\" class=\"data row9 col9\" >nan</td>\n                        <td id=\"T_991d2956_243b_11eb_8ffb_0242ac1c0002row9_col10\" class=\"data row9 col10\" >nan</td>\n                        <td id=\"T_991d2956_243b_11eb_8ffb_0242ac1c0002row9_col11\" class=\"data row9 col11\" >4.252293</td>\n                        <td id=\"T_991d2956_243b_11eb_8ffb_0242ac1c0002row9_col12\" class=\"data row9 col12\" >380</td>\n                        <td id=\"T_991d2956_243b_11eb_8ffb_0242ac1c0002row9_col13\" class=\"data row9 col13\" >ITA</td>\n            </tr>\n    </tbody></table>",
        "text/plain": "<pandas.io.formats.style.Styler at 0x7f914c4aea90>"
       }
      ]
     }
    },
    "e46a73aa406c497ba72d25dfa6d8641c": {
     "model_module": "@jupyter-widgets/base",
     "model_name": "LayoutModel",
     "state": {
      "_model_module": "@jupyter-widgets/base",
      "_model_module_version": "1.2.0",
      "_model_name": "LayoutModel",
      "_view_count": null,
      "_view_module": "@jupyter-widgets/base",
      "_view_module_version": "1.2.0",
      "_view_name": "LayoutView",
      "align_content": null,
      "align_items": null,
      "align_self": null,
      "border": null,
      "bottom": null,
      "display": null,
      "flex": null,
      "flex_flow": null,
      "grid_area": null,
      "grid_auto_columns": null,
      "grid_auto_flow": null,
      "grid_auto_rows": null,
      "grid_column": null,
      "grid_gap": null,
      "grid_row": null,
      "grid_template_areas": null,
      "grid_template_columns": null,
      "grid_template_rows": null,
      "height": null,
      "justify_content": null,
      "justify_items": null,
      "left": null,
      "margin": null,
      "max_height": null,
      "max_width": null,
      "min_height": null,
      "min_width": null,
      "object_fit": null,
      "object_position": null,
      "order": null,
      "overflow": null,
      "overflow_x": null,
      "overflow_y": null,
      "padding": null,
      "right": null,
      "top": null,
      "visibility": null,
      "width": null
     }
    },
    "f4488b853f8c4ebcbe535e8e7851cfbd": {
     "model_module": "@jupyter-widgets/base",
     "model_name": "LayoutModel",
     "state": {
      "_model_module": "@jupyter-widgets/base",
      "_model_module_version": "1.2.0",
      "_model_name": "LayoutModel",
      "_view_count": null,
      "_view_module": "@jupyter-widgets/base",
      "_view_module_version": "1.2.0",
      "_view_name": "LayoutView",
      "align_content": null,
      "align_items": null,
      "align_self": null,
      "border": null,
      "bottom": null,
      "display": null,
      "flex": null,
      "flex_flow": null,
      "grid_area": null,
      "grid_auto_columns": null,
      "grid_auto_flow": null,
      "grid_auto_rows": null,
      "grid_column": null,
      "grid_gap": null,
      "grid_row": null,
      "grid_template_areas": null,
      "grid_template_columns": null,
      "grid_template_rows": null,
      "height": null,
      "justify_content": null,
      "justify_items": null,
      "left": null,
      "margin": null,
      "max_height": null,
      "max_width": null,
      "min_height": null,
      "min_width": null,
      "object_fit": null,
      "object_position": null,
      "order": null,
      "overflow": null,
      "overflow_x": null,
      "overflow_y": null,
      "padding": null,
      "right": null,
      "top": null,
      "visibility": null,
      "width": null
     }
    },
    "f46a76bd8b4a47c89adde521d830945f": {
     "model_module": "@jupyter-widgets/base",
     "model_name": "LayoutModel",
     "state": {
      "_model_module": "@jupyter-widgets/base",
      "_model_module_version": "1.2.0",
      "_model_name": "LayoutModel",
      "_view_count": null,
      "_view_module": "@jupyter-widgets/base",
      "_view_module_version": "1.2.0",
      "_view_name": "LayoutView",
      "align_content": null,
      "align_items": null,
      "align_self": null,
      "border": "solid 2px green",
      "bottom": null,
      "display": "none",
      "flex": null,
      "flex_flow": null,
      "grid_area": null,
      "grid_auto_columns": null,
      "grid_auto_flow": null,
      "grid_auto_rows": null,
      "grid_column": null,
      "grid_gap": null,
      "grid_row": null,
      "grid_template_areas": null,
      "grid_template_columns": null,
      "grid_template_rows": null,
      "height": null,
      "justify_content": null,
      "justify_items": null,
      "left": null,
      "margin": null,
      "max_height": null,
      "max_width": null,
      "min_height": null,
      "min_width": null,
      "object_fit": null,
      "object_position": null,
      "order": null,
      "overflow": null,
      "overflow_x": null,
      "overflow_y": null,
      "padding": null,
      "right": null,
      "top": null,
      "visibility": null,
      "width": null
     }
    },
    "f5b70419a0bf4df29a091cd1a41e0893": {
     "model_module": "@jupyter-widgets/output",
     "model_name": "OutputModel",
     "state": {
      "_dom_classes": [],
      "_model_module": "@jupyter-widgets/output",
      "_model_module_version": "1.0.0",
      "_model_name": "OutputModel",
      "_view_count": null,
      "_view_module": "@jupyter-widgets/output",
      "_view_module_version": "1.0.0",
      "_view_name": "OutputView",
      "layout": "IPY_MODEL_431b8679501f407caefe5dffbaef93cb",
      "msg_id": "",
      "outputs": [
       {
        "metadata": {
         "tags": []
        },
        "output_type": "display_data",
        "text/html": "<html>\n<head><meta charset=\"utf-8\" /></head>\n<body>\n    <div>\n            <script src=\"https://cdnjs.cloudflare.com/ajax/libs/mathjax/2.7.5/MathJax.js?config=TeX-AMS-MML_SVG\"></script><script type=\"text/javascript\">if (window.MathJax) {MathJax.Hub.Config({SVG: {font: \"STIX-Web\"}});}</script>\n                <script type=\"text/javascript\">window.PlotlyConfig = {MathJaxConfig: 'local'};</script>\n        <script src=\"https://cdn.plot.ly/plotly-latest.min.js\"></script>    \n            <div id=\"b3e3c84a-dfe4-4013-88a8-e573aaecc4a5\" class=\"plotly-graph-div\" style=\"height:525px; width:700px;\"></div>\n            <script type=\"text/javascript\">\n                \n                    window.PLOTLYENV=window.PLOTLYENV || {};\n                    \n                if (document.getElementById(\"b3e3c84a-dfe4-4013-88a8-e573aaecc4a5\")) {\n                    Plotly.newPlot(\n                        'b3e3c84a-dfe4-4013-88a8-e573aaecc4a5',\n                        [{\"hoverlabel\": {\"namelength\": 0}, \"hovertemplate\": \"<b>%{hovertext}</b><br><br>country=%{x}<br>deaths=%{marker.size}\", \"hovertext\": [\"US\"], \"legendgroup\": \"country=US\", \"marker\": {\"color\": \"#636efa\", \"size\": [239846.0], \"sizemode\": \"area\", \"sizeref\": 66.62388888888889, \"symbol\": \"circle\"}, \"mode\": \"markers\", \"name\": \"country=US\", \"showlegend\": true, \"type\": \"scatter\", \"x\": [\"US\"], \"xaxis\": \"x\", \"y\": [239846.0], \"yaxis\": \"y\"}, {\"hoverlabel\": {\"namelength\": 0}, \"hovertemplate\": \"<b>%{hovertext}</b><br><br>country=%{x}<br>deaths=%{marker.size}\", \"hovertext\": [\"Brazil\"], \"legendgroup\": \"country=Brazil\", \"marker\": {\"color\": \"#EF553B\", \"size\": [162802.0], \"sizemode\": \"area\", \"sizeref\": 66.62388888888889, \"symbol\": \"circle\"}, \"mode\": \"markers\", \"name\": \"country=Brazil\", \"showlegend\": true, \"type\": \"scatter\", \"x\": [\"Brazil\"], \"xaxis\": \"x\", \"y\": [162802.0], \"yaxis\": \"y\"}, {\"hoverlabel\": {\"namelength\": 0}, \"hovertemplate\": \"<b>%{hovertext}</b><br><br>country=%{x}<br>deaths=%{marker.size}\", \"hovertext\": [\"India\"], \"legendgroup\": \"country=India\", \"marker\": {\"color\": \"#00cc96\", \"size\": [127571.0], \"sizemode\": \"area\", \"sizeref\": 66.62388888888889, \"symbol\": \"circle\"}, \"mode\": \"markers\", \"name\": \"country=India\", \"showlegend\": true, \"type\": \"scatter\", \"x\": [\"India\"], \"xaxis\": \"x\", \"y\": [127571.0], \"yaxis\": \"y\"}, {\"hoverlabel\": {\"namelength\": 0}, \"hovertemplate\": \"<b>%{hovertext}</b><br><br>country=%{x}<br>deaths=%{marker.size}\", \"hovertext\": [\"Mexico\"], \"legendgroup\": \"country=Mexico\", \"marker\": {\"color\": \"#ab63fa\", \"size\": [95842.0], \"sizemode\": \"area\", \"sizeref\": 66.62388888888889, \"symbol\": \"circle\"}, \"mode\": \"markers\", \"name\": \"country=Mexico\", \"showlegend\": true, \"type\": \"scatter\", \"x\": [\"Mexico\"], \"xaxis\": \"x\", \"y\": [95842.0], \"yaxis\": \"y\"}, {\"hoverlabel\": {\"namelength\": 0}, \"hovertemplate\": \"<b>%{hovertext}</b><br><br>country=%{x}<br>deaths=%{marker.size}\", \"hovertext\": [\"United Kingdom\"], \"legendgroup\": \"country=United Kingdom\", \"marker\": {\"color\": \"#FFA15A\", \"size\": [49862.0], \"sizemode\": \"area\", \"sizeref\": 66.62388888888889, \"symbol\": \"circle\"}, \"mode\": \"markers\", \"name\": \"country=United Kingdom\", \"showlegend\": true, \"type\": \"scatter\", \"x\": [\"United Kingdom\"], \"xaxis\": \"x\", \"y\": [49862.0], \"yaxis\": \"y\"}, {\"hoverlabel\": {\"namelength\": 0}, \"hovertemplate\": \"<b>%{hovertext}</b><br><br>country=%{x}<br>deaths=%{marker.size}\", \"hovertext\": [\"Italy\"], \"legendgroup\": \"country=Italy\", \"marker\": {\"color\": \"#19d3f3\", \"size\": [42330.0], \"sizemode\": \"area\", \"sizeref\": 66.62388888888889, \"symbol\": \"circle\"}, \"mode\": \"markers\", \"name\": \"country=Italy\", \"showlegend\": true, \"type\": \"scatter\", \"x\": [\"Italy\"], \"xaxis\": \"x\", \"y\": [42330.0], \"yaxis\": \"y\"}, {\"hoverlabel\": {\"namelength\": 0}, \"hovertemplate\": \"<b>%{hovertext}</b><br><br>country=%{x}<br>deaths=%{marker.size}\", \"hovertext\": [\"France\"], \"legendgroup\": \"country=France\", \"marker\": {\"color\": \"#FF6692\", \"size\": [41062.0], \"sizemode\": \"area\", \"sizeref\": 66.62388888888889, \"symbol\": \"circle\"}, \"mode\": \"markers\", \"name\": \"country=France\", \"showlegend\": true, \"type\": \"scatter\", \"x\": [\"France\"], \"xaxis\": \"x\", \"y\": [41062.0], \"yaxis\": \"y\"}, {\"hoverlabel\": {\"namelength\": 0}, \"hovertemplate\": \"<b>%{hovertext}</b><br><br>country=%{x}<br>deaths=%{marker.size}\", \"hovertext\": [\"Iran\"], \"legendgroup\": \"country=Iran\", \"marker\": {\"color\": \"#B6E880\", \"size\": [39664.0], \"sizemode\": \"area\", \"sizeref\": 66.62388888888889, \"symbol\": \"circle\"}, \"mode\": \"markers\", \"name\": \"country=Iran\", \"showlegend\": true, \"type\": \"scatter\", \"x\": [\"Iran\"], \"xaxis\": \"x\", \"y\": [39664.0], \"yaxis\": \"y\"}, {\"hoverlabel\": {\"namelength\": 0}, \"hovertemplate\": \"<b>%{hovertext}</b><br><br>country=%{x}<br>deaths=%{marker.size}\", \"hovertext\": [\"Spain\"], \"legendgroup\": \"country=Spain\", \"marker\": {\"color\": \"#FF97FF\", \"size\": [39345.0], \"sizemode\": \"area\", \"sizeref\": 66.62388888888889, \"symbol\": \"circle\"}, \"mode\": \"markers\", \"name\": \"country=Spain\", \"showlegend\": true, \"type\": \"scatter\", \"x\": [\"Spain\"], \"xaxis\": \"x\", \"y\": [39345.0], \"yaxis\": \"y\"}, {\"hoverlabel\": {\"namelength\": 0}, \"hovertemplate\": \"<b>%{hovertext}</b><br><br>country=%{x}<br>deaths=%{marker.size}\", \"hovertext\": [\"Peru\"], \"legendgroup\": \"country=Peru\", \"marker\": {\"color\": \"#FECB52\", \"size\": [34992.0], \"sizemode\": \"area\", \"sizeref\": 66.62388888888889, \"symbol\": \"circle\"}, \"mode\": \"markers\", \"name\": \"country=Peru\", \"showlegend\": true, \"type\": \"scatter\", \"x\": [\"Peru\"], \"xaxis\": \"x\", \"y\": [34992.0], \"yaxis\": \"y\"}],\n                        {\"legend\": {\"itemsizing\": \"constant\", \"tracegroupgap\": 0}, \"margin\": {\"t\": 60}, \"template\": {\"data\": {\"bar\": [{\"error_x\": {\"color\": \"#2a3f5f\"}, \"error_y\": {\"color\": \"#2a3f5f\"}, \"marker\": {\"line\": {\"color\": \"#E5ECF6\", \"width\": 0.5}}, \"type\": \"bar\"}], \"barpolar\": [{\"marker\": {\"line\": {\"color\": \"#E5ECF6\", \"width\": 0.5}}, \"type\": \"barpolar\"}], \"carpet\": [{\"aaxis\": {\"endlinecolor\": \"#2a3f5f\", \"gridcolor\": \"white\", \"linecolor\": \"white\", \"minorgridcolor\": \"white\", \"startlinecolor\": \"#2a3f5f\"}, \"baxis\": {\"endlinecolor\": \"#2a3f5f\", \"gridcolor\": \"white\", \"linecolor\": \"white\", \"minorgridcolor\": \"white\", \"startlinecolor\": \"#2a3f5f\"}, \"type\": \"carpet\"}], \"choropleth\": [{\"colorbar\": {\"outlinewidth\": 0, \"ticks\": \"\"}, \"type\": \"choropleth\"}], \"contour\": [{\"colorbar\": {\"outlinewidth\": 0, \"ticks\": \"\"}, \"colorscale\": [[0.0, \"#0d0887\"], [0.1111111111111111, \"#46039f\"], [0.2222222222222222, \"#7201a8\"], [0.3333333333333333, \"#9c179e\"], [0.4444444444444444, \"#bd3786\"], [0.5555555555555556, \"#d8576b\"], [0.6666666666666666, \"#ed7953\"], [0.7777777777777778, \"#fb9f3a\"], [0.8888888888888888, \"#fdca26\"], [1.0, \"#f0f921\"]], \"type\": \"contour\"}], \"contourcarpet\": [{\"colorbar\": {\"outlinewidth\": 0, \"ticks\": \"\"}, \"type\": \"contourcarpet\"}], \"heatmap\": [{\"colorbar\": {\"outlinewidth\": 0, \"ticks\": \"\"}, \"colorscale\": [[0.0, \"#0d0887\"], [0.1111111111111111, \"#46039f\"], [0.2222222222222222, \"#7201a8\"], [0.3333333333333333, \"#9c179e\"], [0.4444444444444444, \"#bd3786\"], [0.5555555555555556, \"#d8576b\"], [0.6666666666666666, \"#ed7953\"], [0.7777777777777778, \"#fb9f3a\"], [0.8888888888888888, \"#fdca26\"], [1.0, \"#f0f921\"]], \"type\": \"heatmap\"}], \"heatmapgl\": [{\"colorbar\": {\"outlinewidth\": 0, \"ticks\": \"\"}, \"colorscale\": [[0.0, \"#0d0887\"], [0.1111111111111111, \"#46039f\"], [0.2222222222222222, \"#7201a8\"], [0.3333333333333333, \"#9c179e\"], [0.4444444444444444, \"#bd3786\"], [0.5555555555555556, \"#d8576b\"], [0.6666666666666666, \"#ed7953\"], [0.7777777777777778, \"#fb9f3a\"], [0.8888888888888888, \"#fdca26\"], [1.0, \"#f0f921\"]], \"type\": \"heatmapgl\"}], \"histogram\": [{\"marker\": {\"colorbar\": {\"outlinewidth\": 0, \"ticks\": \"\"}}, \"type\": \"histogram\"}], \"histogram2d\": [{\"colorbar\": {\"outlinewidth\": 0, \"ticks\": \"\"}, \"colorscale\": [[0.0, \"#0d0887\"], [0.1111111111111111, \"#46039f\"], [0.2222222222222222, \"#7201a8\"], [0.3333333333333333, \"#9c179e\"], [0.4444444444444444, \"#bd3786\"], [0.5555555555555556, \"#d8576b\"], [0.6666666666666666, \"#ed7953\"], [0.7777777777777778, \"#fb9f3a\"], [0.8888888888888888, \"#fdca26\"], [1.0, \"#f0f921\"]], \"type\": \"histogram2d\"}], \"histogram2dcontour\": [{\"colorbar\": {\"outlinewidth\": 0, \"ticks\": \"\"}, \"colorscale\": [[0.0, \"#0d0887\"], [0.1111111111111111, \"#46039f\"], [0.2222222222222222, \"#7201a8\"], [0.3333333333333333, \"#9c179e\"], [0.4444444444444444, \"#bd3786\"], [0.5555555555555556, \"#d8576b\"], [0.6666666666666666, \"#ed7953\"], [0.7777777777777778, \"#fb9f3a\"], [0.8888888888888888, \"#fdca26\"], [1.0, \"#f0f921\"]], \"type\": \"histogram2dcontour\"}], \"mesh3d\": [{\"colorbar\": {\"outlinewidth\": 0, \"ticks\": \"\"}, \"type\": \"mesh3d\"}], \"parcoords\": [{\"line\": {\"colorbar\": {\"outlinewidth\": 0, \"ticks\": \"\"}}, \"type\": \"parcoords\"}], \"pie\": [{\"automargin\": true, \"type\": \"pie\"}], \"scatter\": [{\"marker\": {\"colorbar\": {\"outlinewidth\": 0, \"ticks\": \"\"}}, \"type\": \"scatter\"}], \"scatter3d\": [{\"line\": {\"colorbar\": {\"outlinewidth\": 0, \"ticks\": \"\"}}, \"marker\": {\"colorbar\": {\"outlinewidth\": 0, \"ticks\": \"\"}}, \"type\": \"scatter3d\"}], \"scattercarpet\": [{\"marker\": {\"colorbar\": {\"outlinewidth\": 0, \"ticks\": \"\"}}, \"type\": \"scattercarpet\"}], \"scattergeo\": [{\"marker\": {\"colorbar\": {\"outlinewidth\": 0, \"ticks\": \"\"}}, \"type\": \"scattergeo\"}], \"scattergl\": [{\"marker\": {\"colorbar\": {\"outlinewidth\": 0, \"ticks\": \"\"}}, \"type\": \"scattergl\"}], \"scattermapbox\": [{\"marker\": {\"colorbar\": {\"outlinewidth\": 0, \"ticks\": \"\"}}, \"type\": \"scattermapbox\"}], \"scatterpolar\": [{\"marker\": {\"colorbar\": {\"outlinewidth\": 0, \"ticks\": \"\"}}, \"type\": \"scatterpolar\"}], \"scatterpolargl\": [{\"marker\": {\"colorbar\": {\"outlinewidth\": 0, \"ticks\": \"\"}}, \"type\": \"scatterpolargl\"}], \"scatterternary\": [{\"marker\": {\"colorbar\": {\"outlinewidth\": 0, \"ticks\": \"\"}}, \"type\": \"scatterternary\"}], \"surface\": [{\"colorbar\": {\"outlinewidth\": 0, \"ticks\": \"\"}, \"colorscale\": [[0.0, \"#0d0887\"], [0.1111111111111111, \"#46039f\"], [0.2222222222222222, \"#7201a8\"], [0.3333333333333333, \"#9c179e\"], [0.4444444444444444, \"#bd3786\"], [0.5555555555555556, \"#d8576b\"], [0.6666666666666666, \"#ed7953\"], [0.7777777777777778, \"#fb9f3a\"], [0.8888888888888888, \"#fdca26\"], [1.0, \"#f0f921\"]], \"type\": \"surface\"}], \"table\": [{\"cells\": {\"fill\": {\"color\": \"#EBF0F8\"}, \"line\": {\"color\": \"white\"}}, \"header\": {\"fill\": {\"color\": \"#C8D4E3\"}, \"line\": {\"color\": \"white\"}}, \"type\": \"table\"}]}, \"layout\": {\"annotationdefaults\": {\"arrowcolor\": \"#2a3f5f\", \"arrowhead\": 0, \"arrowwidth\": 1}, \"coloraxis\": {\"colorbar\": {\"outlinewidth\": 0, \"ticks\": \"\"}}, \"colorscale\": {\"diverging\": [[0, \"#8e0152\"], [0.1, \"#c51b7d\"], [0.2, \"#de77ae\"], [0.3, \"#f1b6da\"], [0.4, \"#fde0ef\"], [0.5, \"#f7f7f7\"], [0.6, \"#e6f5d0\"], [0.7, \"#b8e186\"], [0.8, \"#7fbc41\"], [0.9, \"#4d9221\"], [1, \"#276419\"]], \"sequential\": [[0.0, \"#0d0887\"], [0.1111111111111111, \"#46039f\"], [0.2222222222222222, \"#7201a8\"], [0.3333333333333333, \"#9c179e\"], [0.4444444444444444, \"#bd3786\"], [0.5555555555555556, \"#d8576b\"], [0.6666666666666666, \"#ed7953\"], [0.7777777777777778, \"#fb9f3a\"], [0.8888888888888888, \"#fdca26\"], [1.0, \"#f0f921\"]], \"sequentialminus\": [[0.0, \"#0d0887\"], [0.1111111111111111, \"#46039f\"], [0.2222222222222222, \"#7201a8\"], [0.3333333333333333, \"#9c179e\"], [0.4444444444444444, \"#bd3786\"], [0.5555555555555556, \"#d8576b\"], [0.6666666666666666, \"#ed7953\"], [0.7777777777777778, \"#fb9f3a\"], [0.8888888888888888, \"#fdca26\"], [1.0, \"#f0f921\"]]}, \"colorway\": [\"#636efa\", \"#EF553B\", \"#00cc96\", \"#ab63fa\", \"#FFA15A\", \"#19d3f3\", \"#FF6692\", \"#B6E880\", \"#FF97FF\", \"#FECB52\"], \"font\": {\"color\": \"#2a3f5f\"}, \"geo\": {\"bgcolor\": \"white\", \"lakecolor\": \"white\", \"landcolor\": \"#E5ECF6\", \"showlakes\": true, \"showland\": true, \"subunitcolor\": \"white\"}, \"hoverlabel\": {\"align\": \"left\"}, \"hovermode\": \"closest\", \"mapbox\": {\"style\": \"light\"}, \"paper_bgcolor\": \"white\", \"plot_bgcolor\": \"#E5ECF6\", \"polar\": {\"angularaxis\": {\"gridcolor\": \"white\", \"linecolor\": \"white\", \"ticks\": \"\"}, \"bgcolor\": \"#E5ECF6\", \"radialaxis\": {\"gridcolor\": \"white\", \"linecolor\": \"white\", \"ticks\": \"\"}}, \"scene\": {\"xaxis\": {\"backgroundcolor\": \"#E5ECF6\", \"gridcolor\": \"white\", \"gridwidth\": 2, \"linecolor\": \"white\", \"showbackground\": true, \"ticks\": \"\", \"zerolinecolor\": \"white\"}, \"yaxis\": {\"backgroundcolor\": \"#E5ECF6\", \"gridcolor\": \"white\", \"gridwidth\": 2, \"linecolor\": \"white\", \"showbackground\": true, \"ticks\": \"\", \"zerolinecolor\": \"white\"}, \"zaxis\": {\"backgroundcolor\": \"#E5ECF6\", \"gridcolor\": \"white\", \"gridwidth\": 2, \"linecolor\": \"white\", \"showbackground\": true, \"ticks\": \"\", \"zerolinecolor\": \"white\"}}, \"shapedefaults\": {\"line\": {\"color\": \"#2a3f5f\"}}, \"ternary\": {\"aaxis\": {\"gridcolor\": \"white\", \"linecolor\": \"white\", \"ticks\": \"\"}, \"baxis\": {\"gridcolor\": \"white\", \"linecolor\": \"white\", \"ticks\": \"\"}, \"bgcolor\": \"#E5ECF6\", \"caxis\": {\"gridcolor\": \"white\", \"linecolor\": \"white\", \"ticks\": \"\"}}, \"title\": {\"x\": 0.05}, \"xaxis\": {\"automargin\": true, \"gridcolor\": \"white\", \"linecolor\": \"white\", \"ticks\": \"\", \"title\": {\"standoff\": 15}, \"zerolinecolor\": \"white\", \"zerolinewidth\": 2}, \"yaxis\": {\"automargin\": true, \"gridcolor\": \"white\", \"linecolor\": \"white\", \"ticks\": \"\", \"title\": {\"standoff\": 15}, \"zerolinecolor\": \"white\", \"zerolinewidth\": 2}}}, \"title\": {\"text\": \"10 Worst hit countries\"}, \"width\": 700, \"xaxis\": {\"anchor\": \"y\", \"categoryarray\": [\"US\", \"Brazil\", \"India\", \"Mexico\", \"United Kingdom\", \"Italy\", \"France\", \"Iran\", \"Spain\", \"Peru\"], \"categoryorder\": \"array\", \"domain\": [0.0, 1.0], \"title\": {\"text\": \"Countries\"}}, \"yaxis\": {\"anchor\": \"x\", \"domain\": [0.0, 1.0], \"title\": {\"text\": \"Deceased\"}}},\n                        {\"responsive\": true}\n                    ).then(function(){\n                            \nvar gd = document.getElementById('b3e3c84a-dfe4-4013-88a8-e573aaecc4a5');\nvar x = new MutationObserver(function (mutations, observer) {{\n        var display = window.getComputedStyle(gd).display;\n        if (!display || display === 'none') {{\n            console.log([gd, 'removed!']);\n            Plotly.purge(gd);\n            observer.disconnect();\n        }}\n}});\n\n// Listen for the removal of the full notebook cells\nvar notebookContainer = gd.closest('#notebook-container');\nif (notebookContainer) {{\n    x.observe(notebookContainer, {childList: true});\n}}\n\n// Listen for the clearing of the current output cell\nvar outputEl = gd.closest('.output');\nif (outputEl) {{\n    x.observe(outputEl, {childList: true});\n}}\n\n                        })\n                };\n                \n            </script>\n        </div>\n</body>\n</html>"
       }
      ]
     }
    },
    "fc5a92f12ab54e6d8e72113fe05eb1e4": {
     "model_module": "@jupyter-widgets/base",
     "model_name": "LayoutModel",
     "state": {
      "_model_module": "@jupyter-widgets/base",
      "_model_module_version": "1.2.0",
      "_model_name": "LayoutModel",
      "_view_count": null,
      "_view_module": "@jupyter-widgets/base",
      "_view_module_version": "1.2.0",
      "_view_name": "LayoutView",
      "align_content": null,
      "align_items": null,
      "align_self": null,
      "border": null,
      "bottom": null,
      "display": null,
      "flex": null,
      "flex_flow": null,
      "grid_area": null,
      "grid_auto_columns": null,
      "grid_auto_flow": null,
      "grid_auto_rows": null,
      "grid_column": null,
      "grid_gap": null,
      "grid_row": null,
      "grid_template_areas": null,
      "grid_template_columns": null,
      "grid_template_rows": null,
      "height": null,
      "justify_content": null,
      "justify_items": null,
      "left": null,
      "margin": null,
      "max_height": null,
      "max_width": null,
      "min_height": null,
      "min_width": null,
      "object_fit": null,
      "object_position": null,
      "order": null,
      "overflow": null,
      "overflow_x": null,
      "overflow_y": null,
      "padding": null,
      "right": null,
      "top": null,
      "visibility": null,
      "width": null
     }
    },
    "fe011bbff42041e0b5168f461a0cdc9b": {
     "model_module": "@jupyter-widgets/base",
     "model_name": "LayoutModel",
     "state": {
      "_model_module": "@jupyter-widgets/base",
      "_model_module_version": "1.2.0",
      "_model_name": "LayoutModel",
      "_view_count": null,
      "_view_module": "@jupyter-widgets/base",
      "_view_module_version": "1.2.0",
      "_view_name": "LayoutView",
      "align_content": null,
      "align_items": null,
      "align_self": null,
      "border": "solid 2px green",
      "bottom": null,
      "display": "none",
      "flex": null,
      "flex_flow": null,
      "grid_area": null,
      "grid_auto_columns": null,
      "grid_auto_flow": null,
      "grid_auto_rows": null,
      "grid_column": null,
      "grid_gap": null,
      "grid_row": null,
      "grid_template_areas": null,
      "grid_template_columns": null,
      "grid_template_rows": null,
      "height": null,
      "justify_content": null,
      "justify_items": null,
      "left": null,
      "margin": null,
      "max_height": null,
      "max_width": null,
      "min_height": null,
      "min_width": null,
      "object_fit": null,
      "object_position": null,
      "order": null,
      "overflow": null,
      "overflow_x": null,
      "overflow_y": null,
      "padding": null,
      "right": null,
      "top": null,
      "visibility": null,
      "width": null
     }
    }
   }
  }
 },
 "nbformat": 4,
 "nbformat_minor": 1
}
